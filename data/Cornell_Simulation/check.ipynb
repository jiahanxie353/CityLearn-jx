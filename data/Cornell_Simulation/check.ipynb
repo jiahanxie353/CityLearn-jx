{
 "cells": [
  {
   "cell_type": "code",
   "execution_count": 1,
   "outputs": [],
   "source": [
    "import numpy as np\n",
    "import pandas as pd"
   ],
   "metadata": {
    "collapsed": false,
    "pycharm": {
     "name": "#%%\n"
    }
   }
  },
  {
   "cell_type": "code",
   "execution_count": 4,
   "outputs": [],
   "source": [
    "df_1 = pd.read_csv(\"Building_1.csv\")\n",
    "df_2 = pd.read_csv(\"Building_2.csv\")\n",
    "df_3 = pd.read_csv(\"Building_3.csv\")\n",
    "df_4 = pd.read_csv(\"Building_4.csv\")\n",
    "df_5 = pd.read_csv(\"Building_5.csv\")\n",
    "df_6 = pd.read_csv(\"Building_6.csv\")\n",
    "df_7 = pd.read_csv(\"Building_7.csv\")\n",
    "df_8 = pd.read_csv(\"Building_8.csv\")\n",
    "df_9 = pd.read_csv(\"Building_9.csv\")"
   ],
   "metadata": {
    "collapsed": false,
    "pycharm": {
     "name": "#%%\n"
    }
   }
  },
  {
   "cell_type": "code",
   "execution_count": 10,
   "outputs": [
    {
     "data": {
      "text/plain": "Month                                            0\nHour                                             0\nDay Type                                         0\nDaylight Savings Status                          0\nIndoor Temperature [C]                           0\nAverage Unmet Cooling Setpoint Difference [C]    0\nIndoor Relative Humidity [%]                     0\nEquipment Electric Power [kWh]                   0\nDHW Heating [kWh]                                0\nCooling Load [kWh]                               0\ndtype: int64"
     },
     "execution_count": 10,
     "metadata": {},
     "output_type": "execute_result"
    }
   ],
   "source": [
    "df_1.isna().sum()"
   ],
   "metadata": {
    "collapsed": false,
    "pycharm": {
     "name": "#%%\n"
    }
   }
  },
  {
   "cell_type": "code",
   "execution_count": 11,
   "outputs": [
    {
     "data": {
      "text/plain": "Month                                            0\nHour                                             0\nDay Type                                         0\nDaylight Savings Status                          0\nIndoor Temperature [C]                           0\nAverage Unmet Cooling Setpoint Difference [C]    0\nIndoor Relative Humidity [%]                     0\nEquipment Electric Power [kWh]                   0\nDHW Heating [kWh]                                0\nCooling Load [kWh]                               0\ndtype: int64"
     },
     "execution_count": 11,
     "metadata": {},
     "output_type": "execute_result"
    }
   ],
   "source": [
    "df_2.isna().sum()"
   ],
   "metadata": {
    "collapsed": false,
    "pycharm": {
     "name": "#%%\n"
    }
   }
  },
  {
   "cell_type": "code",
   "execution_count": 12,
   "outputs": [
    {
     "data": {
      "text/plain": "Month                                            0\nHour                                             0\nDay Type                                         0\nDaylight Savings Status                          0\nIndoor Temperature [C]                           0\nAverage Unmet Cooling Setpoint Difference [C]    0\nIndoor Relative Humidity [%]                     0\nEquipment Electric Power [kWh]                   0\nDHW Heating [kWh]                                0\nCooling Load [kWh]                               0\ndtype: int64"
     },
     "execution_count": 12,
     "metadata": {},
     "output_type": "execute_result"
    }
   ],
   "source": [
    "df_3.isna().sum()"
   ],
   "metadata": {
    "collapsed": false,
    "pycharm": {
     "name": "#%%\n"
    }
   }
  },
  {
   "cell_type": "code",
   "execution_count": 13,
   "outputs": [
    {
     "data": {
      "text/plain": "Month                                            0\nHour                                             0\nDay Type                                         0\nDaylight Savings Status                          0\nIndoor Temperature [C]                           0\nAverage Unmet Cooling Setpoint Difference [C]    0\nIndoor Relative Humidity [%]                     0\nEquipment Electric Power [kWh]                   0\nDHW Heating [kWh]                                0\nCooling Load [kWh]                               0\ndtype: int64"
     },
     "execution_count": 13,
     "metadata": {},
     "output_type": "execute_result"
    }
   ],
   "source": [
    "df_4.isna().sum()"
   ],
   "metadata": {
    "collapsed": false,
    "pycharm": {
     "name": "#%%\n"
    }
   }
  },
  {
   "cell_type": "code",
   "execution_count": 14,
   "outputs": [
    {
     "data": {
      "text/plain": "Month                                            0\nHour                                             0\nDay Type                                         0\nDaylight Savings Status                          0\nIndoor Temperature [C]                           0\nAverage Unmet Cooling Setpoint Difference [C]    0\nIndoor Relative Humidity [%]                     0\nEquipment Electric Power [kWh]                   0\nDHW Heating [kWh]                                0\nCooling Load [kWh]                               0\ndtype: int64"
     },
     "execution_count": 14,
     "metadata": {},
     "output_type": "execute_result"
    }
   ],
   "source": [
    "df_5.isna().sum()"
   ],
   "metadata": {
    "collapsed": false,
    "pycharm": {
     "name": "#%%\n"
    }
   }
  },
  {
   "cell_type": "code",
   "execution_count": 15,
   "outputs": [
    {
     "data": {
      "text/plain": "Month                                            0\nHour                                             0\nDay Type                                         0\nDaylight Savings Status                          0\nIndoor Temperature [C]                           0\nAverage Unmet Cooling Setpoint Difference [C]    0\nIndoor Relative Humidity [%]                     0\nEquipment Electric Power [kWh]                   0\nDHW Heating [kWh]                                0\nCooling Load [kWh]                               0\ndtype: int64"
     },
     "execution_count": 15,
     "metadata": {},
     "output_type": "execute_result"
    }
   ],
   "source": [
    "df_6.isna().sum()"
   ],
   "metadata": {
    "collapsed": false,
    "pycharm": {
     "name": "#%%\n"
    }
   }
  },
  {
   "cell_type": "code",
   "execution_count": 16,
   "outputs": [
    {
     "data": {
      "text/plain": "Month                                            0\nHour                                             0\nDay Type                                         0\nDaylight Savings Status                          0\nIndoor Temperature [C]                           0\nAverage Unmet Cooling Setpoint Difference [C]    0\nIndoor Relative Humidity [%]                     0\nEquipment Electric Power [kWh]                   0\nDHW Heating [kWh]                                0\nCooling Load [kWh]                               1\ndtype: int64"
     },
     "execution_count": 16,
     "metadata": {},
     "output_type": "execute_result"
    }
   ],
   "source": [
    "df_7.isna().sum()"
   ],
   "metadata": {
    "collapsed": false,
    "pycharm": {
     "name": "#%%\n"
    }
   }
  },
  {
   "cell_type": "code",
   "execution_count": 17,
   "outputs": [
    {
     "data": {
      "text/plain": "Month                                            0\nHour                                             0\nDay Type                                         0\nDaylight Savings Status                          0\nIndoor Temperature [C]                           0\nAverage Unmet Cooling Setpoint Difference [C]    0\nIndoor Relative Humidity [%]                     0\nEquipment Electric Power [kWh]                   0\nDHW Heating [kWh]                                0\nCooling Load [kWh]                               0\ndtype: int64"
     },
     "execution_count": 17,
     "metadata": {},
     "output_type": "execute_result"
    }
   ],
   "source": [
    "df_8.isna().sum()"
   ],
   "metadata": {
    "collapsed": false,
    "pycharm": {
     "name": "#%%\n"
    }
   }
  },
  {
   "cell_type": "code",
   "execution_count": 18,
   "outputs": [
    {
     "data": {
      "text/plain": "Month                                            0\nHour                                             0\nDay Type                                         0\nDaylight Savings Status                          0\nIndoor Temperature [C]                           0\nAverage Unmet Cooling Setpoint Difference [C]    0\nIndoor Relative Humidity [%]                     0\nEquipment Electric Power [kWh]                   0\nDHW Heating [kWh]                                0\nCooling Load [kWh]                               0\ndtype: int64"
     },
     "execution_count": 18,
     "metadata": {},
     "output_type": "execute_result"
    }
   ],
   "source": [
    "df_9.isna().sum()"
   ],
   "metadata": {
    "collapsed": false,
    "pycharm": {
     "name": "#%%\n"
    }
   }
  },
  {
   "cell_type": "code",
   "execution_count": 20,
   "outputs": [
    {
     "data": {
      "text/plain": "0"
     },
     "execution_count": 20,
     "metadata": {},
     "output_type": "execute_result"
    }
   ],
   "source": [
    "np.isinf(df_1).values.sum()"
   ],
   "metadata": {
    "collapsed": false,
    "pycharm": {
     "name": "#%%\n"
    }
   }
  },
  {
   "cell_type": "code",
   "execution_count": 21,
   "outputs": [
    {
     "data": {
      "text/plain": "0"
     },
     "execution_count": 21,
     "metadata": {},
     "output_type": "execute_result"
    }
   ],
   "source": [
    "np.isinf(df_2).values.sum()"
   ],
   "metadata": {
    "collapsed": false,
    "pycharm": {
     "name": "#%%\n"
    }
   }
  },
  {
   "cell_type": "code",
   "execution_count": 22,
   "outputs": [
    {
     "data": {
      "text/plain": "0"
     },
     "execution_count": 22,
     "metadata": {},
     "output_type": "execute_result"
    }
   ],
   "source": [
    "np.isinf(df_3).values.sum()"
   ],
   "metadata": {
    "collapsed": false,
    "pycharm": {
     "name": "#%%\n"
    }
   }
  },
  {
   "cell_type": "code",
   "execution_count": 23,
   "outputs": [
    {
     "data": {
      "text/plain": "0"
     },
     "execution_count": 23,
     "metadata": {},
     "output_type": "execute_result"
    }
   ],
   "source": [
    "np.isinf(df_4).values.sum()"
   ],
   "metadata": {
    "collapsed": false,
    "pycharm": {
     "name": "#%%\n"
    }
   }
  },
  {
   "cell_type": "code",
   "execution_count": 24,
   "outputs": [
    {
     "data": {
      "text/plain": "0"
     },
     "execution_count": 24,
     "metadata": {},
     "output_type": "execute_result"
    }
   ],
   "source": [
    "np.isinf(df_5).values.sum()"
   ],
   "metadata": {
    "collapsed": false,
    "pycharm": {
     "name": "#%%\n"
    }
   }
  },
  {
   "cell_type": "code",
   "execution_count": 25,
   "outputs": [
    {
     "data": {
      "text/plain": "0"
     },
     "execution_count": 25,
     "metadata": {},
     "output_type": "execute_result"
    }
   ],
   "source": [
    "np.isinf(df_6).values.sum()"
   ],
   "metadata": {
    "collapsed": false,
    "pycharm": {
     "name": "#%%\n"
    }
   }
  },
  {
   "cell_type": "code",
   "execution_count": 26,
   "outputs": [
    {
     "data": {
      "text/plain": "0"
     },
     "execution_count": 26,
     "metadata": {},
     "output_type": "execute_result"
    }
   ],
   "source": [
    "np.isinf(df_7).values.sum()"
   ],
   "metadata": {
    "collapsed": false,
    "pycharm": {
     "name": "#%%\n"
    }
   }
  },
  {
   "cell_type": "code",
   "execution_count": 27,
   "outputs": [
    {
     "data": {
      "text/plain": "0"
     },
     "execution_count": 27,
     "metadata": {},
     "output_type": "execute_result"
    }
   ],
   "source": [
    "np.isinf(df_8).values.sum()"
   ],
   "metadata": {
    "collapsed": false,
    "pycharm": {
     "name": "#%%\n"
    }
   }
  },
  {
   "cell_type": "code",
   "execution_count": 28,
   "outputs": [
    {
     "data": {
      "text/plain": "0"
     },
     "execution_count": 28,
     "metadata": {},
     "output_type": "execute_result"
    }
   ],
   "source": [
    "np.isinf(df_9).values.sum()"
   ],
   "metadata": {
    "collapsed": false,
    "pycharm": {
     "name": "#%%\n"
    }
   }
  },
  {
   "cell_type": "code",
   "execution_count": null,
   "outputs": [],
   "source": [],
   "metadata": {
    "collapsed": false,
    "pycharm": {
     "name": "#%%\n"
    }
   }
  }
 ],
 "metadata": {
  "kernelspec": {
   "display_name": "Python 3",
   "language": "python",
   "name": "python3"
  },
  "language_info": {
   "codemirror_mode": {
    "name": "ipython",
    "version": 2
   },
   "file_extension": ".py",
   "mimetype": "text/x-python",
   "name": "python",
   "nbconvert_exporter": "python",
   "pygments_lexer": "ipython2",
   "version": "2.7.6"
  }
 },
 "nbformat": 4,
 "nbformat_minor": 0
}