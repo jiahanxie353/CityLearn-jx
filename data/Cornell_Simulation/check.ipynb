{
 "cells": [
  {
   "cell_type": "code",
   "execution_count": 2,
   "outputs": [],
   "source": [
    "import numpy as np\n",
    "import pandas as pd"
   ],
   "metadata": {
    "collapsed": false,
    "pycharm": {
     "name": "#%%\n"
    }
   }
  },
  {
   "cell_type": "code",
   "execution_count": 3,
   "outputs": [],
   "source": [
    "df_1 = pd.read_csv(\"Building_1.csv\")\n",
    "df_2 = pd.read_csv(\"Building_2.csv\")\n",
    "df_3 = pd.read_csv(\"Building_3.csv\")\n",
    "df_4 = pd.read_csv(\"Building_4.csv\")\n",
    "df_5 = pd.read_csv(\"Building_5.csv\")\n",
    "df_6 = pd.read_csv(\"Building_6.csv\")\n",
    "df_7 = pd.read_csv(\"Building_7.csv\")\n",
    "df_8 = pd.read_csv(\"Building_8.csv\")\n",
    "df_9 = pd.read_csv(\"Building_9.csv\")"
   ],
   "metadata": {
    "collapsed": false,
    "pycharm": {
     "name": "#%%\n"
    }
   }
  },
  {
   "cell_type": "code",
   "execution_count": 4,
   "outputs": [],
   "source": [
    "df_15 = pd.read_csv(\"../Climate_Zone_5/Building_1.csv\")\n",
    "df_25 = pd.read_csv(\"../Climate_Zone_5/Building_2.csv\")\n",
    "df_35 = pd.read_csv(\"../Climate_Zone_5/Building_3.csv\")\n",
    "df_45 = pd.read_csv(\"../Climate_Zone_5/Building_4.csv\")\n",
    "df_55 = pd.read_csv(\"../Climate_Zone_5/Building_5.csv\")\n",
    "df_65 = pd.read_csv(\"../Climate_Zone_5/Building_6.csv\")\n",
    "df_75 = pd.read_csv(\"../Climate_Zone_5/Building_7.csv\")\n",
    "df_85 = pd.read_csv(\"../Climate_Zone_5/Building_8.csv\")\n",
    "df_95 = pd.read_csv(\"../Climate_Zone_5/Building_9.csv\")"
   ],
   "metadata": {
    "collapsed": false,
    "pycharm": {
     "name": "#%%\n"
    }
   }
  },
  {
   "cell_type": "code",
   "execution_count": 7,
   "outputs": [
    {
     "name": "stdout",
     "output_type": "stream",
     "text": [
      "4.230343344119857\n"
     ]
    }
   ],
   "source": [
    "print(df_1[\"Cooling Load [kWh]\"].sum() / df_15[\"Cooling Load [kWh]\"].sum())"
   ],
   "metadata": {
    "collapsed": false,
    "pycharm": {
     "name": "#%%\n"
    }
   }
  },
  {
   "cell_type": "code",
   "execution_count": 16,
   "outputs": [
    {
     "name": "stdout",
     "output_type": "stream",
     "text": [
      "10184.120841729298\n"
     ]
    }
   ],
   "source": [
    "print(2*df_1[\"DHW Heating [kWh]\"].sum() / df_15[\"DHW Heating [kWh]\"].sum())"
   ],
   "metadata": {
    "collapsed": false,
    "pycharm": {
     "name": "#%%\n"
    }
   }
  },
  {
   "cell_type": "code",
   "execution_count": 6,
   "outputs": [
    {
     "name": "stdout",
     "output_type": "stream",
     "text": [
      "10.290845599064516\n"
     ]
    }
   ],
   "source": [
    "print(df_2[\"Cooling Load [kWh]\"].sum() / df_25[\"Cooling Load [kWh]\"].sum())"
   ],
   "metadata": {
    "collapsed": false,
    "pycharm": {
     "name": "#%%\n"
    }
   }
  },
  {
   "cell_type": "code",
   "execution_count": 17,
   "outputs": [
    {
     "name": "stdout",
     "output_type": "stream",
     "text": [
      "2288.9569672845046\n"
     ]
    }
   ],
   "source": [
    "print(3*df_2[\"DHW Heating [kWh]\"].sum() / df_25[\"DHW Heating [kWh]\"].sum())"
   ],
   "metadata": {
    "collapsed": false,
    "pycharm": {
     "name": "#%%\n"
    }
   }
  },
  {
   "cell_type": "code",
   "execution_count": 8,
   "outputs": [
    {
     "name": "stdout",
     "output_type": "stream",
     "text": [
      "8.12658390024059\n"
     ]
    }
   ],
   "source": [
    "print(df_3[\"Cooling Load [kWh]\"].sum() / df_35[\"Cooling Load [kWh]\"].sum())"
   ],
   "metadata": {
    "collapsed": false,
    "pycharm": {
     "name": "#%%\n"
    }
   }
  },
  {
   "cell_type": "code",
   "execution_count": 21,
   "outputs": [
    {
     "name": "stdout",
     "output_type": "stream",
     "text": [
      "7311.821283288079\n"
     ]
    }
   ],
   "source": [
    "print(3*df_3[\"DHW Heating [kWh]\"].sum() / df_55[\"DHW Heating [kWh]\"].sum())"
   ],
   "metadata": {
    "collapsed": false,
    "pycharm": {
     "name": "#%%\n"
    }
   }
  },
  {
   "cell_type": "code",
   "execution_count": 9,
   "outputs": [
    {
     "name": "stdout",
     "output_type": "stream",
     "text": [
      "1.2687189363842022\n"
     ]
    }
   ],
   "source": [
    "print(df_4[\"Cooling Load [kWh]\"].sum() / df_45[\"Cooling Load [kWh]\"].sum())"
   ],
   "metadata": {
    "collapsed": false,
    "pycharm": {
     "name": "#%%\n"
    }
   }
  },
  {
   "cell_type": "code",
   "execution_count": 23,
   "outputs": [
    {
     "name": "stdout",
     "output_type": "stream",
     "text": [
      "713.0524954955423\n"
     ]
    }
   ],
   "source": [
    "print(3*df_4[\"DHW Heating [kWh]\"].sum() / df_55[\"DHW Heating [kWh]\"].sum())"
   ],
   "metadata": {
    "collapsed": false,
    "pycharm": {
     "name": "#%%\n"
    }
   }
  },
  {
   "cell_type": "code",
   "execution_count": 10,
   "outputs": [
    {
     "name": "stdout",
     "output_type": "stream",
     "text": [
      "27.890628110027798\n"
     ]
    }
   ],
   "source": [
    "print(df_5[\"Cooling Load [kWh]\"].sum() / df_55[\"Cooling Load [kWh]\"].sum())"
   ],
   "metadata": {
    "collapsed": false,
    "pycharm": {
     "name": "#%%\n"
    }
   }
  },
  {
   "cell_type": "code",
   "execution_count": 24,
   "outputs": [
    {
     "name": "stdout",
     "output_type": "stream",
     "text": [
      "2421.6256429156206\n"
     ]
    }
   ],
   "source": [
    "print(1.5*df_5[\"DHW Heating [kWh]\"].sum() / df_55[\"DHW Heating [kWh]\"].sum())"
   ],
   "metadata": {
    "collapsed": false,
    "pycharm": {
     "name": "#%%\n"
    }
   }
  },
  {
   "cell_type": "code",
   "execution_count": 11,
   "outputs": [
    {
     "name": "stdout",
     "output_type": "stream",
     "text": [
      "3.0396518707069857\n"
     ]
    }
   ],
   "source": [
    "print(df_6[\"Cooling Load [kWh]\"].sum() / df_65[\"Cooling Load [kWh]\"].sum())"
   ],
   "metadata": {
    "collapsed": false,
    "pycharm": {
     "name": "#%%\n"
    }
   }
  },
  {
   "cell_type": "code",
   "execution_count": 25,
   "outputs": [
    {
     "name": "stdout",
     "output_type": "stream",
     "text": [
      "991.7546725362866\n"
     ]
    }
   ],
   "source": [
    "print(3*df_6[\"DHW Heating [kWh]\"].sum() / df_65[\"DHW Heating [kWh]\"].sum())"
   ],
   "metadata": {
    "collapsed": false,
    "pycharm": {
     "name": "#%%\n"
    }
   }
  },
  {
   "cell_type": "code",
   "execution_count": 12,
   "outputs": [
    {
     "name": "stdout",
     "output_type": "stream",
     "text": [
      "7.856956049185686\n"
     ]
    }
   ],
   "source": [
    "print(df_7[\"Cooling Load [kWh]\"].sum() / df_75[\"Cooling Load [kWh]\"].sum())"
   ],
   "metadata": {
    "collapsed": false,
    "pycharm": {
     "name": "#%%\n"
    }
   }
  },
  {
   "cell_type": "code",
   "execution_count": 27,
   "outputs": [
    {
     "name": "stdout",
     "output_type": "stream",
     "text": [
      "800.2134606099378\n"
     ]
    }
   ],
   "source": [
    "print(3*df_8[\"DHW Heating [kWh]\"].sum() / df_85[\"DHW Heating [kWh]\"].sum())"
   ],
   "metadata": {
    "collapsed": false,
    "pycharm": {
     "name": "#%%\n"
    }
   }
  },
  {
   "cell_type": "code",
   "execution_count": 13,
   "outputs": [
    {
     "name": "stdout",
     "output_type": "stream",
     "text": [
      "2.904427406095595\n"
     ]
    }
   ],
   "source": [
    "print(df_8[\"Cooling Load [kWh]\"].sum() / df_85[\"Cooling Load [kWh]\"].sum())"
   ],
   "metadata": {
    "collapsed": false,
    "pycharm": {
     "name": "#%%\n"
    }
   }
  },
  {
   "cell_type": "code",
   "execution_count": null,
   "outputs": [],
   "source": [
    "print(3*df_4[\"DHW Heating [kWh]\"].sum() / df_55[\"DHW Heating [kWh]\"].sum())"
   ],
   "metadata": {
    "collapsed": false,
    "pycharm": {
     "name": "#%%\n"
    }
   }
  },
  {
   "cell_type": "code",
   "execution_count": 14,
   "outputs": [
    {
     "name": "stdout",
     "output_type": "stream",
     "text": [
      "33.44325319008003\n"
     ]
    }
   ],
   "source": [
    "print(df_9[\"Cooling Load [kWh]\"].sum() / df_95[\"Cooling Load [kWh]\"].sum())"
   ],
   "metadata": {
    "collapsed": false,
    "pycharm": {
     "name": "#%%\n"
    }
   }
  },
  {
   "cell_type": "code",
   "execution_count": 28,
   "outputs": [
    {
     "name": "stdout",
     "output_type": "stream",
     "text": [
      "7584.930011929831\n"
     ]
    }
   ],
   "source": [
    "print(3*df_9[\"DHW Heating [kWh]\"].sum() / df_95[\"DHW Heating [kWh]\"].sum())"
   ],
   "metadata": {
    "collapsed": false,
    "pycharm": {
     "name": "#%%\n"
    }
   }
  },
  {
   "cell_type": "code",
   "execution_count": 29,
   "outputs": [
    {
     "name": "stdout",
     "output_type": "stream",
     "text": [
      "1549.2352824793675\n"
     ]
    }
   ],
   "source": [
    "print(140*df_1[\"Equipment Electric Power [kWh]\"].sum() / df_15[\"Equipment Electric Power [kWh]\"].sum())"
   ],
   "metadata": {
    "collapsed": false,
    "pycharm": {
     "name": "#%%\n"
    }
   }
  },
  {
   "cell_type": "code",
   "execution_count": 30,
   "outputs": [
    {
     "name": "stdout",
     "output_type": "stream",
     "text": [
      "1125.7891421744005\n"
     ]
    }
   ],
   "source": [
    "print(80*df_2[\"Equipment Electric Power [kWh]\"].sum() / df_25[\"Equipment Electric Power [kWh]\"].sum())"
   ],
   "metadata": {
    "collapsed": false,
    "pycharm": {
     "name": "#%%\n"
    }
   }
  },
  {
   "cell_type": "code",
   "execution_count": 31,
   "outputs": [
    {
     "name": "stdout",
     "output_type": "stream",
     "text": [
      "3712.129518894072\n"
     ]
    }
   ],
   "source": [
    "print(50*df_3[\"Equipment Electric Power [kWh]\"].sum() / df_35[\"Equipment Electric Power [kWh]\"].sum())"
   ],
   "metadata": {
    "collapsed": false,
    "pycharm": {
     "name": "#%%\n"
    }
   }
  },
  {
   "cell_type": "code",
   "execution_count": 32,
   "outputs": [
    {
     "name": "stdout",
     "output_type": "stream",
     "text": [
      "910.3943397686039\n"
     ]
    }
   ],
   "source": [
    "print(75*df_4[\"Equipment Electric Power [kWh]\"].sum() / df_45[\"Equipment Electric Power [kWh]\"].sum())"
   ],
   "metadata": {
    "collapsed": false,
    "pycharm": {
     "name": "#%%\n"
    }
   }
  },
  {
   "cell_type": "code",
   "execution_count": 33,
   "outputs": [
    {
     "name": "stdout",
     "output_type": "stream",
     "text": [
      "2280.0881152904285\n"
     ]
    }
   ],
   "source": [
    "print(50*df_5[\"Equipment Electric Power [kWh]\"].sum() / df_55[\"Equipment Electric Power [kWh]\"].sum())"
   ],
   "metadata": {
    "collapsed": false,
    "pycharm": {
     "name": "#%%\n"
    }
   }
  },
  {
   "cell_type": "code",
   "execution_count": 34,
   "outputs": [
    {
     "name": "stdout",
     "output_type": "stream",
     "text": [
      "153.86502734628348\n"
     ]
    }
   ],
   "source": [
    "print(30*df_6[\"Equipment Electric Power [kWh]\"].sum() / df_65[\"Equipment Electric Power [kWh]\"].sum())"
   ],
   "metadata": {
    "collapsed": false,
    "pycharm": {
     "name": "#%%\n"
    }
   }
  },
  {
   "cell_type": "code",
   "execution_count": 35,
   "outputs": [
    {
     "name": "stdout",
     "output_type": "stream",
     "text": [
      "494.95917997695244\n"
     ]
    }
   ],
   "source": [
    "print(40*df_7[\"Equipment Electric Power [kWh]\"].sum() / df_75[\"Equipment Electric Power [kWh]\"].sum())"
   ],
   "metadata": {
    "collapsed": false,
    "pycharm": {
     "name": "#%%\n"
    }
   }
  },
  {
   "cell_type": "code",
   "execution_count": 36,
   "outputs": [
    {
     "name": "stdout",
     "output_type": "stream",
     "text": [
      "444.211047651158\n"
     ]
    }
   ],
   "source": [
    "print(30*df_8[\"Equipment Electric Power [kWh]\"].sum() / df_85[\"Equipment Electric Power [kWh]\"].sum())"
   ],
   "metadata": {
    "collapsed": false,
    "pycharm": {
     "name": "#%%\n"
    }
   }
  },
  {
   "cell_type": "code",
   "execution_count": 37,
   "outputs": [
    {
     "name": "stdout",
     "output_type": "stream",
     "text": [
      "2337.23071429752\n"
     ]
    }
   ],
   "source": [
    "print(35*df_9[\"Equipment Electric Power [kWh]\"].sum() / df_95[\"Equipment Electric Power [kWh]\"].sum())"
   ],
   "metadata": {
    "collapsed": false,
    "pycharm": {
     "name": "#%%\n"
    }
   }
  },
  {
   "cell_type": "code",
   "execution_count": null,
   "outputs": [],
   "source": [],
   "metadata": {
    "collapsed": false,
    "pycharm": {
     "name": "#%%\n"
    }
   }
  }
 ],
 "metadata": {
  "kernelspec": {
   "display_name": "Python 3",
   "language": "python",
   "name": "python3"
  },
  "language_info": {
   "codemirror_mode": {
    "name": "ipython",
    "version": 2
   },
   "file_extension": ".py",
   "mimetype": "text/x-python",
   "name": "python",
   "nbconvert_exporter": "python",
   "pygments_lexer": "ipython2",
   "version": "2.7.6"
  }
 },
 "nbformat": 4,
 "nbformat_minor": 0
}