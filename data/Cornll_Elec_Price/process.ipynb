{
 "cells": [
  {
   "cell_type": "code",
   "execution_count": 87,
   "metadata": {
    "collapsed": true,
    "pycharm": {
     "name": "#%%\n"
    }
   },
   "outputs": [],
   "source": [
    "import numpy as np\n",
    "import pandas as pd\n",
    "from matplotlib import pyplot as plt"
   ]
  },
  {
   "cell_type": "code",
   "execution_count": 88,
   "outputs": [
    {
     "data": {
      "text/plain": "        12/01/2015 00:05:00  CORNELL____  23752   0.02  0.00  0.00.1\n0       12/01/2015 00:10:00  CORNELL____  23752   0.00  0.00     0.0\n1       12/01/2015 00:15:00  CORNELL____  23752  18.01  0.54     0.0\n2       12/01/2015 00:20:00  CORNELL____  23752  18.05  0.56     0.0\n3       12/01/2015 00:25:00  CORNELL____  23752  18.02  0.54     0.0\n4       12/01/2015 00:30:00  CORNELL____  23752  17.97  0.51     0.0\n...                     ...          ...    ...    ...   ...     ...\n154130  01/31/2020 23:40:00  CORNELL____  23752  18.59  0.70     0.0\n154131  01/31/2020 23:45:00  CORNELL____  23752  18.72  0.65     0.0\n154132  01/31/2020 23:50:00  CORNELL____  23752  18.63  0.68     0.0\n154133  01/31/2020 23:55:00  CORNELL____  23752  18.29  0.67     0.0\n154134  02/01/2020 00:00:00  CORNELL____  23752  17.70  0.63     0.0\n\n[154135 rows x 6 columns]",
      "text/html": "<div>\n<style scoped>\n    .dataframe tbody tr th:only-of-type {\n        vertical-align: middle;\n    }\n\n    .dataframe tbody tr th {\n        vertical-align: top;\n    }\n\n    .dataframe thead th {\n        text-align: right;\n    }\n</style>\n<table border=\"1\" class=\"dataframe\">\n  <thead>\n    <tr style=\"text-align: right;\">\n      <th></th>\n      <th>12/01/2015 00:05:00</th>\n      <th>CORNELL____</th>\n      <th>23752</th>\n      <th>0.02</th>\n      <th>0.00</th>\n      <th>0.00.1</th>\n    </tr>\n  </thead>\n  <tbody>\n    <tr>\n      <th>0</th>\n      <td>12/01/2015 00:10:00</td>\n      <td>CORNELL____</td>\n      <td>23752</td>\n      <td>0.00</td>\n      <td>0.00</td>\n      <td>0.0</td>\n    </tr>\n    <tr>\n      <th>1</th>\n      <td>12/01/2015 00:15:00</td>\n      <td>CORNELL____</td>\n      <td>23752</td>\n      <td>18.01</td>\n      <td>0.54</td>\n      <td>0.0</td>\n    </tr>\n    <tr>\n      <th>2</th>\n      <td>12/01/2015 00:20:00</td>\n      <td>CORNELL____</td>\n      <td>23752</td>\n      <td>18.05</td>\n      <td>0.56</td>\n      <td>0.0</td>\n    </tr>\n    <tr>\n      <th>3</th>\n      <td>12/01/2015 00:25:00</td>\n      <td>CORNELL____</td>\n      <td>23752</td>\n      <td>18.02</td>\n      <td>0.54</td>\n      <td>0.0</td>\n    </tr>\n    <tr>\n      <th>4</th>\n      <td>12/01/2015 00:30:00</td>\n      <td>CORNELL____</td>\n      <td>23752</td>\n      <td>17.97</td>\n      <td>0.51</td>\n      <td>0.0</td>\n    </tr>\n    <tr>\n      <th>...</th>\n      <td>...</td>\n      <td>...</td>\n      <td>...</td>\n      <td>...</td>\n      <td>...</td>\n      <td>...</td>\n    </tr>\n    <tr>\n      <th>154130</th>\n      <td>01/31/2020 23:40:00</td>\n      <td>CORNELL____</td>\n      <td>23752</td>\n      <td>18.59</td>\n      <td>0.70</td>\n      <td>0.0</td>\n    </tr>\n    <tr>\n      <th>154131</th>\n      <td>01/31/2020 23:45:00</td>\n      <td>CORNELL____</td>\n      <td>23752</td>\n      <td>18.72</td>\n      <td>0.65</td>\n      <td>0.0</td>\n    </tr>\n    <tr>\n      <th>154132</th>\n      <td>01/31/2020 23:50:00</td>\n      <td>CORNELL____</td>\n      <td>23752</td>\n      <td>18.63</td>\n      <td>0.68</td>\n      <td>0.0</td>\n    </tr>\n    <tr>\n      <th>154133</th>\n      <td>01/31/2020 23:55:00</td>\n      <td>CORNELL____</td>\n      <td>23752</td>\n      <td>18.29</td>\n      <td>0.67</td>\n      <td>0.0</td>\n    </tr>\n    <tr>\n      <th>154134</th>\n      <td>02/01/2020 00:00:00</td>\n      <td>CORNELL____</td>\n      <td>23752</td>\n      <td>17.70</td>\n      <td>0.63</td>\n      <td>0.0</td>\n    </tr>\n  </tbody>\n</table>\n<p>154135 rows × 6 columns</p>\n</div>"
     },
     "execution_count": 88,
     "metadata": {},
     "output_type": "execute_result"
    }
   ],
   "source": [
    "# Load data from CSV files\n",
    "price_data = pd.read_csv(\"Cornell_Electricity_Price.csv\")\n",
    "price_data"
   ],
   "metadata": {
    "collapsed": false,
    "pycharm": {
     "name": "#%%\n"
    }
   }
  },
  {
   "cell_type": "code",
   "execution_count": 89,
   "outputs": [
    {
     "data": {
      "text/plain": "0         12/01/2015 00:10:00\n1         12/01/2015 00:15:00\n2         12/01/2015 00:20:00\n3         12/01/2015 00:25:00\n4         12/01/2015 00:30:00\n                 ...         \n154130    01/31/2020 23:40:00\n154131    01/31/2020 23:45:00\n154132    01/31/2020 23:50:00\n154133    01/31/2020 23:55:00\n154134    02/01/2020 00:00:00\nName: 12/01/2015 00:05:00, Length: 154135, dtype: object"
     },
     "execution_count": 89,
     "metadata": {},
     "output_type": "execute_result"
    }
   ],
   "source": [
    "price_data[\"12/01/2015 00:05:00\"]"
   ],
   "metadata": {
    "collapsed": false,
    "pycharm": {
     "name": "#%%\n"
    }
   }
  },
  {
   "cell_type": "code",
   "execution_count": 90,
   "outputs": [],
   "source": [
    "price_data = price_data.rename(columns={\"12/01/2015 00:05:00\": \"Time\", \"CORNELL____\": \"District\", \"23752\": \"Number\", \"0.02\": \"Price\", \"0.00\": \"2\", \"0.00.1\": \"3\"})"
   ],
   "metadata": {
    "collapsed": false,
    "pycharm": {
     "name": "#%%\n"
    }
   }
  },
  {
   "cell_type": "code",
   "execution_count": 91,
   "outputs": [
    {
     "data": {
      "text/plain": "                       Time     District  Number  Price     2    3\n0       12/01/2015 00:10:00  CORNELL____   23752   0.00  0.00  0.0\n1       12/01/2015 00:15:00  CORNELL____   23752  18.01  0.54  0.0\n2       12/01/2015 00:20:00  CORNELL____   23752  18.05  0.56  0.0\n3       12/01/2015 00:25:00  CORNELL____   23752  18.02  0.54  0.0\n4       12/01/2015 00:30:00  CORNELL____   23752  17.97  0.51  0.0\n...                     ...          ...     ...    ...   ...  ...\n154130  01/31/2020 23:40:00  CORNELL____   23752  18.59  0.70  0.0\n154131  01/31/2020 23:45:00  CORNELL____   23752  18.72  0.65  0.0\n154132  01/31/2020 23:50:00  CORNELL____   23752  18.63  0.68  0.0\n154133  01/31/2020 23:55:00  CORNELL____   23752  18.29  0.67  0.0\n154134  02/01/2020 00:00:00  CORNELL____   23752  17.70  0.63  0.0\n\n[154135 rows x 6 columns]",
      "text/html": "<div>\n<style scoped>\n    .dataframe tbody tr th:only-of-type {\n        vertical-align: middle;\n    }\n\n    .dataframe tbody tr th {\n        vertical-align: top;\n    }\n\n    .dataframe thead th {\n        text-align: right;\n    }\n</style>\n<table border=\"1\" class=\"dataframe\">\n  <thead>\n    <tr style=\"text-align: right;\">\n      <th></th>\n      <th>Time</th>\n      <th>District</th>\n      <th>Number</th>\n      <th>Price</th>\n      <th>2</th>\n      <th>3</th>\n    </tr>\n  </thead>\n  <tbody>\n    <tr>\n      <th>0</th>\n      <td>12/01/2015 00:10:00</td>\n      <td>CORNELL____</td>\n      <td>23752</td>\n      <td>0.00</td>\n      <td>0.00</td>\n      <td>0.0</td>\n    </tr>\n    <tr>\n      <th>1</th>\n      <td>12/01/2015 00:15:00</td>\n      <td>CORNELL____</td>\n      <td>23752</td>\n      <td>18.01</td>\n      <td>0.54</td>\n      <td>0.0</td>\n    </tr>\n    <tr>\n      <th>2</th>\n      <td>12/01/2015 00:20:00</td>\n      <td>CORNELL____</td>\n      <td>23752</td>\n      <td>18.05</td>\n      <td>0.56</td>\n      <td>0.0</td>\n    </tr>\n    <tr>\n      <th>3</th>\n      <td>12/01/2015 00:25:00</td>\n      <td>CORNELL____</td>\n      <td>23752</td>\n      <td>18.02</td>\n      <td>0.54</td>\n      <td>0.0</td>\n    </tr>\n    <tr>\n      <th>4</th>\n      <td>12/01/2015 00:30:00</td>\n      <td>CORNELL____</td>\n      <td>23752</td>\n      <td>17.97</td>\n      <td>0.51</td>\n      <td>0.0</td>\n    </tr>\n    <tr>\n      <th>...</th>\n      <td>...</td>\n      <td>...</td>\n      <td>...</td>\n      <td>...</td>\n      <td>...</td>\n      <td>...</td>\n    </tr>\n    <tr>\n      <th>154130</th>\n      <td>01/31/2020 23:40:00</td>\n      <td>CORNELL____</td>\n      <td>23752</td>\n      <td>18.59</td>\n      <td>0.70</td>\n      <td>0.0</td>\n    </tr>\n    <tr>\n      <th>154131</th>\n      <td>01/31/2020 23:45:00</td>\n      <td>CORNELL____</td>\n      <td>23752</td>\n      <td>18.72</td>\n      <td>0.65</td>\n      <td>0.0</td>\n    </tr>\n    <tr>\n      <th>154132</th>\n      <td>01/31/2020 23:50:00</td>\n      <td>CORNELL____</td>\n      <td>23752</td>\n      <td>18.63</td>\n      <td>0.68</td>\n      <td>0.0</td>\n    </tr>\n    <tr>\n      <th>154133</th>\n      <td>01/31/2020 23:55:00</td>\n      <td>CORNELL____</td>\n      <td>23752</td>\n      <td>18.29</td>\n      <td>0.67</td>\n      <td>0.0</td>\n    </tr>\n    <tr>\n      <th>154134</th>\n      <td>02/01/2020 00:00:00</td>\n      <td>CORNELL____</td>\n      <td>23752</td>\n      <td>17.70</td>\n      <td>0.63</td>\n      <td>0.0</td>\n    </tr>\n  </tbody>\n</table>\n<p>154135 rows × 6 columns</p>\n</div>"
     },
     "execution_count": 91,
     "metadata": {},
     "output_type": "execute_result"
    }
   ],
   "source": [
    "price_data"
   ],
   "metadata": {
    "collapsed": false,
    "pycharm": {
     "name": "#%%\n"
    }
   }
  },
  {
   "cell_type": "code",
   "execution_count": 92,
   "outputs": [],
   "source": [
    "Time = price_data[\"Time\"]\n",
    "Price = price_data[\"Price\"]"
   ],
   "metadata": {
    "collapsed": false,
    "pycharm": {
     "name": "#%%\n"
    }
   }
  },
  {
   "cell_type": "code",
   "execution_count": 93,
   "outputs": [],
   "source": [
    "useful_price_df = {\"Time\": Time, \"Price\": Price}"
   ],
   "metadata": {
    "collapsed": false,
    "pycharm": {
     "name": "#%%\n"
    }
   }
  },
  {
   "cell_type": "code",
   "execution_count": 94,
   "outputs": [],
   "source": [
    "useful_price_df = pd.DataFrame(useful_price_df)"
   ],
   "metadata": {
    "collapsed": false,
    "pycharm": {
     "name": "#%%\n"
    }
   }
  },
  {
   "cell_type": "code",
   "execution_count": 95,
   "outputs": [],
   "source": [
    "useful_price_df[\"Time\"] = pd.to_datetime(useful_price_df[\"Time\"], format='%m/%d/%Y %H:%M:%S')"
   ],
   "metadata": {
    "collapsed": false,
    "pycharm": {
     "name": "#%%\n"
    }
   }
  },
  {
   "cell_type": "code",
   "execution_count": 96,
   "outputs": [
    {
     "data": {
      "text/plain": "                      Time  Price\n0      2015-12-01 00:10:00   0.00\n1      2015-12-01 00:15:00  18.01\n2      2015-12-01 00:20:00  18.05\n3      2015-12-01 00:25:00  18.02\n4      2015-12-01 00:30:00  17.97\n...                    ...    ...\n154130 2020-01-31 23:40:00  18.59\n154131 2020-01-31 23:45:00  18.72\n154132 2020-01-31 23:50:00  18.63\n154133 2020-01-31 23:55:00  18.29\n154134 2020-02-01 00:00:00  17.70\n\n[154135 rows x 2 columns]",
      "text/html": "<div>\n<style scoped>\n    .dataframe tbody tr th:only-of-type {\n        vertical-align: middle;\n    }\n\n    .dataframe tbody tr th {\n        vertical-align: top;\n    }\n\n    .dataframe thead th {\n        text-align: right;\n    }\n</style>\n<table border=\"1\" class=\"dataframe\">\n  <thead>\n    <tr style=\"text-align: right;\">\n      <th></th>\n      <th>Time</th>\n      <th>Price</th>\n    </tr>\n  </thead>\n  <tbody>\n    <tr>\n      <th>0</th>\n      <td>2015-12-01 00:10:00</td>\n      <td>0.00</td>\n    </tr>\n    <tr>\n      <th>1</th>\n      <td>2015-12-01 00:15:00</td>\n      <td>18.01</td>\n    </tr>\n    <tr>\n      <th>2</th>\n      <td>2015-12-01 00:20:00</td>\n      <td>18.05</td>\n    </tr>\n    <tr>\n      <th>3</th>\n      <td>2015-12-01 00:25:00</td>\n      <td>18.02</td>\n    </tr>\n    <tr>\n      <th>4</th>\n      <td>2015-12-01 00:30:00</td>\n      <td>17.97</td>\n    </tr>\n    <tr>\n      <th>...</th>\n      <td>...</td>\n      <td>...</td>\n    </tr>\n    <tr>\n      <th>154130</th>\n      <td>2020-01-31 23:40:00</td>\n      <td>18.59</td>\n    </tr>\n    <tr>\n      <th>154131</th>\n      <td>2020-01-31 23:45:00</td>\n      <td>18.72</td>\n    </tr>\n    <tr>\n      <th>154132</th>\n      <td>2020-01-31 23:50:00</td>\n      <td>18.63</td>\n    </tr>\n    <tr>\n      <th>154133</th>\n      <td>2020-01-31 23:55:00</td>\n      <td>18.29</td>\n    </tr>\n    <tr>\n      <th>154134</th>\n      <td>2020-02-01 00:00:00</td>\n      <td>17.70</td>\n    </tr>\n  </tbody>\n</table>\n<p>154135 rows × 2 columns</p>\n</div>"
     },
     "execution_count": 96,
     "metadata": {},
     "output_type": "execute_result"
    }
   ],
   "source": [
    "useful_price_df"
   ],
   "metadata": {
    "collapsed": false,
    "pycharm": {
     "name": "#%%\n"
    }
   }
  },
  {
   "cell_type": "code",
   "execution_count": 97,
   "outputs": [],
   "source": [
    "in_range_price = useful_price_df.set_index(\"Time\").resample('60min').first().reset_index()[\"Price\"][744:35808]"
   ],
   "metadata": {
    "collapsed": false,
    "pycharm": {
     "name": "#%%\n"
    }
   }
  },
  {
   "cell_type": "code",
   "execution_count": 98,
   "outputs": [],
   "source": [
    "in_range_time = pd.date_range(start='1/1/2016', end='1/1/2020', freq='H')"
   ],
   "metadata": {
    "collapsed": false,
    "pycharm": {
     "name": "#%%\n"
    }
   }
  },
  {
   "cell_type": "code",
   "execution_count": 99,
   "outputs": [],
   "source": [
    "in_range_df = {\"Time\": in_range_time[:-1], \"Price\": in_range_price}"
   ],
   "metadata": {
    "collapsed": false,
    "pycharm": {
     "name": "#%%\n"
    }
   }
  },
  {
   "cell_type": "code",
   "execution_count": 100,
   "outputs": [],
   "source": [
    "in_range_df = pd.DataFrame(in_range_df)"
   ],
   "metadata": {
    "collapsed": false,
    "pycharm": {
     "name": "#%%\n"
    }
   }
  },
  {
   "cell_type": "code",
   "execution_count": 101,
   "outputs": [],
   "source": [
    "in_range_df = in_range_df.set_index(\"Time\")"
   ],
   "metadata": {
    "collapsed": false,
    "pycharm": {
     "name": "#%%\n"
    }
   }
  },
  {
   "cell_type": "code",
   "execution_count": 102,
   "outputs": [
    {
     "data": {
      "text/plain": "                     Price\nTime                      \n2016-01-01 00:00:00   4.93\n2016-01-01 01:00:00    NaN\n2016-01-01 02:00:00    NaN\n2016-01-01 03:00:00    NaN\n2016-01-01 04:00:00    NaN\n...                    ...\n2019-12-31 19:00:00  14.37\n2019-12-31 20:00:00  15.03\n2019-12-31 21:00:00  14.94\n2019-12-31 22:00:00  15.16\n2019-12-31 23:00:00   7.49\n\n[35064 rows x 1 columns]",
      "text/html": "<div>\n<style scoped>\n    .dataframe tbody tr th:only-of-type {\n        vertical-align: middle;\n    }\n\n    .dataframe tbody tr th {\n        vertical-align: top;\n    }\n\n    .dataframe thead th {\n        text-align: right;\n    }\n</style>\n<table border=\"1\" class=\"dataframe\">\n  <thead>\n    <tr style=\"text-align: right;\">\n      <th></th>\n      <th>Price</th>\n    </tr>\n    <tr>\n      <th>Time</th>\n      <th></th>\n    </tr>\n  </thead>\n  <tbody>\n    <tr>\n      <th>2016-01-01 00:00:00</th>\n      <td>4.93</td>\n    </tr>\n    <tr>\n      <th>2016-01-01 01:00:00</th>\n      <td>NaN</td>\n    </tr>\n    <tr>\n      <th>2016-01-01 02:00:00</th>\n      <td>NaN</td>\n    </tr>\n    <tr>\n      <th>2016-01-01 03:00:00</th>\n      <td>NaN</td>\n    </tr>\n    <tr>\n      <th>2016-01-01 04:00:00</th>\n      <td>NaN</td>\n    </tr>\n    <tr>\n      <th>...</th>\n      <td>...</td>\n    </tr>\n    <tr>\n      <th>2019-12-31 19:00:00</th>\n      <td>14.37</td>\n    </tr>\n    <tr>\n      <th>2019-12-31 20:00:00</th>\n      <td>15.03</td>\n    </tr>\n    <tr>\n      <th>2019-12-31 21:00:00</th>\n      <td>14.94</td>\n    </tr>\n    <tr>\n      <th>2019-12-31 22:00:00</th>\n      <td>15.16</td>\n    </tr>\n    <tr>\n      <th>2019-12-31 23:00:00</th>\n      <td>7.49</td>\n    </tr>\n  </tbody>\n</table>\n<p>35064 rows × 1 columns</p>\n</div>"
     },
     "execution_count": 102,
     "metadata": {},
     "output_type": "execute_result"
    }
   ],
   "source": [
    "in_range_df"
   ],
   "metadata": {
    "collapsed": false,
    "pycharm": {
     "name": "#%%\n"
    }
   }
  },
  {
   "cell_type": "code",
   "execution_count": 103,
   "outputs": [],
   "source": [
    "interpolated_price = [x if x > 0 else -x for x in in_range_df.Price.interpolate(method=\"linear\").values]"
   ],
   "metadata": {
    "collapsed": false,
    "pycharm": {
     "name": "#%%\n"
    }
   }
  },
  {
   "cell_type": "code",
   "execution_count": 104,
   "outputs": [],
   "source": [
    "interpolate_in_range_price = in_range_df.Price.interpolate(method=\"linear\")"
   ],
   "metadata": {
    "collapsed": false,
    "pycharm": {
     "name": "#%%\n"
    }
   }
  },
  {
   "cell_type": "code",
   "execution_count": 105,
   "outputs": [
    {
     "data": {
      "text/plain": "35064"
     },
     "execution_count": 105,
     "metadata": {},
     "output_type": "execute_result"
    }
   ],
   "source": [
    "len(interpolated_price)"
   ],
   "metadata": {
    "collapsed": false,
    "pycharm": {
     "name": "#%%\n"
    }
   }
  },
  {
   "cell_type": "code",
   "execution_count": 106,
   "outputs": [],
   "source": [
    "final_df = {\"Price\": interpolated_price}"
   ],
   "metadata": {
    "collapsed": false,
    "pycharm": {
     "name": "#%%\n"
    }
   }
  },
  {
   "cell_type": "code",
   "execution_count": 107,
   "outputs": [],
   "source": [
    "final_df = pd.DataFrame(final_df)"
   ],
   "metadata": {
    "collapsed": false,
    "pycharm": {
     "name": "#%%\n"
    }
   }
  },
  {
   "cell_type": "code",
   "execution_count": 108,
   "outputs": [],
   "source": [
    "final_df.to_csv(\"processed/Electricity_Price.csv\", index=False)"
   ],
   "metadata": {
    "collapsed": false,
    "pycharm": {
     "name": "#%%\n"
    }
   }
  },
  {
   "cell_type": "code",
   "execution_count": null,
   "outputs": [],
   "source": [],
   "metadata": {
    "collapsed": false,
    "pycharm": {
     "name": "#%%\n"
    }
   }
  }
 ],
 "metadata": {
  "kernelspec": {
   "display_name": "Python 3",
   "language": "python",
   "name": "python3"
  },
  "language_info": {
   "codemirror_mode": {
    "name": "ipython",
    "version": 2
   },
   "file_extension": ".py",
   "mimetype": "text/x-python",
   "name": "python",
   "nbconvert_exporter": "python",
   "pygments_lexer": "ipython2",
   "version": "2.7.6"
  }
 },
 "nbformat": 4,
 "nbformat_minor": 0
}