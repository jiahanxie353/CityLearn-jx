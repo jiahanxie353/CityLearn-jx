{
 "cells": [
  {
   "cell_type": "code",
   "execution_count": 1,
   "metadata": {
    "collapsed": true,
    "pycharm": {
     "name": "#%%\n"
    }
   },
   "outputs": [],
   "source": [
    "import numpy as np\n",
    "import pandas as pd"
   ]
  },
  {
   "cell_type": "code",
   "execution_count": 3,
   "outputs": [],
   "source": [
    "Ithaca_solar_prediction = pd.read_csv(\"processed/IthacaSolarPrediction.csv\")\n",
    "Ithaca_weather = pd.read_csv(\"processed/IthacaWeather.csv\")\n",
    "Ithaca_other_prediction = pd.read_csv(\"processed/Prediction.csv\")\n",
    "Ithaca_solar = pd.read_csv(\"processed/SolarRadiation.csv\")"
   ],
   "metadata": {
    "collapsed": false,
    "pycharm": {
     "name": "#%%\n"
    }
   }
  },
  {
   "cell_type": "code",
   "execution_count": 4,
   "outputs": [
    {
     "data": {
      "text/plain": "       Outdoor Drybulb Temperature [C]  Outdoor Relative Humidity [%]\n0                                  0.1                          85.93\n1                                  0.3                          80.78\n2                                  0.3                          78.65\n3                                  0.3                          76.60\n4                                  0.3                          76.80\n...                                ...                            ...\n35059                              0.6                          60.75\n35060                              0.0                          65.86\n35061                              0.0                          65.64\n35062                             -0.6                          72.15\n35063                             -0.6                          68.78\n\n[35064 rows x 2 columns]",
      "text/html": "<div>\n<style scoped>\n    .dataframe tbody tr th:only-of-type {\n        vertical-align: middle;\n    }\n\n    .dataframe tbody tr th {\n        vertical-align: top;\n    }\n\n    .dataframe thead th {\n        text-align: right;\n    }\n</style>\n<table border=\"1\" class=\"dataframe\">\n  <thead>\n    <tr style=\"text-align: right;\">\n      <th></th>\n      <th>Outdoor Drybulb Temperature [C]</th>\n      <th>Outdoor Relative Humidity [%]</th>\n    </tr>\n  </thead>\n  <tbody>\n    <tr>\n      <th>0</th>\n      <td>0.1</td>\n      <td>85.93</td>\n    </tr>\n    <tr>\n      <th>1</th>\n      <td>0.3</td>\n      <td>80.78</td>\n    </tr>\n    <tr>\n      <th>2</th>\n      <td>0.3</td>\n      <td>78.65</td>\n    </tr>\n    <tr>\n      <th>3</th>\n      <td>0.3</td>\n      <td>76.60</td>\n    </tr>\n    <tr>\n      <th>4</th>\n      <td>0.3</td>\n      <td>76.80</td>\n    </tr>\n    <tr>\n      <th>...</th>\n      <td>...</td>\n      <td>...</td>\n    </tr>\n    <tr>\n      <th>35059</th>\n      <td>0.6</td>\n      <td>60.75</td>\n    </tr>\n    <tr>\n      <th>35060</th>\n      <td>0.0</td>\n      <td>65.86</td>\n    </tr>\n    <tr>\n      <th>35061</th>\n      <td>0.0</td>\n      <td>65.64</td>\n    </tr>\n    <tr>\n      <th>35062</th>\n      <td>-0.6</td>\n      <td>72.15</td>\n    </tr>\n    <tr>\n      <th>35063</th>\n      <td>-0.6</td>\n      <td>68.78</td>\n    </tr>\n  </tbody>\n</table>\n<p>35064 rows × 2 columns</p>\n</div>"
     },
     "execution_count": 4,
     "metadata": {},
     "output_type": "execute_result"
    }
   ],
   "source": [
    "Ithaca_weather"
   ],
   "metadata": {
    "collapsed": false,
    "pycharm": {
     "name": "#%%\n"
    }
   }
  },
  {
   "cell_type": "code",
   "execution_count": 7,
   "outputs": [],
   "source": [
    "Outdoor_Drybulb_Temperature = Ithaca_weather[\"Outdoor Drybulb Temperature [C]\"]\n",
    "Outdoor_Relative_Humidity = Ithaca_weather[\"Outdoor Relative Humidity [%]\"]"
   ],
   "metadata": {
    "collapsed": false,
    "pycharm": {
     "name": "#%%\n"
    }
   }
  },
  {
   "cell_type": "code",
   "execution_count": 8,
   "outputs": [],
   "source": [
    "Diffuse_Solar_Radiation = Ithaca_solar[\"Diffuse Solar Radiation [W/m2]\"]\n",
    "Direct_Solar_Radiation = Ithaca_solar[\"Direct Solar Radiation [W/m2]\"]"
   ],
   "metadata": {
    "collapsed": false,
    "pycharm": {
     "name": "#%%\n"
    }
   }
  },
  {
   "cell_type": "code",
   "execution_count": 9,
   "outputs": [],
   "source": [
    "Prediction_Outdoor_Drybulb_Temperature_6h = Ithaca_other_prediction[\"6h Prediction Outdoor Drybulb Temperature [C]\"]\n",
    "Prediction_Outdoor_Drybulb_Temperature_12h = Ithaca_other_prediction[\"12h Prediction Outdoor Drybulb Temperature [C]\"]\n",
    "Prediction_Outdoor_Drybulb_Temperature_24h = Ithaca_other_prediction[\"24h Prediction Outdoor Drybulb Temperature [C]\"]\n",
    "Prediction_Outdoor_Relative_Humidity_6h = Ithaca_other_prediction[\"6h Prediction Outdoor Relative Humidity [%]\"]\n",
    "Prediction_Outdoor_Relative_Humidity_12h = Ithaca_other_prediction[\"12h Prediction Outdoor Relative Humidity [%]\"]\n",
    "Prediction_Outdoor_Relative_Humidity_24h = Ithaca_other_prediction[\"24h Prediction Outdoor Relative Humidity [%]\"]"
   ],
   "metadata": {
    "collapsed": false,
    "pycharm": {
     "name": "#%%\n"
    }
   }
  },
  {
   "cell_type": "code",
   "execution_count": 10,
   "outputs": [],
   "source": [
    "Prediction_Diffuse_Solar_Radiation_6h = Ithaca_solar_prediction[\"6h Prediction Diffuse Solar Radiation [W/m2]\"]\n",
    "Prediction_Diffuse_Solar_Radiation_12h = Ithaca_solar_prediction[\"12h Prediction Diffuse Solar Radiation [W/m2]\"]\n",
    "Prediction_Diffuse_Solar_Radiation_24h = Ithaca_solar_prediction[\"24h Prediction Diffuse Solar Radiation [W/m2]\"]\n",
    "Prediction_Direct_Solar_Radiation_6h = Ithaca_solar_prediction[\"6h Prediction Direct Solar Radiation [W/m2]\"]\n",
    "Prediction_Direct_Solar_Radiation_12h = Ithaca_solar_prediction[\"12h Prediction Direct Solar Radiation [W/m2]\"]\n",
    "Prediction_Direct_Solar_Radiation_24h = Ithaca_solar_prediction[\"24h Prediction Direct Solar Radiation [W/m2]\"]"
   ],
   "metadata": {
    "collapsed": false,
    "pycharm": {
     "name": "#%%\n"
    }
   }
  },
  {
   "cell_type": "code",
   "execution_count": 11,
   "outputs": [],
   "source": [
    "merged_dict = {\"Outdoor Drybulb Temperature [C]\": Outdoor_Drybulb_Temperature, \"Outdoor Relative Humidity [%]\": Outdoor_Relative_Humidity, \"Diffuse Solar Radiation [W/m2]\": Diffuse_Solar_Radiation, \"Direct Solar Radiation [W/m2]\": Direct_Solar_Radiation, \"6h Prediction Outdoor Drybulb Temperature [C]\": Prediction_Outdoor_Drybulb_Temperature_6h, \"12h Prediction Outdoor Drybulb Temperature [C]\": Prediction_Outdoor_Drybulb_Temperature_12h, \"24h Prediction Outdoor Drybulb Temperature [C]\": Prediction_Outdoor_Drybulb_Temperature_24h, \"6h Prediction Outdoor Relative Humidity [%]\": Prediction_Outdoor_Relative_Humidity_6h, \"12h Prediction Outdoor Relative Humidity [%]\": Prediction_Outdoor_Relative_Humidity_12h, \"24h Prediction Outdoor Relative Humidity [%]\": Prediction_Outdoor_Relative_Humidity_24h, \"6h Prediction Diffuse Solar Radiation [W/m2]\": Prediction_Diffuse_Solar_Radiation_6h, \"12h Prediction Diffuse Solar Radiation [W/m2]\": Prediction_Diffuse_Solar_Radiation_12h, \"24h Prediction Diffuse Solar Radiation [W/m2]\": Prediction_Diffuse_Solar_Radiation_24h, \"6h Prediction Direct Solar Radiation [W/m2]\": Prediction_Direct_Solar_Radiation_6h, \"12h Prediction Direct Solar Radiation [W/m2]\": Prediction_Direct_Solar_Radiation_12h, \"24h Prediction Direct Solar Radiation [W/m2]\": Prediction_Direct_Solar_Radiation_24h}"
   ],
   "metadata": {
    "collapsed": false,
    "pycharm": {
     "name": "#%%\n"
    }
   }
  },
  {
   "cell_type": "code",
   "execution_count": 12,
   "outputs": [],
   "source": [
    "merged_df = pd.DataFrame(merged_dict)"
   ],
   "metadata": {
    "collapsed": false,
    "pycharm": {
     "name": "#%%\n"
    }
   }
  },
  {
   "cell_type": "code",
   "execution_count": 14,
   "outputs": [],
   "source": [
    "merged_df.to_csv(\"../Cornell_Simulation/weather_data.csv\", index=False)"
   ],
   "metadata": {
    "collapsed": false,
    "pycharm": {
     "name": "#%%\n"
    }
   }
  },
  {
   "cell_type": "code",
   "execution_count": null,
   "outputs": [],
   "source": [],
   "metadata": {
    "collapsed": false,
    "pycharm": {
     "name": "#%%\n"
    }
   }
  }
 ],
 "metadata": {
  "kernelspec": {
   "display_name": "Python 3",
   "language": "python",
   "name": "python3"
  },
  "language_info": {
   "codemirror_mode": {
    "name": "ipython",
    "version": 2
   },
   "file_extension": ".py",
   "mimetype": "text/x-python",
   "name": "python",
   "nbconvert_exporter": "python",
   "pygments_lexer": "ipython2",
   "version": "2.7.6"
  }
 },
 "nbformat": 4,
 "nbformat_minor": 0
}