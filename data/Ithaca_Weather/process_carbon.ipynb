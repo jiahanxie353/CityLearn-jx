{
 "cells": [
  {
   "cell_type": "code",
   "execution_count": 57,
   "metadata": {
    "collapsed": true,
    "pycharm": {
     "name": "#%%\n"
    }
   },
   "outputs": [],
   "source": [
    "import numpy as np\n",
    "import pandas as pd"
   ]
  },
  {
   "cell_type": "code",
   "execution_count": 58,
   "outputs": [
    {
     "data": {
      "text/plain": "                  Datetime  kg_CO2/kWh\n0      2014-01-01 00:00:00    0.526290\n1      2014-01-01 01:00:00    0.543741\n2      2014-01-01 02:00:00    0.537555\n3      2014-01-01 03:00:00    0.534559\n4      2014-01-01 04:00:00    0.537520\n...                    ...         ...\n35035  2017-12-31 19:00:00    0.549498\n35036  2017-12-31 20:00:00    0.547542\n35037  2017-12-31 21:00:00    0.547812\n35038  2017-12-31 22:00:00    0.546071\n35039  2017-12-31 23:00:00    0.547136\n\n[35040 rows x 2 columns]",
      "text/html": "<div>\n<style scoped>\n    .dataframe tbody tr th:only-of-type {\n        vertical-align: middle;\n    }\n\n    .dataframe tbody tr th {\n        vertical-align: top;\n    }\n\n    .dataframe thead th {\n        text-align: right;\n    }\n</style>\n<table border=\"1\" class=\"dataframe\">\n  <thead>\n    <tr style=\"text-align: right;\">\n      <th></th>\n      <th>Datetime</th>\n      <th>kg_CO2/kWh</th>\n    </tr>\n  </thead>\n  <tbody>\n    <tr>\n      <th>0</th>\n      <td>2014-01-01 00:00:00</td>\n      <td>0.526290</td>\n    </tr>\n    <tr>\n      <th>1</th>\n      <td>2014-01-01 01:00:00</td>\n      <td>0.543741</td>\n    </tr>\n    <tr>\n      <th>2</th>\n      <td>2014-01-01 02:00:00</td>\n      <td>0.537555</td>\n    </tr>\n    <tr>\n      <th>3</th>\n      <td>2014-01-01 03:00:00</td>\n      <td>0.534559</td>\n    </tr>\n    <tr>\n      <th>4</th>\n      <td>2014-01-01 04:00:00</td>\n      <td>0.537520</td>\n    </tr>\n    <tr>\n      <th>...</th>\n      <td>...</td>\n      <td>...</td>\n    </tr>\n    <tr>\n      <th>35035</th>\n      <td>2017-12-31 19:00:00</td>\n      <td>0.549498</td>\n    </tr>\n    <tr>\n      <th>35036</th>\n      <td>2017-12-31 20:00:00</td>\n      <td>0.547542</td>\n    </tr>\n    <tr>\n      <th>35037</th>\n      <td>2017-12-31 21:00:00</td>\n      <td>0.547812</td>\n    </tr>\n    <tr>\n      <th>35038</th>\n      <td>2017-12-31 22:00:00</td>\n      <td>0.546071</td>\n    </tr>\n    <tr>\n      <th>35039</th>\n      <td>2017-12-31 23:00:00</td>\n      <td>0.547136</td>\n    </tr>\n  </tbody>\n</table>\n<p>35040 rows × 2 columns</p>\n</div>"
     },
     "execution_count": 58,
     "metadata": {},
     "output_type": "execute_result"
    }
   ],
   "source": [
    "# Load data from CSV files\n",
    "carbon_intensity_data = pd.read_csv(\"CarbonIntensity.csv\")\n",
    "carbon_intensity_data"
   ],
   "metadata": {
    "collapsed": false,
    "pycharm": {
     "name": "#%%\n"
    }
   }
  },
  {
   "cell_type": "code",
   "execution_count": 59,
   "outputs": [],
   "source": [
    "carbon_intensity_data.reset_index(inplace=True)"
   ],
   "metadata": {
    "collapsed": false,
    "pycharm": {
     "name": "#%%\n"
    }
   }
  },
  {
   "cell_type": "code",
   "execution_count": 60,
   "outputs": [],
   "source": [
    "carbon_intensity_data = carbon_intensity_data.drop('index', axis=1)"
   ],
   "metadata": {
    "collapsed": false,
    "pycharm": {
     "name": "#%%\n"
    }
   }
  },
  {
   "cell_type": "code",
   "execution_count": 61,
   "outputs": [
    {
     "data": {
      "text/plain": "                  Datetime  kg_CO2/kWh\n0      2014-01-01 00:00:00    0.526290\n1      2014-01-01 01:00:00    0.543741\n2      2014-01-01 02:00:00    0.537555\n3      2014-01-01 03:00:00    0.534559\n4      2014-01-01 04:00:00    0.537520\n...                    ...         ...\n35035  2017-12-31 19:00:00    0.549498\n35036  2017-12-31 20:00:00    0.547542\n35037  2017-12-31 21:00:00    0.547812\n35038  2017-12-31 22:00:00    0.546071\n35039  2017-12-31 23:00:00    0.547136\n\n[35040 rows x 2 columns]",
      "text/html": "<div>\n<style scoped>\n    .dataframe tbody tr th:only-of-type {\n        vertical-align: middle;\n    }\n\n    .dataframe tbody tr th {\n        vertical-align: top;\n    }\n\n    .dataframe thead th {\n        text-align: right;\n    }\n</style>\n<table border=\"1\" class=\"dataframe\">\n  <thead>\n    <tr style=\"text-align: right;\">\n      <th></th>\n      <th>Datetime</th>\n      <th>kg_CO2/kWh</th>\n    </tr>\n  </thead>\n  <tbody>\n    <tr>\n      <th>0</th>\n      <td>2014-01-01 00:00:00</td>\n      <td>0.526290</td>\n    </tr>\n    <tr>\n      <th>1</th>\n      <td>2014-01-01 01:00:00</td>\n      <td>0.543741</td>\n    </tr>\n    <tr>\n      <th>2</th>\n      <td>2014-01-01 02:00:00</td>\n      <td>0.537555</td>\n    </tr>\n    <tr>\n      <th>3</th>\n      <td>2014-01-01 03:00:00</td>\n      <td>0.534559</td>\n    </tr>\n    <tr>\n      <th>4</th>\n      <td>2014-01-01 04:00:00</td>\n      <td>0.537520</td>\n    </tr>\n    <tr>\n      <th>...</th>\n      <td>...</td>\n      <td>...</td>\n    </tr>\n    <tr>\n      <th>35035</th>\n      <td>2017-12-31 19:00:00</td>\n      <td>0.549498</td>\n    </tr>\n    <tr>\n      <th>35036</th>\n      <td>2017-12-31 20:00:00</td>\n      <td>0.547542</td>\n    </tr>\n    <tr>\n      <th>35037</th>\n      <td>2017-12-31 21:00:00</td>\n      <td>0.547812</td>\n    </tr>\n    <tr>\n      <th>35038</th>\n      <td>2017-12-31 22:00:00</td>\n      <td>0.546071</td>\n    </tr>\n    <tr>\n      <th>35039</th>\n      <td>2017-12-31 23:00:00</td>\n      <td>0.547136</td>\n    </tr>\n  </tbody>\n</table>\n<p>35040 rows × 2 columns</p>\n</div>"
     },
     "execution_count": 61,
     "metadata": {},
     "output_type": "execute_result"
    }
   ],
   "source": [
    "carbon_intensity_data"
   ],
   "metadata": {
    "collapsed": false,
    "pycharm": {
     "name": "#%%\n"
    }
   }
  },
  {
   "cell_type": "code",
   "execution_count": 62,
   "outputs": [],
   "source": [
    "carbon_intensity_data['Datetime'] = pd.to_datetime(carbon_intensity_data['Datetime'], format='%Y-%m-%d %H:%M:%S')"
   ],
   "metadata": {
    "collapsed": false,
    "pycharm": {
     "name": "#%%\n"
    }
   }
  },
  {
   "cell_type": "code",
   "execution_count": 63,
   "outputs": [],
   "source": [
    "df_carbon_intensity = carbon_intensity_data.set_index('Datetime')\n",
    "df_carbon_intensity = df_carbon_intensity.reindex(pd.date_range(start='1/1/2016', end='1/1/2020', freq='H'), fill_value=None)"
   ],
   "metadata": {
    "collapsed": false,
    "pycharm": {
     "name": "#%%\n"
    }
   }
  },
  {
   "cell_type": "code",
   "execution_count": 64,
   "outputs": [],
   "source": [
    "df_carbon_intensity['kg_CO2/kWh'] = df_carbon_intensity['kg_CO2/kWh'].interpolate(method=\"linear\")"
   ],
   "metadata": {
    "collapsed": false,
    "pycharm": {
     "name": "#%%\n"
    }
   }
  },
  {
   "cell_type": "code",
   "execution_count": 65,
   "outputs": [
    {
     "data": {
      "text/plain": "                     kg_CO2/kWh\n2016-01-01 00:00:00    0.491316\n2016-01-01 01:00:00    0.474387\n2016-01-01 02:00:00    0.473740\n2016-01-01 03:00:00    0.469243\n2016-01-01 04:00:00    0.470503\n...                         ...\n2019-12-31 20:00:00    0.547136\n2019-12-31 21:00:00    0.547136\n2019-12-31 22:00:00    0.547136\n2019-12-31 23:00:00    0.547136\n2020-01-01 00:00:00    0.547136\n\n[35065 rows x 1 columns]",
      "text/html": "<div>\n<style scoped>\n    .dataframe tbody tr th:only-of-type {\n        vertical-align: middle;\n    }\n\n    .dataframe tbody tr th {\n        vertical-align: top;\n    }\n\n    .dataframe thead th {\n        text-align: right;\n    }\n</style>\n<table border=\"1\" class=\"dataframe\">\n  <thead>\n    <tr style=\"text-align: right;\">\n      <th></th>\n      <th>kg_CO2/kWh</th>\n    </tr>\n  </thead>\n  <tbody>\n    <tr>\n      <th>2016-01-01 00:00:00</th>\n      <td>0.491316</td>\n    </tr>\n    <tr>\n      <th>2016-01-01 01:00:00</th>\n      <td>0.474387</td>\n    </tr>\n    <tr>\n      <th>2016-01-01 02:00:00</th>\n      <td>0.473740</td>\n    </tr>\n    <tr>\n      <th>2016-01-01 03:00:00</th>\n      <td>0.469243</td>\n    </tr>\n    <tr>\n      <th>2016-01-01 04:00:00</th>\n      <td>0.470503</td>\n    </tr>\n    <tr>\n      <th>...</th>\n      <td>...</td>\n    </tr>\n    <tr>\n      <th>2019-12-31 20:00:00</th>\n      <td>0.547136</td>\n    </tr>\n    <tr>\n      <th>2019-12-31 21:00:00</th>\n      <td>0.547136</td>\n    </tr>\n    <tr>\n      <th>2019-12-31 22:00:00</th>\n      <td>0.547136</td>\n    </tr>\n    <tr>\n      <th>2019-12-31 23:00:00</th>\n      <td>0.547136</td>\n    </tr>\n    <tr>\n      <th>2020-01-01 00:00:00</th>\n      <td>0.547136</td>\n    </tr>\n  </tbody>\n</table>\n<p>35065 rows × 1 columns</p>\n</div>"
     },
     "execution_count": 65,
     "metadata": {},
     "output_type": "execute_result"
    }
   ],
   "source": [
    "df_carbon_intensity"
   ],
   "metadata": {
    "collapsed": false,
    "pycharm": {
     "name": "#%%\n"
    }
   }
  },
  {
   "cell_type": "code",
   "execution_count": 68,
   "outputs": [],
   "source": [
    "DateTime = np.array(pd.date_range(start='1/1/2016', end='1/1/2020', freq='H'))[:-1]"
   ],
   "metadata": {
    "collapsed": false,
    "pycharm": {
     "name": "#%%\n"
    }
   }
  },
  {
   "cell_type": "code",
   "execution_count": 72,
   "outputs": [],
   "source": [
    "kg_CO2_kWh = df_carbon_intensity['kg_CO2/kWh'][:-1]"
   ],
   "metadata": {
    "collapsed": false,
    "pycharm": {
     "name": "#%%\n"
    }
   }
  },
  {
   "cell_type": "code",
   "execution_count": 73,
   "outputs": [],
   "source": [
    "CarbonIntensityDataFrame = {\"DateTime\": DateTime, \"kg_CO2/kWh\": kg_CO2_kWh}"
   ],
   "metadata": {
    "collapsed": false,
    "pycharm": {
     "name": "#%%\n"
    }
   }
  },
  {
   "cell_type": "code",
   "execution_count": 74,
   "outputs": [],
   "source": [
    "CarbonIntensityDataFrame = pd.DataFrame(CarbonIntensityDataFrame)"
   ],
   "metadata": {
    "collapsed": false,
    "pycharm": {
     "name": "#%%\n"
    }
   }
  },
  {
   "cell_type": "code",
   "execution_count": 75,
   "outputs": [],
   "source": [
    "CarbonIntensityDataFrame.to_csv(\"processed/CarbonIntensity.csv\", index=False)"
   ],
   "metadata": {
    "collapsed": false,
    "pycharm": {
     "name": "#%%\n"
    }
   }
  },
  {
   "cell_type": "code",
   "execution_count": null,
   "outputs": [],
   "source": [],
   "metadata": {
    "collapsed": false,
    "pycharm": {
     "name": "#%%\n"
    }
   }
  }
 ],
 "metadata": {
  "kernelspec": {
   "display_name": "Python 3",
   "language": "python",
   "name": "python3"
  },
  "language_info": {
   "codemirror_mode": {
    "name": "ipython",
    "version": 2
   },
   "file_extension": ".py",
   "mimetype": "text/x-python",
   "name": "python",
   "nbconvert_exporter": "python",
   "pygments_lexer": "ipython2",
   "version": "2.7.6"
  }
 },
 "nbformat": 4,
 "nbformat_minor": 0
}