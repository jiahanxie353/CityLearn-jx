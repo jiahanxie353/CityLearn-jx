{
 "cells": [
  {
   "cell_type": "code",
   "execution_count": 328,
   "metadata": {
    "collapsed": true,
    "pycharm": {
     "name": "#%%\n"
    }
   },
   "outputs": [],
   "source": [
    "import matplotlib.pyplot as plt\n",
    "import numpy as np\n",
    "import pandas as pd"
   ]
  },
  {
   "cell_type": "code",
   "execution_count": 329,
   "outputs": [
    {
     "data": {
      "text/plain": "     station                   model                 runtime  ftime  n_x  tmp  \\\nKITH     GFS  2016-01-01 00:00:00+00  2016-01-01 06:00:00+00    NaN   29   26   \nKITH     GFS  2016-01-01 00:00:00+00  2016-01-01 09:00:00+00    NaN   28   25   \nKITH     GFS  2016-01-01 00:00:00+00  2016-01-01 12:00:00+00    NaN   28   24   \nKITH     GFS  2016-01-01 00:00:00+00  2016-01-01 15:00:00+00    NaN   31   24   \nKITH     GFS  2016-01-01 00:00:00+00  2016-01-01 18:00:00+00    NaN   32   22   \n...      ...                     ...                     ...    ...  ...  ...   \nKITH     GFS  2019-12-31 00:00:00+00  2020-01-02 06:00:00+00    NaN   24   18   \nKITH     GFS  2019-12-31 00:00:00+00  2020-01-02 09:00:00+00    NaN   24   18   \nKITH     GFS  2019-12-31 00:00:00+00  2020-01-02 12:00:00+00   20.0   25   19   \nKITH     GFS  2019-12-31 00:00:00+00  2020-01-02 18:00:00+00    NaN   43   26   \nKITH     GFS  2019-12-31 00:00:00+00  2020-01-03 00:00:00+00   45.0   38   27   \n\n     dpt  cld  wdr   wsp  ...  lcb  i06  slv s06 pra  ppl  psn  pzr t03  gst  \nKITH  OV  300    6   NaN  ...  NaN  NaN  NaN NaN NaN  NaN  NaN  NaN NaN  NaN  \nKITH  OV  290    7   NaN  ...  NaN  NaN  NaN NaN NaN  NaN  NaN  NaN NaN  NaN  \nKITH  OV  260    6  29.0  ...  NaN  NaN  NaN NaN NaN  NaN  NaN  NaN NaN  NaN  \nKITH  OV  260   10   NaN  ...  NaN  NaN  NaN NaN NaN  NaN  NaN  NaN NaN  NaN  \nKITH  OV  270   12  31.0  ...  NaN  NaN  NaN NaN NaN  NaN  NaN  NaN NaN  NaN  \n...   ..  ...  ...   ...  ...  ...  ...  ...  ..  ..  ...  ...  ...  ..  ...  \nKITH  CL  250    7   1.0  ...  NaN  NaN  NaN NaN NaN  NaN  NaN  NaN NaN  NaN  \nKITH  CL  170    5   NaN  ...  NaN  NaN  NaN NaN NaN  NaN  NaN  NaN NaN  NaN  \nKITH  FW  170    6   1.0  ...  NaN  NaN  NaN NaN NaN  NaN  NaN  NaN NaN  NaN  \nKITH  FW  210   10   0.0  ...  NaN  NaN  NaN NaN NaN  NaN  NaN  NaN NaN  NaN  \nKITH  OV  170    7   0.0  ...  NaN  NaN  NaN NaN NaN  NaN  NaN  NaN NaN  NaN  \n\n[124152 rows x 35 columns]",
      "text/html": "<div>\n<style scoped>\n    .dataframe tbody tr th:only-of-type {\n        vertical-align: middle;\n    }\n\n    .dataframe tbody tr th {\n        vertical-align: top;\n    }\n\n    .dataframe thead th {\n        text-align: right;\n    }\n</style>\n<table border=\"1\" class=\"dataframe\">\n  <thead>\n    <tr style=\"text-align: right;\">\n      <th></th>\n      <th>station</th>\n      <th>model</th>\n      <th>runtime</th>\n      <th>ftime</th>\n      <th>n_x</th>\n      <th>tmp</th>\n      <th>dpt</th>\n      <th>cld</th>\n      <th>wdr</th>\n      <th>wsp</th>\n      <th>...</th>\n      <th>lcb</th>\n      <th>i06</th>\n      <th>slv</th>\n      <th>s06</th>\n      <th>pra</th>\n      <th>ppl</th>\n      <th>psn</th>\n      <th>pzr</th>\n      <th>t03</th>\n      <th>gst</th>\n    </tr>\n  </thead>\n  <tbody>\n    <tr>\n      <th>KITH</th>\n      <td>GFS</td>\n      <td>2016-01-01 00:00:00+00</td>\n      <td>2016-01-01 06:00:00+00</td>\n      <td>NaN</td>\n      <td>29</td>\n      <td>26</td>\n      <td>OV</td>\n      <td>300</td>\n      <td>6</td>\n      <td>NaN</td>\n      <td>...</td>\n      <td>NaN</td>\n      <td>NaN</td>\n      <td>NaN</td>\n      <td>NaN</td>\n      <td>NaN</td>\n      <td>NaN</td>\n      <td>NaN</td>\n      <td>NaN</td>\n      <td>NaN</td>\n      <td>NaN</td>\n    </tr>\n    <tr>\n      <th>KITH</th>\n      <td>GFS</td>\n      <td>2016-01-01 00:00:00+00</td>\n      <td>2016-01-01 09:00:00+00</td>\n      <td>NaN</td>\n      <td>28</td>\n      <td>25</td>\n      <td>OV</td>\n      <td>290</td>\n      <td>7</td>\n      <td>NaN</td>\n      <td>...</td>\n      <td>NaN</td>\n      <td>NaN</td>\n      <td>NaN</td>\n      <td>NaN</td>\n      <td>NaN</td>\n      <td>NaN</td>\n      <td>NaN</td>\n      <td>NaN</td>\n      <td>NaN</td>\n      <td>NaN</td>\n    </tr>\n    <tr>\n      <th>KITH</th>\n      <td>GFS</td>\n      <td>2016-01-01 00:00:00+00</td>\n      <td>2016-01-01 12:00:00+00</td>\n      <td>NaN</td>\n      <td>28</td>\n      <td>24</td>\n      <td>OV</td>\n      <td>260</td>\n      <td>6</td>\n      <td>29.0</td>\n      <td>...</td>\n      <td>NaN</td>\n      <td>NaN</td>\n      <td>NaN</td>\n      <td>NaN</td>\n      <td>NaN</td>\n      <td>NaN</td>\n      <td>NaN</td>\n      <td>NaN</td>\n      <td>NaN</td>\n      <td>NaN</td>\n    </tr>\n    <tr>\n      <th>KITH</th>\n      <td>GFS</td>\n      <td>2016-01-01 00:00:00+00</td>\n      <td>2016-01-01 15:00:00+00</td>\n      <td>NaN</td>\n      <td>31</td>\n      <td>24</td>\n      <td>OV</td>\n      <td>260</td>\n      <td>10</td>\n      <td>NaN</td>\n      <td>...</td>\n      <td>NaN</td>\n      <td>NaN</td>\n      <td>NaN</td>\n      <td>NaN</td>\n      <td>NaN</td>\n      <td>NaN</td>\n      <td>NaN</td>\n      <td>NaN</td>\n      <td>NaN</td>\n      <td>NaN</td>\n    </tr>\n    <tr>\n      <th>KITH</th>\n      <td>GFS</td>\n      <td>2016-01-01 00:00:00+00</td>\n      <td>2016-01-01 18:00:00+00</td>\n      <td>NaN</td>\n      <td>32</td>\n      <td>22</td>\n      <td>OV</td>\n      <td>270</td>\n      <td>12</td>\n      <td>31.0</td>\n      <td>...</td>\n      <td>NaN</td>\n      <td>NaN</td>\n      <td>NaN</td>\n      <td>NaN</td>\n      <td>NaN</td>\n      <td>NaN</td>\n      <td>NaN</td>\n      <td>NaN</td>\n      <td>NaN</td>\n      <td>NaN</td>\n    </tr>\n    <tr>\n      <th>...</th>\n      <td>...</td>\n      <td>...</td>\n      <td>...</td>\n      <td>...</td>\n      <td>...</td>\n      <td>...</td>\n      <td>...</td>\n      <td>...</td>\n      <td>...</td>\n      <td>...</td>\n      <td>...</td>\n      <td>...</td>\n      <td>...</td>\n      <td>...</td>\n      <td>...</td>\n      <td>...</td>\n      <td>...</td>\n      <td>...</td>\n      <td>...</td>\n      <td>...</td>\n      <td>...</td>\n    </tr>\n    <tr>\n      <th>KITH</th>\n      <td>GFS</td>\n      <td>2019-12-31 00:00:00+00</td>\n      <td>2020-01-02 06:00:00+00</td>\n      <td>NaN</td>\n      <td>24</td>\n      <td>18</td>\n      <td>CL</td>\n      <td>250</td>\n      <td>7</td>\n      <td>1.0</td>\n      <td>...</td>\n      <td>NaN</td>\n      <td>NaN</td>\n      <td>NaN</td>\n      <td>NaN</td>\n      <td>NaN</td>\n      <td>NaN</td>\n      <td>NaN</td>\n      <td>NaN</td>\n      <td>NaN</td>\n      <td>NaN</td>\n    </tr>\n    <tr>\n      <th>KITH</th>\n      <td>GFS</td>\n      <td>2019-12-31 00:00:00+00</td>\n      <td>2020-01-02 09:00:00+00</td>\n      <td>NaN</td>\n      <td>24</td>\n      <td>18</td>\n      <td>CL</td>\n      <td>170</td>\n      <td>5</td>\n      <td>NaN</td>\n      <td>...</td>\n      <td>NaN</td>\n      <td>NaN</td>\n      <td>NaN</td>\n      <td>NaN</td>\n      <td>NaN</td>\n      <td>NaN</td>\n      <td>NaN</td>\n      <td>NaN</td>\n      <td>NaN</td>\n      <td>NaN</td>\n    </tr>\n    <tr>\n      <th>KITH</th>\n      <td>GFS</td>\n      <td>2019-12-31 00:00:00+00</td>\n      <td>2020-01-02 12:00:00+00</td>\n      <td>20.0</td>\n      <td>25</td>\n      <td>19</td>\n      <td>FW</td>\n      <td>170</td>\n      <td>6</td>\n      <td>1.0</td>\n      <td>...</td>\n      <td>NaN</td>\n      <td>NaN</td>\n      <td>NaN</td>\n      <td>NaN</td>\n      <td>NaN</td>\n      <td>NaN</td>\n      <td>NaN</td>\n      <td>NaN</td>\n      <td>NaN</td>\n      <td>NaN</td>\n    </tr>\n    <tr>\n      <th>KITH</th>\n      <td>GFS</td>\n      <td>2019-12-31 00:00:00+00</td>\n      <td>2020-01-02 18:00:00+00</td>\n      <td>NaN</td>\n      <td>43</td>\n      <td>26</td>\n      <td>FW</td>\n      <td>210</td>\n      <td>10</td>\n      <td>0.0</td>\n      <td>...</td>\n      <td>NaN</td>\n      <td>NaN</td>\n      <td>NaN</td>\n      <td>NaN</td>\n      <td>NaN</td>\n      <td>NaN</td>\n      <td>NaN</td>\n      <td>NaN</td>\n      <td>NaN</td>\n      <td>NaN</td>\n    </tr>\n    <tr>\n      <th>KITH</th>\n      <td>GFS</td>\n      <td>2019-12-31 00:00:00+00</td>\n      <td>2020-01-03 00:00:00+00</td>\n      <td>45.0</td>\n      <td>38</td>\n      <td>27</td>\n      <td>OV</td>\n      <td>170</td>\n      <td>7</td>\n      <td>0.0</td>\n      <td>...</td>\n      <td>NaN</td>\n      <td>NaN</td>\n      <td>NaN</td>\n      <td>NaN</td>\n      <td>NaN</td>\n      <td>NaN</td>\n      <td>NaN</td>\n      <td>NaN</td>\n      <td>NaN</td>\n      <td>NaN</td>\n    </tr>\n  </tbody>\n</table>\n<p>124152 rows × 35 columns</p>\n</div>"
     },
     "execution_count": 329,
     "metadata": {},
     "output_type": "execute_result"
    }
   ],
   "source": [
    "# Load data from CSV files\n",
    "prediction_data = pd.read_csv(\"Prediction.csv\")\n",
    "prediction_data"
   ],
   "metadata": {
    "collapsed": false,
    "pycharm": {
     "name": "#%%\n"
    }
   }
  },
  {
   "cell_type": "code",
   "execution_count": 330,
   "outputs": [],
   "source": [
    "prediction_data['runtime'] = pd.to_datetime(prediction_data['runtime'], format='%Y-%m-%d %H:%M:%S').dt.tz_convert(None)"
   ],
   "metadata": {
    "collapsed": false,
    "pycharm": {
     "name": "#%%\n"
    }
   }
  },
  {
   "cell_type": "code",
   "execution_count": 331,
   "outputs": [
    {
     "data": {
      "text/plain": "KITH   2016-01-01 06:00:00\nKITH   2016-01-01 09:00:00\nKITH   2016-01-01 12:00:00\nKITH   2016-01-01 15:00:00\nKITH   2016-01-01 18:00:00\n               ...        \nKITH   2020-01-02 06:00:00\nKITH   2020-01-02 09:00:00\nKITH   2020-01-02 12:00:00\nKITH   2020-01-02 18:00:00\nKITH   2020-01-03 00:00:00\nName: runtime, Length: 124152, dtype: datetime64[ns]"
     },
     "execution_count": 331,
     "metadata": {},
     "output_type": "execute_result"
    }
   ],
   "source": [
    "prediction_data['runtime']"
   ],
   "metadata": {
    "collapsed": false,
    "pycharm": {
     "name": "#%%\n"
    }
   }
  },
  {
   "cell_type": "code",
   "execution_count": 332,
   "outputs": [],
   "source": [
    "df_prediction = prediction_data.set_index('runtime')"
   ],
   "metadata": {
    "collapsed": false,
    "pycharm": {
     "name": "#%%\n"
    }
   }
  },
  {
   "cell_type": "code",
   "execution_count": 333,
   "outputs": [],
   "source": [
    "df_prediction = df_prediction.groupby(df_prediction.index).mean()"
   ],
   "metadata": {
    "collapsed": false,
    "pycharm": {
     "name": "#%%\n"
    }
   }
  },
  {
   "cell_type": "code",
   "execution_count": 334,
   "outputs": [
    {
     "data": {
      "text/plain": "                         ftime        n_x        tmp    cld        wdr   wsp  \\\nruntime                                                                        \n2016-01-01 06:00:00        NaN  29.000000  26.000000  300.0   6.000000   NaN   \n2016-01-01 09:00:00        NaN  28.000000  25.000000  290.0   7.000000   NaN   \n2016-01-01 12:00:00        NaN  29.000000  24.500000  265.0   6.500000  29.0   \n2016-01-01 15:00:00        NaN  31.500000  24.000000  260.0  10.000000   NaN   \n2016-01-01 18:00:00        NaN  31.666667  23.000000  270.0  11.000000  31.5   \n...                        ...        ...        ...    ...        ...   ...   \n2020-01-02 06:00:00        NaN  24.500000  17.250000  265.0   7.250000   1.5   \n2020-01-02 09:00:00        NaN  24.000000  18.000000  170.0   5.000000   NaN   \n2020-01-02 12:00:00  20.333333  25.333333  18.666667  170.0   5.666667   2.0   \n2020-01-02 18:00:00        NaN  42.000000  25.000000  215.0   9.500000   0.5   \n2020-01-03 00:00:00  45.000000  38.000000  27.000000  170.0   7.000000   0.0   \n\n                          p06  p12  q06  t12  ...  lcb  i06  slv  s06  pra  \\\nruntime                                       ...                            \n2016-01-01 06:00:00       NaN  NaN  NaN  NaN  ...  NaN  NaN  NaN  NaN  NaN   \n2016-01-01 09:00:00       NaN  NaN  NaN  NaN  ...  NaN  NaN  NaN  NaN  NaN   \n2016-01-01 12:00:00       NaN  0.0  NaN  NaN  ...  NaN  NaN  NaN  NaN  NaN   \n2016-01-01 15:00:00       NaN  NaN  NaN  NaN  ...  NaN  NaN  NaN  NaN  NaN   \n2016-01-01 18:00:00       NaN  0.0  NaN  NaN  ...  NaN  NaN  NaN  NaN  NaN   \n...                       ...  ...  ...  ...  ...  ...  ...  ...  ...  ...   \n2020-01-02 06:00:00       NaN  0.0  NaN  NaN  ...  NaN  NaN  NaN  NaN  NaN   \n2020-01-02 09:00:00       NaN  NaN  NaN  NaN  ...  NaN  NaN  NaN  NaN  NaN   \n2020-01-02 12:00:00  3.666667  0.0  0.0  0.0  ...  NaN  NaN  NaN  NaN  NaN   \n2020-01-02 18:00:00       NaN  0.0  NaN  NaN  ...  NaN  NaN  NaN  NaN  NaN   \n2020-01-03 00:00:00  0.000000  0.0  0.0  NaN  ...  NaN  NaN  NaN  NaN  NaN   \n\n                     ppl  psn  pzr  t03  gst  \nruntime                                       \n2016-01-01 06:00:00  NaN  NaN  NaN  NaN  NaN  \n2016-01-01 09:00:00  NaN  NaN  NaN  NaN  NaN  \n2016-01-01 12:00:00  NaN  NaN  NaN  NaN  NaN  \n2016-01-01 15:00:00  NaN  NaN  NaN  NaN  NaN  \n2016-01-01 18:00:00  NaN  NaN  NaN  NaN  NaN  \n...                  ...  ...  ...  ...  ...  \n2020-01-02 06:00:00  NaN  NaN  NaN  NaN  NaN  \n2020-01-02 09:00:00  NaN  NaN  NaN  NaN  NaN  \n2020-01-02 12:00:00  NaN  NaN  NaN  NaN  NaN  \n2020-01-02 18:00:00  NaN  NaN  NaN  NaN  NaN  \n2020-01-03 00:00:00  NaN  NaN  NaN  NaN  NaN  \n\n[11701 rows x 27 columns]",
      "text/html": "<div>\n<style scoped>\n    .dataframe tbody tr th:only-of-type {\n        vertical-align: middle;\n    }\n\n    .dataframe tbody tr th {\n        vertical-align: top;\n    }\n\n    .dataframe thead th {\n        text-align: right;\n    }\n</style>\n<table border=\"1\" class=\"dataframe\">\n  <thead>\n    <tr style=\"text-align: right;\">\n      <th></th>\n      <th>ftime</th>\n      <th>n_x</th>\n      <th>tmp</th>\n      <th>cld</th>\n      <th>wdr</th>\n      <th>wsp</th>\n      <th>p06</th>\n      <th>p12</th>\n      <th>q06</th>\n      <th>t12</th>\n      <th>...</th>\n      <th>lcb</th>\n      <th>i06</th>\n      <th>slv</th>\n      <th>s06</th>\n      <th>pra</th>\n      <th>ppl</th>\n      <th>psn</th>\n      <th>pzr</th>\n      <th>t03</th>\n      <th>gst</th>\n    </tr>\n    <tr>\n      <th>runtime</th>\n      <th></th>\n      <th></th>\n      <th></th>\n      <th></th>\n      <th></th>\n      <th></th>\n      <th></th>\n      <th></th>\n      <th></th>\n      <th></th>\n      <th></th>\n      <th></th>\n      <th></th>\n      <th></th>\n      <th></th>\n      <th></th>\n      <th></th>\n      <th></th>\n      <th></th>\n      <th></th>\n      <th></th>\n    </tr>\n  </thead>\n  <tbody>\n    <tr>\n      <th>2016-01-01 06:00:00</th>\n      <td>NaN</td>\n      <td>29.000000</td>\n      <td>26.000000</td>\n      <td>300.0</td>\n      <td>6.000000</td>\n      <td>NaN</td>\n      <td>NaN</td>\n      <td>NaN</td>\n      <td>NaN</td>\n      <td>NaN</td>\n      <td>...</td>\n      <td>NaN</td>\n      <td>NaN</td>\n      <td>NaN</td>\n      <td>NaN</td>\n      <td>NaN</td>\n      <td>NaN</td>\n      <td>NaN</td>\n      <td>NaN</td>\n      <td>NaN</td>\n      <td>NaN</td>\n    </tr>\n    <tr>\n      <th>2016-01-01 09:00:00</th>\n      <td>NaN</td>\n      <td>28.000000</td>\n      <td>25.000000</td>\n      <td>290.0</td>\n      <td>7.000000</td>\n      <td>NaN</td>\n      <td>NaN</td>\n      <td>NaN</td>\n      <td>NaN</td>\n      <td>NaN</td>\n      <td>...</td>\n      <td>NaN</td>\n      <td>NaN</td>\n      <td>NaN</td>\n      <td>NaN</td>\n      <td>NaN</td>\n      <td>NaN</td>\n      <td>NaN</td>\n      <td>NaN</td>\n      <td>NaN</td>\n      <td>NaN</td>\n    </tr>\n    <tr>\n      <th>2016-01-01 12:00:00</th>\n      <td>NaN</td>\n      <td>29.000000</td>\n      <td>24.500000</td>\n      <td>265.0</td>\n      <td>6.500000</td>\n      <td>29.0</td>\n      <td>NaN</td>\n      <td>0.0</td>\n      <td>NaN</td>\n      <td>NaN</td>\n      <td>...</td>\n      <td>NaN</td>\n      <td>NaN</td>\n      <td>NaN</td>\n      <td>NaN</td>\n      <td>NaN</td>\n      <td>NaN</td>\n      <td>NaN</td>\n      <td>NaN</td>\n      <td>NaN</td>\n      <td>NaN</td>\n    </tr>\n    <tr>\n      <th>2016-01-01 15:00:00</th>\n      <td>NaN</td>\n      <td>31.500000</td>\n      <td>24.000000</td>\n      <td>260.0</td>\n      <td>10.000000</td>\n      <td>NaN</td>\n      <td>NaN</td>\n      <td>NaN</td>\n      <td>NaN</td>\n      <td>NaN</td>\n      <td>...</td>\n      <td>NaN</td>\n      <td>NaN</td>\n      <td>NaN</td>\n      <td>NaN</td>\n      <td>NaN</td>\n      <td>NaN</td>\n      <td>NaN</td>\n      <td>NaN</td>\n      <td>NaN</td>\n      <td>NaN</td>\n    </tr>\n    <tr>\n      <th>2016-01-01 18:00:00</th>\n      <td>NaN</td>\n      <td>31.666667</td>\n      <td>23.000000</td>\n      <td>270.0</td>\n      <td>11.000000</td>\n      <td>31.5</td>\n      <td>NaN</td>\n      <td>0.0</td>\n      <td>NaN</td>\n      <td>NaN</td>\n      <td>...</td>\n      <td>NaN</td>\n      <td>NaN</td>\n      <td>NaN</td>\n      <td>NaN</td>\n      <td>NaN</td>\n      <td>NaN</td>\n      <td>NaN</td>\n      <td>NaN</td>\n      <td>NaN</td>\n      <td>NaN</td>\n    </tr>\n    <tr>\n      <th>...</th>\n      <td>...</td>\n      <td>...</td>\n      <td>...</td>\n      <td>...</td>\n      <td>...</td>\n      <td>...</td>\n      <td>...</td>\n      <td>...</td>\n      <td>...</td>\n      <td>...</td>\n      <td>...</td>\n      <td>...</td>\n      <td>...</td>\n      <td>...</td>\n      <td>...</td>\n      <td>...</td>\n      <td>...</td>\n      <td>...</td>\n      <td>...</td>\n      <td>...</td>\n      <td>...</td>\n    </tr>\n    <tr>\n      <th>2020-01-02 06:00:00</th>\n      <td>NaN</td>\n      <td>24.500000</td>\n      <td>17.250000</td>\n      <td>265.0</td>\n      <td>7.250000</td>\n      <td>1.5</td>\n      <td>NaN</td>\n      <td>0.0</td>\n      <td>NaN</td>\n      <td>NaN</td>\n      <td>...</td>\n      <td>NaN</td>\n      <td>NaN</td>\n      <td>NaN</td>\n      <td>NaN</td>\n      <td>NaN</td>\n      <td>NaN</td>\n      <td>NaN</td>\n      <td>NaN</td>\n      <td>NaN</td>\n      <td>NaN</td>\n    </tr>\n    <tr>\n      <th>2020-01-02 09:00:00</th>\n      <td>NaN</td>\n      <td>24.000000</td>\n      <td>18.000000</td>\n      <td>170.0</td>\n      <td>5.000000</td>\n      <td>NaN</td>\n      <td>NaN</td>\n      <td>NaN</td>\n      <td>NaN</td>\n      <td>NaN</td>\n      <td>...</td>\n      <td>NaN</td>\n      <td>NaN</td>\n      <td>NaN</td>\n      <td>NaN</td>\n      <td>NaN</td>\n      <td>NaN</td>\n      <td>NaN</td>\n      <td>NaN</td>\n      <td>NaN</td>\n      <td>NaN</td>\n    </tr>\n    <tr>\n      <th>2020-01-02 12:00:00</th>\n      <td>20.333333</td>\n      <td>25.333333</td>\n      <td>18.666667</td>\n      <td>170.0</td>\n      <td>5.666667</td>\n      <td>2.0</td>\n      <td>3.666667</td>\n      <td>0.0</td>\n      <td>0.0</td>\n      <td>0.0</td>\n      <td>...</td>\n      <td>NaN</td>\n      <td>NaN</td>\n      <td>NaN</td>\n      <td>NaN</td>\n      <td>NaN</td>\n      <td>NaN</td>\n      <td>NaN</td>\n      <td>NaN</td>\n      <td>NaN</td>\n      <td>NaN</td>\n    </tr>\n    <tr>\n      <th>2020-01-02 18:00:00</th>\n      <td>NaN</td>\n      <td>42.000000</td>\n      <td>25.000000</td>\n      <td>215.0</td>\n      <td>9.500000</td>\n      <td>0.5</td>\n      <td>NaN</td>\n      <td>0.0</td>\n      <td>NaN</td>\n      <td>NaN</td>\n      <td>...</td>\n      <td>NaN</td>\n      <td>NaN</td>\n      <td>NaN</td>\n      <td>NaN</td>\n      <td>NaN</td>\n      <td>NaN</td>\n      <td>NaN</td>\n      <td>NaN</td>\n      <td>NaN</td>\n      <td>NaN</td>\n    </tr>\n    <tr>\n      <th>2020-01-03 00:00:00</th>\n      <td>45.000000</td>\n      <td>38.000000</td>\n      <td>27.000000</td>\n      <td>170.0</td>\n      <td>7.000000</td>\n      <td>0.0</td>\n      <td>0.000000</td>\n      <td>0.0</td>\n      <td>0.0</td>\n      <td>NaN</td>\n      <td>...</td>\n      <td>NaN</td>\n      <td>NaN</td>\n      <td>NaN</td>\n      <td>NaN</td>\n      <td>NaN</td>\n      <td>NaN</td>\n      <td>NaN</td>\n      <td>NaN</td>\n      <td>NaN</td>\n      <td>NaN</td>\n    </tr>\n  </tbody>\n</table>\n<p>11701 rows × 27 columns</p>\n</div>"
     },
     "execution_count": 334,
     "metadata": {},
     "output_type": "execute_result"
    }
   ],
   "source": [
    "df_prediction"
   ],
   "metadata": {
    "collapsed": false,
    "pycharm": {
     "name": "#%%\n"
    }
   }
  },
  {
   "cell_type": "code",
   "execution_count": 335,
   "outputs": [],
   "source": [
    "Every_three_hour = df_prediction.index.set_names(\"Prediction 3 hours intervals\")"
   ],
   "metadata": {
    "collapsed": false,
    "pycharm": {
     "name": "#%%\n"
    }
   }
  },
  {
   "cell_type": "code",
   "execution_count": 336,
   "outputs": [],
   "source": [
    "Every_three_hour = pd.to_datetime(Every_three_hour, format='%Y-%m-%d %H:%M:%S')"
   ],
   "metadata": {
    "collapsed": false,
    "pycharm": {
     "name": "#%%\n"
    }
   }
  },
  {
   "cell_type": "code",
   "execution_count": 337,
   "outputs": [
    {
     "data": {
      "text/plain": "DatetimeIndex(['2016-01-01 06:00:00', '2016-01-01 09:00:00',\n               '2016-01-01 12:00:00', '2016-01-01 15:00:00',\n               '2016-01-01 18:00:00', '2016-01-01 21:00:00',\n               '2016-01-02 00:00:00', '2016-01-02 03:00:00',\n               '2016-01-02 06:00:00', '2016-01-02 09:00:00',\n               ...\n               '2020-01-01 15:00:00', '2020-01-01 18:00:00',\n               '2020-01-01 21:00:00', '2020-01-02 00:00:00',\n               '2020-01-02 03:00:00', '2020-01-02 06:00:00',\n               '2020-01-02 09:00:00', '2020-01-02 12:00:00',\n               '2020-01-02 18:00:00', '2020-01-03 00:00:00'],\n              dtype='datetime64[ns]', name='Prediction 3 hours intervals', length=11701, freq=None)"
     },
     "execution_count": 337,
     "metadata": {},
     "output_type": "execute_result"
    }
   ],
   "source": [
    "Every_three_hour"
   ],
   "metadata": {
    "collapsed": false,
    "pycharm": {
     "name": "#%%\n"
    }
   }
  },
  {
   "cell_type": "code",
   "execution_count": 338,
   "outputs": [],
   "source": [
    "Temperature_prediction = df_prediction.n_x.values"
   ],
   "metadata": {
    "collapsed": false,
    "pycharm": {
     "name": "#%%\n"
    }
   }
  },
  {
   "cell_type": "code",
   "execution_count": 339,
   "outputs": [
    {
     "data": {
      "text/plain": "array([29.        , 28.        , 29.        , ..., 25.33333333,\n       42.        , 38.        ])"
     },
     "execution_count": 339,
     "metadata": {},
     "output_type": "execute_result"
    }
   ],
   "source": [
    "Temperature_prediction"
   ],
   "metadata": {
    "collapsed": false,
    "pycharm": {
     "name": "#%%\n"
    }
   }
  },
  {
   "cell_type": "code",
   "execution_count": 340,
   "outputs": [],
   "source": [
    "Tmp_DataFrame = {\"Prediction time\": Every_three_hour, \"Temperature predictions\": Temperature_prediction}\n",
    "Tmp_DataFrame = pd.DataFrame(Tmp_DataFrame)\n",
    "Tmp_DataFrame = Tmp_DataFrame.set_index(\"Prediction time\")\n",
    "Tmp_DataFrame.index = pd.to_datetime(Tmp_DataFrame.index, format='%Y-%m-%d %H:%M')"
   ],
   "metadata": {
    "collapsed": false,
    "pycharm": {
     "name": "#%%\n"
    }
   }
  },
  {
   "cell_type": "code",
   "execution_count": 341,
   "outputs": [
    {
     "data": {
      "text/plain": "                     Temperature predictions\nPrediction time                             \n2016-01-01 06:00:00                29.000000\n2016-01-01 09:00:00                28.000000\n2016-01-01 12:00:00                29.000000\n2016-01-01 15:00:00                31.500000\n2016-01-01 18:00:00                31.666667\n...                                      ...\n2020-01-02 06:00:00                24.500000\n2020-01-02 09:00:00                24.000000\n2020-01-02 12:00:00                25.333333\n2020-01-02 18:00:00                42.000000\n2020-01-03 00:00:00                38.000000\n\n[11701 rows x 1 columns]",
      "text/html": "<div>\n<style scoped>\n    .dataframe tbody tr th:only-of-type {\n        vertical-align: middle;\n    }\n\n    .dataframe tbody tr th {\n        vertical-align: top;\n    }\n\n    .dataframe thead th {\n        text-align: right;\n    }\n</style>\n<table border=\"1\" class=\"dataframe\">\n  <thead>\n    <tr style=\"text-align: right;\">\n      <th></th>\n      <th>Temperature predictions</th>\n    </tr>\n    <tr>\n      <th>Prediction time</th>\n      <th></th>\n    </tr>\n  </thead>\n  <tbody>\n    <tr>\n      <th>2016-01-01 06:00:00</th>\n      <td>29.000000</td>\n    </tr>\n    <tr>\n      <th>2016-01-01 09:00:00</th>\n      <td>28.000000</td>\n    </tr>\n    <tr>\n      <th>2016-01-01 12:00:00</th>\n      <td>29.000000</td>\n    </tr>\n    <tr>\n      <th>2016-01-01 15:00:00</th>\n      <td>31.500000</td>\n    </tr>\n    <tr>\n      <th>2016-01-01 18:00:00</th>\n      <td>31.666667</td>\n    </tr>\n    <tr>\n      <th>...</th>\n      <td>...</td>\n    </tr>\n    <tr>\n      <th>2020-01-02 06:00:00</th>\n      <td>24.500000</td>\n    </tr>\n    <tr>\n      <th>2020-01-02 09:00:00</th>\n      <td>24.000000</td>\n    </tr>\n    <tr>\n      <th>2020-01-02 12:00:00</th>\n      <td>25.333333</td>\n    </tr>\n    <tr>\n      <th>2020-01-02 18:00:00</th>\n      <td>42.000000</td>\n    </tr>\n    <tr>\n      <th>2020-01-03 00:00:00</th>\n      <td>38.000000</td>\n    </tr>\n  </tbody>\n</table>\n<p>11701 rows × 1 columns</p>\n</div>"
     },
     "execution_count": 341,
     "metadata": {},
     "output_type": "execute_result"
    }
   ],
   "source": [
    "Tmp_DataFrame"
   ],
   "metadata": {
    "collapsed": false,
    "pycharm": {
     "name": "#%%\n"
    }
   }
  },
  {
   "cell_type": "code",
   "execution_count": 342,
   "outputs": [],
   "source": [
    "df_temp_predict = Tmp_DataFrame.reindex(pd.date_range(start='2016-01-01', end='2020-01-03', freq='H'), index='Prediction time', fill_value=None)\n",
    "interpolate_temp = df_temp_predict['Temperature predictions'].interpolate(method=\"linear\")"
   ],
   "metadata": {
    "collapsed": false,
    "pycharm": {
     "name": "#%%\n"
    }
   }
  },
  {
   "cell_type": "code",
   "execution_count": 343,
   "outputs": [
    {
     "data": {
      "text/plain": "                     Temperature predictions\n2016-01-01 00:00:00                      NaN\n2016-01-01 01:00:00                      NaN\n2016-01-01 02:00:00                      NaN\n2016-01-01 03:00:00                      NaN\n2016-01-01 04:00:00                      NaN\n...                                      ...\n2020-01-02 20:00:00                      NaN\n2020-01-02 21:00:00                      NaN\n2020-01-02 22:00:00                      NaN\n2020-01-02 23:00:00                      NaN\n2020-01-03 00:00:00                     38.0\n\n[35113 rows x 1 columns]",
      "text/html": "<div>\n<style scoped>\n    .dataframe tbody tr th:only-of-type {\n        vertical-align: middle;\n    }\n\n    .dataframe tbody tr th {\n        vertical-align: top;\n    }\n\n    .dataframe thead th {\n        text-align: right;\n    }\n</style>\n<table border=\"1\" class=\"dataframe\">\n  <thead>\n    <tr style=\"text-align: right;\">\n      <th></th>\n      <th>Temperature predictions</th>\n    </tr>\n  </thead>\n  <tbody>\n    <tr>\n      <th>2016-01-01 00:00:00</th>\n      <td>NaN</td>\n    </tr>\n    <tr>\n      <th>2016-01-01 01:00:00</th>\n      <td>NaN</td>\n    </tr>\n    <tr>\n      <th>2016-01-01 02:00:00</th>\n      <td>NaN</td>\n    </tr>\n    <tr>\n      <th>2016-01-01 03:00:00</th>\n      <td>NaN</td>\n    </tr>\n    <tr>\n      <th>2016-01-01 04:00:00</th>\n      <td>NaN</td>\n    </tr>\n    <tr>\n      <th>...</th>\n      <td>...</td>\n    </tr>\n    <tr>\n      <th>2020-01-02 20:00:00</th>\n      <td>NaN</td>\n    </tr>\n    <tr>\n      <th>2020-01-02 21:00:00</th>\n      <td>NaN</td>\n    </tr>\n    <tr>\n      <th>2020-01-02 22:00:00</th>\n      <td>NaN</td>\n    </tr>\n    <tr>\n      <th>2020-01-02 23:00:00</th>\n      <td>NaN</td>\n    </tr>\n    <tr>\n      <th>2020-01-03 00:00:00</th>\n      <td>38.0</td>\n    </tr>\n  </tbody>\n</table>\n<p>35113 rows × 1 columns</p>\n</div>"
     },
     "execution_count": 343,
     "metadata": {},
     "output_type": "execute_result"
    }
   ],
   "source": [
    "df_temp_predict"
   ],
   "metadata": {
    "collapsed": false,
    "pycharm": {
     "name": "#%%\n"
    }
   }
  },
  {
   "cell_type": "code",
   "execution_count": 344,
   "outputs": [
    {
     "data": {
      "text/plain": "2016-01-01 00:00:00          NaN\n2016-01-01 01:00:00          NaN\n2016-01-01 02:00:00          NaN\n2016-01-01 03:00:00          NaN\n2016-01-01 04:00:00          NaN\n                         ...    \n2020-01-02 20:00:00    40.666667\n2020-01-02 21:00:00    40.000000\n2020-01-02 22:00:00    39.333333\n2020-01-02 23:00:00    38.666667\n2020-01-03 00:00:00    38.000000\nFreq: H, Name: Temperature predictions, Length: 35113, dtype: float64"
     },
     "execution_count": 344,
     "metadata": {},
     "output_type": "execute_result"
    }
   ],
   "source": [
    "interpolate_temp"
   ],
   "metadata": {
    "collapsed": false,
    "pycharm": {
     "name": "#%%\n"
    }
   }
  },
  {
   "cell_type": "code",
   "execution_count": 345,
   "outputs": [],
   "source": [
    "est_temp = interpolate_temp[5:]"
   ],
   "metadata": {
    "collapsed": false,
    "pycharm": {
     "name": "#%%\n"
    }
   }
  },
  {
   "cell_type": "code",
   "execution_count": 346,
   "outputs": [],
   "source": [
    "est_temp[0] = 28.5"
   ],
   "metadata": {
    "collapsed": false,
    "pycharm": {
     "name": "#%%\n"
    }
   }
  },
  {
   "cell_type": "code",
   "execution_count": 347,
   "outputs": [],
   "source": [
    "convert_far_cel = lambda x: 5/9*(x-32)"
   ],
   "metadata": {
    "collapsed": false,
    "pycharm": {
     "name": "#%%\n"
    }
   }
  },
  {
   "cell_type": "code",
   "execution_count": 348,
   "outputs": [
    {
     "data": {
      "text/plain": "2016-01-01 05:00:00   -1.944444\n2016-01-01 06:00:00   -1.666667\n2016-01-01 07:00:00   -1.851852\n2016-01-01 08:00:00   -2.037037\n2016-01-01 09:00:00   -2.222222\n                         ...   \n2020-01-01 00:00:00    0.308642\n2020-01-01 01:00:00   -0.195473\n2020-01-01 02:00:00   -0.699588\n2020-01-01 03:00:00   -1.203704\n2020-01-01 04:00:00   -1.520062\nFreq: H, Name: Temperature predictions, Length: 35064, dtype: float64"
     },
     "execution_count": 348,
     "metadata": {},
     "output_type": "execute_result"
    }
   ],
   "source": [
    "est_temp_in_range = convert_far_cel(est_temp[:-44])\n",
    "est_temp_in_range"
   ],
   "metadata": {
    "collapsed": false,
    "pycharm": {
     "name": "#%%\n"
    }
   }
  },
  {
   "cell_type": "code",
   "execution_count": 349,
   "outputs": [],
   "source": [
    "whole_four_years = pd.date_range(start='2016-01-01', end='2020-01-01', freq='H')\n",
    "predict_whole_four_year_df = {\"time\": whole_four_years[:-1], \"predicted temp\": est_temp_in_range.values}\n",
    "PredictDataFrame = pd.DataFrame(predict_whole_four_year_df)"
   ],
   "metadata": {
    "collapsed": false,
    "pycharm": {
     "name": "#%%\n"
    }
   }
  },
  {
   "cell_type": "code",
   "execution_count": 352,
   "outputs": [
    {
     "data": {
      "text/plain": "                     time  predicted temp\n0     2016-01-01 00:00:00       -1.944444\n1     2016-01-01 01:00:00       -1.666667\n2     2016-01-01 02:00:00       -1.851852\n3     2016-01-01 03:00:00       -2.037037\n4     2016-01-01 04:00:00       -2.222222\n...                   ...             ...\n35059 2019-12-31 19:00:00        0.308642\n35060 2019-12-31 20:00:00       -0.195473\n35061 2019-12-31 21:00:00       -0.699588\n35062 2019-12-31 22:00:00       -1.203704\n35063 2019-12-31 23:00:00       -1.520062\n\n[35064 rows x 2 columns]",
      "text/html": "<div>\n<style scoped>\n    .dataframe tbody tr th:only-of-type {\n        vertical-align: middle;\n    }\n\n    .dataframe tbody tr th {\n        vertical-align: top;\n    }\n\n    .dataframe thead th {\n        text-align: right;\n    }\n</style>\n<table border=\"1\" class=\"dataframe\">\n  <thead>\n    <tr style=\"text-align: right;\">\n      <th></th>\n      <th>time</th>\n      <th>predicted temp</th>\n    </tr>\n  </thead>\n  <tbody>\n    <tr>\n      <th>0</th>\n      <td>2016-01-01 00:00:00</td>\n      <td>-1.944444</td>\n    </tr>\n    <tr>\n      <th>1</th>\n      <td>2016-01-01 01:00:00</td>\n      <td>-1.666667</td>\n    </tr>\n    <tr>\n      <th>2</th>\n      <td>2016-01-01 02:00:00</td>\n      <td>-1.851852</td>\n    </tr>\n    <tr>\n      <th>3</th>\n      <td>2016-01-01 03:00:00</td>\n      <td>-2.037037</td>\n    </tr>\n    <tr>\n      <th>4</th>\n      <td>2016-01-01 04:00:00</td>\n      <td>-2.222222</td>\n    </tr>\n    <tr>\n      <th>...</th>\n      <td>...</td>\n      <td>...</td>\n    </tr>\n    <tr>\n      <th>35059</th>\n      <td>2019-12-31 19:00:00</td>\n      <td>0.308642</td>\n    </tr>\n    <tr>\n      <th>35060</th>\n      <td>2019-12-31 20:00:00</td>\n      <td>-0.195473</td>\n    </tr>\n    <tr>\n      <th>35061</th>\n      <td>2019-12-31 21:00:00</td>\n      <td>-0.699588</td>\n    </tr>\n    <tr>\n      <th>35062</th>\n      <td>2019-12-31 22:00:00</td>\n      <td>-1.203704</td>\n    </tr>\n    <tr>\n      <th>35063</th>\n      <td>2019-12-31 23:00:00</td>\n      <td>-1.520062</td>\n    </tr>\n  </tbody>\n</table>\n<p>35064 rows × 2 columns</p>\n</div>"
     },
     "execution_count": 352,
     "metadata": {},
     "output_type": "execute_result"
    }
   ],
   "source": [
    "PredictDataFrame"
   ],
   "metadata": {
    "collapsed": false,
    "pycharm": {
     "name": "#%%\n"
    }
   }
  },
  {
   "cell_type": "code",
   "execution_count": 353,
   "outputs": [
    {
     "data": {
      "text/plain": "0        0.1\n1        0.3\n2        0.3\n3        0.3\n4        0.3\n        ... \n35059    0.6\n35060    0.0\n35061    0.0\n35062   -0.6\n35063   -0.6\nName: temp, Length: 35064, dtype: float64"
     },
     "execution_count": 353,
     "metadata": {},
     "output_type": "execute_result"
    }
   ],
   "source": [
    "true_data = pd.read_csv(\"IthacaWeather.csv\")\n",
    "true_temp = true_data['temp']\n",
    "true_temp"
   ],
   "metadata": {
    "collapsed": false,
    "pycharm": {
     "name": "#%%\n"
    }
   }
  },
  {
   "cell_type": "code",
   "execution_count": 354,
   "outputs": [],
   "source": [
    "true_predict_std = np.std(np.array(PredictDataFrame['predicted temp']) - np.array(true_temp))"
   ],
   "metadata": {
    "collapsed": false,
    "pycharm": {
     "name": "#%%\n"
    }
   }
  },
  {
   "cell_type": "code",
   "execution_count": 355,
   "outputs": [
    {
     "data": {
      "text/plain": "1.888840866954095"
     },
     "execution_count": 355,
     "metadata": {},
     "output_type": "execute_result"
    }
   ],
   "source": [
    "true_predict_std"
   ],
   "metadata": {
    "collapsed": false,
    "pycharm": {
     "name": "#%%\n"
    }
   }
  },
  {
   "cell_type": "code",
   "execution_count": 356,
   "outputs": [
    {
     "data": {
      "text/plain": "2016-01-01 11:00:00   -1.851852\n2016-01-01 12:00:00   -1.666667\n2016-01-01 13:00:00   -1.203704\n2016-01-01 14:00:00   -0.740741\n2016-01-01 15:00:00   -0.277778\n                         ...   \n2020-01-01 06:00:00   -2.152778\n2020-01-01 07:00:00   -2.472222\n2020-01-01 08:00:00   -2.791667\n2020-01-01 09:00:00   -3.111111\n2020-01-01 10:00:00   -3.211640\nFreq: H, Name: Temperature predictions, Length: 35064, dtype: float64"
     },
     "execution_count": 356,
     "metadata": {},
     "output_type": "execute_result"
    }
   ],
   "source": [
    "est_temp_6 = convert_far_cel(est_temp[6:-38])\n",
    "est_temp_6"
   ],
   "metadata": {
    "collapsed": false,
    "pycharm": {
     "name": "#%%\n"
    }
   }
  },
  {
   "cell_type": "code",
   "execution_count": 357,
   "outputs": [],
   "source": [
    "est_temp_12 = convert_far_cel(interpolate_temp[5:-32])\n",
    "predict_temp_12 = est_temp_12[12:]"
   ],
   "metadata": {
    "collapsed": false,
    "pycharm": {
     "name": "#%%\n"
    }
   }
  },
  {
   "cell_type": "code",
   "execution_count": 359,
   "outputs": [
    {
     "data": {
      "text/plain": "2016-01-01 17:00:00   -0.216049\n2016-01-01 18:00:00   -0.185185\n2016-01-01 19:00:00   -0.617284\n2016-01-01 20:00:00   -1.049383\n2016-01-01 21:00:00   -1.481481\n                         ...   \n2020-01-01 12:00:00   -3.412698\n2020-01-01 13:00:00   -2.784392\n2020-01-01 14:00:00   -2.156085\n2020-01-01 15:00:00   -1.527778\n2020-01-01 16:00:00   -1.018519\nFreq: H, Name: Temperature predictions, Length: 35064, dtype: float64"
     },
     "execution_count": 359,
     "metadata": {},
     "output_type": "execute_result"
    }
   ],
   "source": [
    "predict_temp_12"
   ],
   "metadata": {
    "collapsed": false,
    "pycharm": {
     "name": "#%%\n"
    }
   }
  },
  {
   "cell_type": "code",
   "execution_count": 360,
   "outputs": [],
   "source": [
    "est_temp_24 = convert_far_cel(interpolate_temp[5:-20])\n",
    "predict_temp_24 = est_temp_24[24:]"
   ],
   "metadata": {
    "collapsed": false,
    "pycharm": {
     "name": "#%%\n"
    }
   }
  },
  {
   "cell_type": "code",
   "execution_count": 361,
   "outputs": [],
   "source": [
    "noise_12 = np.random.normal(0, true_predict_std/6, [35064,1])"
   ],
   "metadata": {
    "collapsed": false,
    "pycharm": {
     "name": "#%%\n"
    }
   }
  },
  {
   "cell_type": "code",
   "execution_count": 362,
   "outputs": [
    {
     "data": {
      "text/plain": "array([[ 0.4330395 ],\n       [-0.19266718],\n       [ 0.43069448],\n       ...,\n       [-0.01760942],\n       [-0.07434604],\n       [-0.16602265]])"
     },
     "execution_count": 362,
     "metadata": {},
     "output_type": "execute_result"
    }
   ],
   "source": [
    "noise_12"
   ],
   "metadata": {
    "collapsed": false,
    "pycharm": {
     "name": "#%%\n"
    }
   }
  },
  {
   "cell_type": "code",
   "execution_count": 363,
   "outputs": [],
   "source": [
    "noise_24 = np.random.normal(0, true_predict_std/3, [35064,1])"
   ],
   "metadata": {
    "collapsed": false,
    "pycharm": {
     "name": "#%%\n"
    }
   }
  },
  {
   "cell_type": "code",
   "execution_count": 364,
   "outputs": [],
   "source": [
    "noise_predict_12 = np.add(predict_temp_12.values.reshape(35064,1), noise_12)"
   ],
   "metadata": {
    "collapsed": false,
    "pycharm": {
     "name": "#%%\n"
    }
   }
  },
  {
   "cell_type": "code",
   "execution_count": 365,
   "outputs": [],
   "source": [
    "noise_predict_24 = np.add(predict_temp_24.values.reshape(35064,1), noise_24)"
   ],
   "metadata": {
    "collapsed": false,
    "pycharm": {
     "name": "#%%\n"
    }
   }
  },
  {
   "cell_type": "code",
   "execution_count": 366,
   "outputs": [
    {
     "data": {
      "text/plain": "array([[ 0.21699012],\n       [-0.37785237],\n       [-0.18658948],\n       ...,\n       [-2.17369408],\n       [-1.60212381],\n       [-1.18454117]])"
     },
     "execution_count": 366,
     "metadata": {},
     "output_type": "execute_result"
    }
   ],
   "source": [
    "noise_predict_12"
   ],
   "metadata": {
    "collapsed": false,
    "pycharm": {
     "name": "#%%\n"
    }
   }
  },
  {
   "cell_type": "code",
   "execution_count": 367,
   "outputs": [
    {
     "data": {
      "text/plain": "array([[-3.77120515],\n       [-3.72296708],\n       [-2.95250166],\n       ...,\n       [-1.8761904 ],\n       [-2.17284514],\n       [-1.79850807]])"
     },
     "execution_count": 367,
     "metadata": {},
     "output_type": "execute_result"
    }
   ],
   "source": [
    "noise_predict_24"
   ],
   "metadata": {
    "collapsed": false,
    "pycharm": {
     "name": "#%%\n"
    }
   }
  },
  {
   "cell_type": "code",
   "execution_count": 407,
   "outputs": [],
   "source": [
    "import math\n",
    "calculate_rh = lambda dpt, tmp: 100*(math.exp((17.625*dpt)/(243.04+dpt))/math.exp((17.625*tmp)/(243.04+tmp)))"
   ],
   "metadata": {
    "collapsed": false,
    "pycharm": {
     "name": "#%%\n"
    }
   }
  },
  {
   "cell_type": "code",
   "execution_count": 380,
   "outputs": [],
   "source": [
    "Dewpoint_prediction = df_prediction.tmp.values"
   ],
   "metadata": {
    "collapsed": false,
    "pycharm": {
     "name": "#%%\n"
    }
   }
  },
  {
   "cell_type": "code",
   "execution_count": 381,
   "outputs": [],
   "source": [
    "Dpt_DataFrame = {\"Prediction time\": Every_three_hour, \"Dew point predictions\": Dewpoint_prediction}\n",
    "Dpt_DataFrame = pd.DataFrame(Dpt_DataFrame)\n",
    "Dpt_DataFrame = Dpt_DataFrame.set_index(\"Prediction time\")\n",
    "Dpt_DataFrame.index = pd.to_datetime(Dpt_DataFrame.index, format='%Y-%m-%d %H:%M')"
   ],
   "metadata": {
    "collapsed": false,
    "pycharm": {
     "name": "#%%\n"
    }
   }
  },
  {
   "cell_type": "code",
   "execution_count": 382,
   "outputs": [],
   "source": [
    "df_dpt_predict = Dpt_DataFrame.reindex(pd.date_range(start='2016-01-01', end='2020-01-03', freq='H'), index='Prediction time', fill_value=None)\n",
    "interpolate_dpt = df_dpt_predict['Dew point predictions'].interpolate(method=\"linear\")"
   ],
   "metadata": {
    "collapsed": false,
    "pycharm": {
     "name": "#%%\n"
    }
   }
  },
  {
   "cell_type": "code",
   "execution_count": 411,
   "outputs": [],
   "source": [
    "est_dpt = interpolate_dpt[5:]\n",
    "est_dpt[0] = 27\n",
    "est_dpt_in_range = convert_far_cel(est_dpt[:-44])"
   ],
   "metadata": {
    "collapsed": false,
    "pycharm": {
     "name": "#%%\n"
    }
   }
  },
  {
   "cell_type": "code",
   "execution_count": 415,
   "outputs": [],
   "source": [
    "def calculate_rh_lst(dpts, tmps):\n",
    "    res = []\n",
    "    for dpt, tmp in zip(dpts, tmps):\n",
    "        res.append(calculate_rh(dpt, tmp))\n",
    "    return np.array(res)"
   ],
   "metadata": {
    "collapsed": false,
    "pycharm": {
     "name": "#%%\n"
    }
   }
  },
  {
   "cell_type": "code",
   "execution_count": 417,
   "outputs": [],
   "source": [
    "whole_four_years = pd.date_range(start='2016-01-01', end='2020-01-01', freq='H')\n",
    "predict_rh_whole_four_year_df = calculate_rh_lst(est_dpt_in_range, est_temp_in_range)\n",
    "predict_rh_whole_four_year_df = {\"time\": whole_four_years[:-1], \"predicted RH\": predict_rh_whole_four_year_df}\n",
    "PredictDptDataFrame = pd.DataFrame(predict_rh_whole_four_year_df)"
   ],
   "metadata": {
    "collapsed": false,
    "pycharm": {
     "name": "#%%\n"
    }
   }
  },
  {
   "cell_type": "code",
   "execution_count": 418,
   "outputs": [
    {
     "data": {
      "text/plain": "                     time  predicted RH\n0     2016-01-01 00:00:00     94.023621\n1     2016-01-01 01:00:00     88.391729\n2     2016-01-01 02:00:00     88.374918\n3     2016-01-01 03:00:00     88.358070\n4     2016-01-01 04:00:00     88.341187\n...                   ...           ...\n35059 2019-12-31 19:00:00     78.672481\n35060 2019-12-31 20:00:00     78.112095\n35061 2019-12-31 21:00:00     77.550857\n35062 2019-12-31 22:00:00     76.988795\n35063 2019-12-31 23:00:00     76.756262\n\n[35064 rows x 2 columns]",
      "text/html": "<div>\n<style scoped>\n    .dataframe tbody tr th:only-of-type {\n        vertical-align: middle;\n    }\n\n    .dataframe tbody tr th {\n        vertical-align: top;\n    }\n\n    .dataframe thead th {\n        text-align: right;\n    }\n</style>\n<table border=\"1\" class=\"dataframe\">\n  <thead>\n    <tr style=\"text-align: right;\">\n      <th></th>\n      <th>time</th>\n      <th>predicted RH</th>\n    </tr>\n  </thead>\n  <tbody>\n    <tr>\n      <th>0</th>\n      <td>2016-01-01 00:00:00</td>\n      <td>94.023621</td>\n    </tr>\n    <tr>\n      <th>1</th>\n      <td>2016-01-01 01:00:00</td>\n      <td>88.391729</td>\n    </tr>\n    <tr>\n      <th>2</th>\n      <td>2016-01-01 02:00:00</td>\n      <td>88.374918</td>\n    </tr>\n    <tr>\n      <th>3</th>\n      <td>2016-01-01 03:00:00</td>\n      <td>88.358070</td>\n    </tr>\n    <tr>\n      <th>4</th>\n      <td>2016-01-01 04:00:00</td>\n      <td>88.341187</td>\n    </tr>\n    <tr>\n      <th>...</th>\n      <td>...</td>\n      <td>...</td>\n    </tr>\n    <tr>\n      <th>35059</th>\n      <td>2019-12-31 19:00:00</td>\n      <td>78.672481</td>\n    </tr>\n    <tr>\n      <th>35060</th>\n      <td>2019-12-31 20:00:00</td>\n      <td>78.112095</td>\n    </tr>\n    <tr>\n      <th>35061</th>\n      <td>2019-12-31 21:00:00</td>\n      <td>77.550857</td>\n    </tr>\n    <tr>\n      <th>35062</th>\n      <td>2019-12-31 22:00:00</td>\n      <td>76.988795</td>\n    </tr>\n    <tr>\n      <th>35063</th>\n      <td>2019-12-31 23:00:00</td>\n      <td>76.756262</td>\n    </tr>\n  </tbody>\n</table>\n<p>35064 rows × 2 columns</p>\n</div>"
     },
     "execution_count": 418,
     "metadata": {},
     "output_type": "execute_result"
    }
   ],
   "source": [
    "PredictDptDataFrame"
   ],
   "metadata": {
    "collapsed": false,
    "pycharm": {
     "name": "#%%\n"
    }
   }
  },
  {
   "cell_type": "code",
   "execution_count": 420,
   "outputs": [
    {
     "data": {
      "text/plain": "10.042623625798164"
     },
     "execution_count": 420,
     "metadata": {},
     "output_type": "execute_result"
    }
   ],
   "source": [
    "true_rh = true_data['humidity']\n",
    "true_predict_rh_std = np.std(np.array(PredictDptDataFrame['predicted RH']) - np.array(true_rh))"
   ],
   "metadata": {
    "collapsed": false,
    "pycharm": {
     "name": "#%%\n"
    }
   }
  },
  {
   "cell_type": "code",
   "execution_count": 437,
   "outputs": [],
   "source": [
    "est_rh_6 = calculate_rh_lst(convert_far_cel(interpolate_dpt[5:-38]), convert_far_cel(interpolate_temp[5:-38]))\n",
    "predict_rh_6 = est_rh_6[6:]"
   ],
   "metadata": {
    "collapsed": false,
    "pycharm": {
     "name": "#%%\n"
    }
   }
  },
  {
   "cell_type": "code",
   "execution_count": 438,
   "outputs": [],
   "source": [
    "est_rh_12 = calculate_rh_lst(convert_far_cel(interpolate_dpt[5:-32]), convert_far_cel(interpolate_temp[5:-32]))\n",
    "predict_rh_12 = est_rh_12[12:]"
   ],
   "metadata": {
    "collapsed": false,
    "pycharm": {
     "name": "#%%\n"
    }
   }
  },
  {
   "cell_type": "code",
   "execution_count": 439,
   "outputs": [],
   "source": [
    "est_rh_24 = calculate_rh_lst(convert_far_cel(interpolate_dpt[5:-20]), convert_far_cel(interpolate_temp[5:-20]))\n",
    "predict_rh_24 = est_rh_24[24:]"
   ],
   "metadata": {
    "collapsed": false,
    "pycharm": {
     "name": "#%%\n"
    }
   }
  },
  {
   "cell_type": "code",
   "execution_count": 444,
   "outputs": [],
   "source": [
    "noise_rh_12 = np.random.normal(0, true_predict_rh_std/5, [35064,1])\n",
    "noise_rh_24 = np.random.normal(0, true_predict_rh_std/3, [35064,1])"
   ],
   "metadata": {
    "collapsed": false,
    "pycharm": {
     "name": "#%%\n"
    }
   }
  },
  {
   "cell_type": "code",
   "execution_count": 449,
   "outputs": [],
   "source": [
    "noise_predict_rh_12 = np.add(predict_rh_12.reshape(35064,1), noise_rh_12)\n",
    "noise_predict_rh_24 = np.add(predict_rh_24.reshape(35064,1), noise_rh_24)"
   ],
   "metadata": {
    "collapsed": false,
    "pycharm": {
     "name": "#%%\n"
    }
   }
  },
  {
   "cell_type": "code",
   "execution_count": 470,
   "outputs": [],
   "source": [
    "PredictionDataFrame = {\"6h Prediction Outdoor Drybulb Temperature [C]\": est_temp_6.values.tolist(), \"12h Prediction Outdoor Drybulb Temperature [C]\": noise_predict_12.flatten().tolist(), \"24h Prediction Outdoor Drybulb Temperature [C]\": noise_predict_24.flatten().tolist(), \"6h Prediction Outdoor Relative Humidity [%]\": predict_rh_6.tolist(), \"12h Prediction Outdoor Relative Humidity [%]\": noise_predict_rh_12.flatten().tolist(), \"24h Prediction Outdoor Relative Humidity [%]\": noise_predict_rh_24.flatten().tolist()}\n",
    "PredictionDataFrame = pd.DataFrame(PredictionDataFrame)\n",
    "PredictionDataFrame.to_csv(\"processed/Prediction.csv\", index=False)"
   ],
   "metadata": {
    "collapsed": false,
    "pycharm": {
     "name": "#%%\n"
    }
   }
  },
  {
   "cell_type": "code",
   "execution_count": null,
   "outputs": [],
   "source": [],
   "metadata": {
    "collapsed": false,
    "pycharm": {
     "name": "#%%\n"
    }
   }
  }
 ],
 "metadata": {
  "kernelspec": {
   "display_name": "Python 3",
   "language": "python",
   "name": "python3"
  },
  "language_info": {
   "codemirror_mode": {
    "name": "ipython",
    "version": 2
   },
   "file_extension": ".py",
   "mimetype": "text/x-python",
   "name": "python",
   "nbconvert_exporter": "python",
   "pygments_lexer": "ipython2",
   "version": "2.7.6"
  }
 },
 "nbformat": 4,
 "nbformat_minor": 0
}