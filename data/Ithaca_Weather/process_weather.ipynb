{
 "cells": [
  {
   "cell_type": "code",
   "execution_count": 1,
   "metadata": {
    "collapsed": true,
    "pycharm": {
     "name": "#%%\n"
    }
   },
   "outputs": [],
   "source": [
    "import numpy as np\n",
    "import pandas as pd\n",
    "from matplotlib import pyplot as plt"
   ]
  },
  {
   "cell_type": "code",
   "execution_count": 81,
   "outputs": [
    {
     "data": {
      "text/plain": "         name             datetime  temp  feelslike  dew  humidity  precip  \\\n0      Ithaca  2016-01-01T00:00:00   0.1       -3.6 -2.0     85.93    0.00   \n1      Ithaca  2016-01-01T01:00:00   0.3       -4.1 -2.6     80.78    0.09   \n2      Ithaca  2016-01-01T02:00:00   0.3       -4.3 -3.0     78.65    0.00   \n3      Ithaca  2016-01-01T03:00:00   0.3       -5.0 -3.4     76.60    0.00   \n4      Ithaca  2016-01-01T04:00:00   0.3       -4.6 -3.3     76.80    0.00   \n...       ...                  ...   ...        ...  ...       ...     ...   \n35059  Ithaca  2019-12-31T19:00:00   0.6       -5.2 -6.1     60.75    0.00   \n35060  Ithaca  2019-12-31T20:00:00   0.0       -5.8 -5.6     65.86    0.00   \n35061  Ithaca  2019-12-31T21:00:00   0.0       -4.7 -5.7     65.64    0.00   \n35062  Ithaca  2019-12-31T22:00:00  -0.6       -6.1 -5.0     72.15    0.00   \n35063  Ithaca  2019-12-31T23:00:00  -0.6       -5.8 -5.7     68.78    0.00   \n\n       precipprob preciptype  snow  ...  sealevelpressure  cloudcover  \\\n0               0        NaN  0.00  ...            1018.7       100.0   \n1             100  rain,snow  0.00  ...            1018.0       100.0   \n2               0        NaN  0.00  ...            1018.0       100.0   \n3               0        NaN  0.00  ...            1017.8       100.0   \n4               0        NaN  0.00  ...            1017.5       100.0   \n...           ...        ...   ...  ...               ...         ...   \n35059           0        NaN  0.04  ...            1003.1        24.4   \n35060           0        NaN  0.04  ...            1002.9        13.9   \n35061           0        NaN  0.04  ...            1003.0        47.0   \n35062           0        NaN  0.04  ...            1003.2        47.4   \n35063           0        NaN  0.04  ...            1003.1        47.4   \n\n       visibility  solarradiation  solarenergy  uvindex  severerisk  \\\n0            13.0             0.0          NaN        0         NaN   \n1            14.5             0.0          NaN        0         NaN   \n2            15.4             0.0          NaN        0         NaN   \n3            15.4             0.0          NaN        0         NaN   \n4            16.0             0.0          NaN        0         NaN   \n...           ...             ...          ...      ...         ...   \n35059        16.0           135.0          0.5        0         NaN   \n35060        16.0           135.0          0.5        0         NaN   \n35061        16.0           135.0          0.5        0         NaN   \n35062        16.0           135.0          0.5        0         NaN   \n35063        16.0           135.0          0.5        0         NaN   \n\n                 conditions    icon  \\\n0                  Overcast  cloudy   \n1      Snow, Rain, Overcast    rain   \n2                  Overcast  cloudy   \n3                  Overcast  cloudy   \n4                  Overcast  cloudy   \n...                     ...     ...   \n35059      Partially cloudy    snow   \n35060                 Clear    snow   \n35061      Partially cloudy    snow   \n35062      Partially cloudy    snow   \n35063      Partially cloudy    snow   \n\n                                                stations  \n0      72519454778,KELM,72515614748,72515004725,KPEO,...  \n1      72519454778,KELM,72515614748,72515004725,KPEO,...  \n2      72519454778,KELM,72515614748,72515004725,KPEO,...  \n3      72519454778,KELM,72515614748,72515004725,KPEO,...  \n4      72519454778,KELM,72515614748,72515004725,KPEO,...  \n...                                                  ...  \n35059  KITH,72515594761,F4679,KELM,72515614748,725150...  \n35060  KITH,72515594761,F4679,KELM,72515614748,725150...  \n35061  KITH,72515594761,F4679,KELM,72515614748,725150...  \n35062  KITH,72515594761,F4679,KELM,72515614748,725150...  \n35063  KITH,72515594761,F4679,KELM,72515614748,725150...  \n\n[35064 rows x 24 columns]",
      "text/html": "<div>\n<style scoped>\n    .dataframe tbody tr th:only-of-type {\n        vertical-align: middle;\n    }\n\n    .dataframe tbody tr th {\n        vertical-align: top;\n    }\n\n    .dataframe thead th {\n        text-align: right;\n    }\n</style>\n<table border=\"1\" class=\"dataframe\">\n  <thead>\n    <tr style=\"text-align: right;\">\n      <th></th>\n      <th>name</th>\n      <th>datetime</th>\n      <th>temp</th>\n      <th>feelslike</th>\n      <th>dew</th>\n      <th>humidity</th>\n      <th>precip</th>\n      <th>precipprob</th>\n      <th>preciptype</th>\n      <th>snow</th>\n      <th>...</th>\n      <th>sealevelpressure</th>\n      <th>cloudcover</th>\n      <th>visibility</th>\n      <th>solarradiation</th>\n      <th>solarenergy</th>\n      <th>uvindex</th>\n      <th>severerisk</th>\n      <th>conditions</th>\n      <th>icon</th>\n      <th>stations</th>\n    </tr>\n  </thead>\n  <tbody>\n    <tr>\n      <th>0</th>\n      <td>Ithaca</td>\n      <td>2016-01-01T00:00:00</td>\n      <td>0.1</td>\n      <td>-3.6</td>\n      <td>-2.0</td>\n      <td>85.93</td>\n      <td>0.00</td>\n      <td>0</td>\n      <td>NaN</td>\n      <td>0.00</td>\n      <td>...</td>\n      <td>1018.7</td>\n      <td>100.0</td>\n      <td>13.0</td>\n      <td>0.0</td>\n      <td>NaN</td>\n      <td>0</td>\n      <td>NaN</td>\n      <td>Overcast</td>\n      <td>cloudy</td>\n      <td>72519454778,KELM,72515614748,72515004725,KPEO,...</td>\n    </tr>\n    <tr>\n      <th>1</th>\n      <td>Ithaca</td>\n      <td>2016-01-01T01:00:00</td>\n      <td>0.3</td>\n      <td>-4.1</td>\n      <td>-2.6</td>\n      <td>80.78</td>\n      <td>0.09</td>\n      <td>100</td>\n      <td>rain,snow</td>\n      <td>0.00</td>\n      <td>...</td>\n      <td>1018.0</td>\n      <td>100.0</td>\n      <td>14.5</td>\n      <td>0.0</td>\n      <td>NaN</td>\n      <td>0</td>\n      <td>NaN</td>\n      <td>Snow, Rain, Overcast</td>\n      <td>rain</td>\n      <td>72519454778,KELM,72515614748,72515004725,KPEO,...</td>\n    </tr>\n    <tr>\n      <th>2</th>\n      <td>Ithaca</td>\n      <td>2016-01-01T02:00:00</td>\n      <td>0.3</td>\n      <td>-4.3</td>\n      <td>-3.0</td>\n      <td>78.65</td>\n      <td>0.00</td>\n      <td>0</td>\n      <td>NaN</td>\n      <td>0.00</td>\n      <td>...</td>\n      <td>1018.0</td>\n      <td>100.0</td>\n      <td>15.4</td>\n      <td>0.0</td>\n      <td>NaN</td>\n      <td>0</td>\n      <td>NaN</td>\n      <td>Overcast</td>\n      <td>cloudy</td>\n      <td>72519454778,KELM,72515614748,72515004725,KPEO,...</td>\n    </tr>\n    <tr>\n      <th>3</th>\n      <td>Ithaca</td>\n      <td>2016-01-01T03:00:00</td>\n      <td>0.3</td>\n      <td>-5.0</td>\n      <td>-3.4</td>\n      <td>76.60</td>\n      <td>0.00</td>\n      <td>0</td>\n      <td>NaN</td>\n      <td>0.00</td>\n      <td>...</td>\n      <td>1017.8</td>\n      <td>100.0</td>\n      <td>15.4</td>\n      <td>0.0</td>\n      <td>NaN</td>\n      <td>0</td>\n      <td>NaN</td>\n      <td>Overcast</td>\n      <td>cloudy</td>\n      <td>72519454778,KELM,72515614748,72515004725,KPEO,...</td>\n    </tr>\n    <tr>\n      <th>4</th>\n      <td>Ithaca</td>\n      <td>2016-01-01T04:00:00</td>\n      <td>0.3</td>\n      <td>-4.6</td>\n      <td>-3.3</td>\n      <td>76.80</td>\n      <td>0.00</td>\n      <td>0</td>\n      <td>NaN</td>\n      <td>0.00</td>\n      <td>...</td>\n      <td>1017.5</td>\n      <td>100.0</td>\n      <td>16.0</td>\n      <td>0.0</td>\n      <td>NaN</td>\n      <td>0</td>\n      <td>NaN</td>\n      <td>Overcast</td>\n      <td>cloudy</td>\n      <td>72519454778,KELM,72515614748,72515004725,KPEO,...</td>\n    </tr>\n    <tr>\n      <th>...</th>\n      <td>...</td>\n      <td>...</td>\n      <td>...</td>\n      <td>...</td>\n      <td>...</td>\n      <td>...</td>\n      <td>...</td>\n      <td>...</td>\n      <td>...</td>\n      <td>...</td>\n      <td>...</td>\n      <td>...</td>\n      <td>...</td>\n      <td>...</td>\n      <td>...</td>\n      <td>...</td>\n      <td>...</td>\n      <td>...</td>\n      <td>...</td>\n      <td>...</td>\n      <td>...</td>\n    </tr>\n    <tr>\n      <th>35059</th>\n      <td>Ithaca</td>\n      <td>2019-12-31T19:00:00</td>\n      <td>0.6</td>\n      <td>-5.2</td>\n      <td>-6.1</td>\n      <td>60.75</td>\n      <td>0.00</td>\n      <td>0</td>\n      <td>NaN</td>\n      <td>0.04</td>\n      <td>...</td>\n      <td>1003.1</td>\n      <td>24.4</td>\n      <td>16.0</td>\n      <td>135.0</td>\n      <td>0.5</td>\n      <td>0</td>\n      <td>NaN</td>\n      <td>Partially cloudy</td>\n      <td>snow</td>\n      <td>KITH,72515594761,F4679,KELM,72515614748,725150...</td>\n    </tr>\n    <tr>\n      <th>35060</th>\n      <td>Ithaca</td>\n      <td>2019-12-31T20:00:00</td>\n      <td>0.0</td>\n      <td>-5.8</td>\n      <td>-5.6</td>\n      <td>65.86</td>\n      <td>0.00</td>\n      <td>0</td>\n      <td>NaN</td>\n      <td>0.04</td>\n      <td>...</td>\n      <td>1002.9</td>\n      <td>13.9</td>\n      <td>16.0</td>\n      <td>135.0</td>\n      <td>0.5</td>\n      <td>0</td>\n      <td>NaN</td>\n      <td>Clear</td>\n      <td>snow</td>\n      <td>KITH,72515594761,F4679,KELM,72515614748,725150...</td>\n    </tr>\n    <tr>\n      <th>35061</th>\n      <td>Ithaca</td>\n      <td>2019-12-31T21:00:00</td>\n      <td>0.0</td>\n      <td>-4.7</td>\n      <td>-5.7</td>\n      <td>65.64</td>\n      <td>0.00</td>\n      <td>0</td>\n      <td>NaN</td>\n      <td>0.04</td>\n      <td>...</td>\n      <td>1003.0</td>\n      <td>47.0</td>\n      <td>16.0</td>\n      <td>135.0</td>\n      <td>0.5</td>\n      <td>0</td>\n      <td>NaN</td>\n      <td>Partially cloudy</td>\n      <td>snow</td>\n      <td>KITH,72515594761,F4679,KELM,72515614748,725150...</td>\n    </tr>\n    <tr>\n      <th>35062</th>\n      <td>Ithaca</td>\n      <td>2019-12-31T22:00:00</td>\n      <td>-0.6</td>\n      <td>-6.1</td>\n      <td>-5.0</td>\n      <td>72.15</td>\n      <td>0.00</td>\n      <td>0</td>\n      <td>NaN</td>\n      <td>0.04</td>\n      <td>...</td>\n      <td>1003.2</td>\n      <td>47.4</td>\n      <td>16.0</td>\n      <td>135.0</td>\n      <td>0.5</td>\n      <td>0</td>\n      <td>NaN</td>\n      <td>Partially cloudy</td>\n      <td>snow</td>\n      <td>KITH,72515594761,F4679,KELM,72515614748,725150...</td>\n    </tr>\n    <tr>\n      <th>35063</th>\n      <td>Ithaca</td>\n      <td>2019-12-31T23:00:00</td>\n      <td>-0.6</td>\n      <td>-5.8</td>\n      <td>-5.7</td>\n      <td>68.78</td>\n      <td>0.00</td>\n      <td>0</td>\n      <td>NaN</td>\n      <td>0.04</td>\n      <td>...</td>\n      <td>1003.1</td>\n      <td>47.4</td>\n      <td>16.0</td>\n      <td>135.0</td>\n      <td>0.5</td>\n      <td>0</td>\n      <td>NaN</td>\n      <td>Partially cloudy</td>\n      <td>snow</td>\n      <td>KITH,72515594761,F4679,KELM,72515614748,725150...</td>\n    </tr>\n  </tbody>\n</table>\n<p>35064 rows × 24 columns</p>\n</div>"
     },
     "execution_count": 81,
     "metadata": {},
     "output_type": "execute_result"
    }
   ],
   "source": [
    "# Load data from CSV files\n",
    "weather_data = pd.read_csv(\"IthacaWeather.csv\")\n",
    "weather_data"
   ],
   "metadata": {
    "collapsed": false,
    "pycharm": {
     "name": "#%%\n"
    }
   }
  },
  {
   "cell_type": "code",
   "execution_count": 131,
   "outputs": [],
   "source": [
    "weather_data[\"datetime\"] = pd.to_datetime(weather_data[\"datetime\"], format='%Y-%m-%d %H:%M:%S')"
   ],
   "metadata": {
    "collapsed": false,
    "pycharm": {
     "name": "#%%\n"
    }
   }
  },
  {
   "cell_type": "code",
   "execution_count": 132,
   "outputs": [
    {
     "data": {
      "text/plain": "0       2016-01-01 00:00:00\n1       2016-01-01 01:00:00\n2       2016-01-01 02:00:00\n3       2016-01-01 03:00:00\n4       2016-01-01 04:00:00\n                ...        \n35059   2019-12-31 19:00:00\n35060   2019-12-31 20:00:00\n35061   2019-12-31 21:00:00\n35062   2019-12-31 22:00:00\n35063   2019-12-31 23:00:00\nName: datetime, Length: 35064, dtype: datetime64[ns]"
     },
     "execution_count": 132,
     "metadata": {},
     "output_type": "execute_result"
    }
   ],
   "source": [
    "weather_data[\"datetime\"]"
   ],
   "metadata": {
    "collapsed": false,
    "pycharm": {
     "name": "#%%\n"
    }
   }
  },
  {
   "cell_type": "code",
   "execution_count": 133,
   "outputs": [],
   "source": [
    "temperature = weather_data[\"temp\"]\n",
    "humidity = weather_data[\"humidity\"]\n",
    "solar = weather_data[\"solarradiation\"]"
   ],
   "metadata": {
    "collapsed": false,
    "pycharm": {
     "name": "#%%\n"
    }
   }
  },
  {
   "cell_type": "code",
   "execution_count": 134,
   "outputs": [],
   "source": [
    "useful_dict = {\"Outdoor Drybulb Temperature [C]\": temperature, \"Outdoor Relative Humidity [%]\": humidity}"
   ],
   "metadata": {
    "collapsed": false,
    "pycharm": {
     "name": "#%%\n"
    }
   }
  },
  {
   "cell_type": "code",
   "execution_count": 135,
   "outputs": [],
   "source": [
    "climate_zone5 = pd.read_csv(\"../Climate_Zone_5/weather_data.csv\")"
   ],
   "metadata": {
    "collapsed": false,
    "pycharm": {
     "name": "#%%\n"
    }
   }
  },
  {
   "cell_type": "code",
   "execution_count": 136,
   "outputs": [],
   "source": [
    "diffuse_solar = climate_zone5[\"Diffuse Solar Radiation [W/m2]\"]\n",
    "direct_solar = climate_zone5[\"Direct Solar Radiation [W/m2]\"]"
   ],
   "metadata": {
    "collapsed": false,
    "pycharm": {
     "name": "#%%\n"
    }
   }
  },
  {
   "cell_type": "code",
   "execution_count": 137,
   "outputs": [],
   "source": [
    "diffuse_direct_cor = diffuse_solar/(direct_solar+diffuse_solar)\n",
    "direct_diffuse_cor = direct_solar/(direct_solar+diffuse_solar)"
   ],
   "metadata": {
    "collapsed": false,
    "pycharm": {
     "name": "#%%\n"
    }
   }
  },
  {
   "cell_type": "code",
   "execution_count": 138,
   "outputs": [],
   "source": [
    "diffuse_direct_cor_df = diffuse_direct_cor.to_frame()\n",
    "diffuse_direct_cor_df.replace([np.inf, -np.inf], 1., inplace=True)\n",
    "direct_diffuse_cor_df = direct_diffuse_cor.to_frame()\n",
    "direct_diffuse_cor_df.replace([np.inf, -np.inf], 1., inplace=True)"
   ],
   "metadata": {
    "collapsed": false,
    "pycharm": {
     "name": "#%%\n"
    }
   }
  },
  {
   "cell_type": "code",
   "execution_count": 139,
   "outputs": [],
   "source": [
    "diffuse_direct_cor_df = diffuse_direct_cor_df.fillna(0.)\n",
    "direct_diffuse_cor_df = direct_diffuse_cor_df.fillna(0.)"
   ],
   "metadata": {
    "collapsed": false,
    "pycharm": {
     "name": "#%%\n"
    }
   }
  },
  {
   "cell_type": "code",
   "execution_count": 140,
   "outputs": [
    {
     "data": {
      "text/plain": "         0\n0      0.0\n1      0.0\n2      0.0\n3      0.0\n4      0.0\n...    ...\n35035  0.0\n35036  0.0\n35037  0.0\n35038  0.0\n35039  0.0\n\n[35040 rows x 1 columns]",
      "text/html": "<div>\n<style scoped>\n    .dataframe tbody tr th:only-of-type {\n        vertical-align: middle;\n    }\n\n    .dataframe tbody tr th {\n        vertical-align: top;\n    }\n\n    .dataframe thead th {\n        text-align: right;\n    }\n</style>\n<table border=\"1\" class=\"dataframe\">\n  <thead>\n    <tr style=\"text-align: right;\">\n      <th></th>\n      <th>0</th>\n    </tr>\n  </thead>\n  <tbody>\n    <tr>\n      <th>0</th>\n      <td>0.0</td>\n    </tr>\n    <tr>\n      <th>1</th>\n      <td>0.0</td>\n    </tr>\n    <tr>\n      <th>2</th>\n      <td>0.0</td>\n    </tr>\n    <tr>\n      <th>3</th>\n      <td>0.0</td>\n    </tr>\n    <tr>\n      <th>4</th>\n      <td>0.0</td>\n    </tr>\n    <tr>\n      <th>...</th>\n      <td>...</td>\n    </tr>\n    <tr>\n      <th>35035</th>\n      <td>0.0</td>\n    </tr>\n    <tr>\n      <th>35036</th>\n      <td>0.0</td>\n    </tr>\n    <tr>\n      <th>35037</th>\n      <td>0.0</td>\n    </tr>\n    <tr>\n      <th>35038</th>\n      <td>0.0</td>\n    </tr>\n    <tr>\n      <th>35039</th>\n      <td>0.0</td>\n    </tr>\n  </tbody>\n</table>\n<p>35040 rows × 1 columns</p>\n</div>"
     },
     "execution_count": 140,
     "metadata": {},
     "output_type": "execute_result"
    }
   ],
   "source": [
    "diffuse_direct_cor_df"
   ],
   "metadata": {
    "collapsed": false,
    "pycharm": {
     "name": "#%%\n"
    }
   }
  },
  {
   "cell_type": "code",
   "execution_count": 141,
   "outputs": [],
   "source": [
    "diffuse_last_24 = diffuse_direct_cor[-24:]\n",
    "direct_last_24 = direct_diffuse_cor[-24:]"
   ],
   "metadata": {
    "collapsed": false,
    "pycharm": {
     "name": "#%%\n"
    }
   }
  },
  {
   "cell_type": "code",
   "execution_count": 142,
   "outputs": [],
   "source": [
    "diffuse_direct_cor_df_long = np.append(diffuse_direct_cor_df, diffuse_last_24)\n",
    "direct_diffuse_cor_df_long = np.append(direct_diffuse_cor_df, direct_last_24)"
   ],
   "metadata": {
    "collapsed": false,
    "pycharm": {
     "name": "#%%\n"
    }
   }
  },
  {
   "cell_type": "code",
   "execution_count": 143,
   "outputs": [],
   "source": [
    "whole_four_years = pd.date_range(start='2016-01-01', end='2020-01-01', freq='H')"
   ],
   "metadata": {
    "collapsed": false,
    "pycharm": {
     "name": "#%%\n"
    }
   }
  },
  {
   "cell_type": "code",
   "execution_count": 144,
   "outputs": [],
   "source": [
    "diffuse_direct_dict = {\"Time\": whole_four_years[:-1], \"Solar\": diffuse_direct_cor_df_long}\n",
    "direct_diffuse_dict = {\"Time\": whole_four_years[:-1], \"Solar\": direct_diffuse_cor_df_long}"
   ],
   "metadata": {
    "collapsed": false,
    "pycharm": {
     "name": "#%%\n"
    }
   }
  },
  {
   "cell_type": "code",
   "execution_count": 145,
   "outputs": [],
   "source": [
    "diffuse_direct_df = pd.DataFrame(diffuse_direct_dict)\n",
    "direct_diffuse_df = pd.DataFrame(direct_diffuse_dict)"
   ],
   "metadata": {
    "collapsed": false,
    "pycharm": {
     "name": "#%%\n"
    }
   }
  },
  {
   "cell_type": "code",
   "execution_count": 146,
   "outputs": [],
   "source": [
    "diffuse_solar_ithaca = solar.values * diffuse_direct_cor_df_long\n",
    "direct_solar_ithaca = solar.values * direct_diffuse_cor_df_long"
   ],
   "metadata": {
    "collapsed": false,
    "pycharm": {
     "name": "#%%\n"
    }
   }
  },
  {
   "cell_type": "code",
   "execution_count": 147,
   "outputs": [
    {
     "data": {
      "text/plain": "array([ 0.,  0.,  0., ..., nan, nan, nan])"
     },
     "execution_count": 147,
     "metadata": {},
     "output_type": "execute_result"
    }
   ],
   "source": [
    "direct_solar_ithaca"
   ],
   "metadata": {
    "collapsed": false,
    "pycharm": {
     "name": "#%%\n"
    }
   }
  },
  {
   "cell_type": "code",
   "execution_count": 148,
   "outputs": [],
   "source": [
    "solar_ithaca_dict = {\"Diffuse Solar Radiation [W/m2]\": diffuse_solar_ithaca, \"Direct Solar Radiation [W/m2]\": direct_solar_ithaca}"
   ],
   "metadata": {
    "collapsed": false,
    "pycharm": {
     "name": "#%%\n"
    }
   }
  },
  {
   "cell_type": "code",
   "execution_count": 149,
   "outputs": [],
   "source": [
    "solar_ithaca_df = pd.DataFrame(solar_ithaca_dict)"
   ],
   "metadata": {
    "collapsed": false,
    "pycharm": {
     "name": "#%%\n"
    }
   }
  },
  {
   "cell_type": "code",
   "execution_count": 150,
   "outputs": [],
   "source": [
    "solar_ithaca_df = solar_ithaca_df.fillna(0.)"
   ],
   "metadata": {
    "collapsed": false,
    "pycharm": {
     "name": "#%%\n"
    }
   }
  },
  {
   "cell_type": "code",
   "execution_count": 151,
   "outputs": [
    {
     "data": {
      "text/plain": "       Diffuse Solar Radiation [W/m2]  Direct Solar Radiation [W/m2]\n0                                 0.0                            0.0\n1                                 0.0                            0.0\n2                                 0.0                            0.0\n3                                 0.0                            0.0\n4                                 0.0                            0.0\n...                               ...                            ...\n35059                             0.0                            0.0\n35060                             0.0                            0.0\n35061                             0.0                            0.0\n35062                             0.0                            0.0\n35063                             0.0                            0.0\n\n[35064 rows x 2 columns]",
      "text/html": "<div>\n<style scoped>\n    .dataframe tbody tr th:only-of-type {\n        vertical-align: middle;\n    }\n\n    .dataframe tbody tr th {\n        vertical-align: top;\n    }\n\n    .dataframe thead th {\n        text-align: right;\n    }\n</style>\n<table border=\"1\" class=\"dataframe\">\n  <thead>\n    <tr style=\"text-align: right;\">\n      <th></th>\n      <th>Diffuse Solar Radiation [W/m2]</th>\n      <th>Direct Solar Radiation [W/m2]</th>\n    </tr>\n  </thead>\n  <tbody>\n    <tr>\n      <th>0</th>\n      <td>0.0</td>\n      <td>0.0</td>\n    </tr>\n    <tr>\n      <th>1</th>\n      <td>0.0</td>\n      <td>0.0</td>\n    </tr>\n    <tr>\n      <th>2</th>\n      <td>0.0</td>\n      <td>0.0</td>\n    </tr>\n    <tr>\n      <th>3</th>\n      <td>0.0</td>\n      <td>0.0</td>\n    </tr>\n    <tr>\n      <th>4</th>\n      <td>0.0</td>\n      <td>0.0</td>\n    </tr>\n    <tr>\n      <th>...</th>\n      <td>...</td>\n      <td>...</td>\n    </tr>\n    <tr>\n      <th>35059</th>\n      <td>0.0</td>\n      <td>0.0</td>\n    </tr>\n    <tr>\n      <th>35060</th>\n      <td>0.0</td>\n      <td>0.0</td>\n    </tr>\n    <tr>\n      <th>35061</th>\n      <td>0.0</td>\n      <td>0.0</td>\n    </tr>\n    <tr>\n      <th>35062</th>\n      <td>0.0</td>\n      <td>0.0</td>\n    </tr>\n    <tr>\n      <th>35063</th>\n      <td>0.0</td>\n      <td>0.0</td>\n    </tr>\n  </tbody>\n</table>\n<p>35064 rows × 2 columns</p>\n</div>"
     },
     "execution_count": 151,
     "metadata": {},
     "output_type": "execute_result"
    }
   ],
   "source": [
    "solar_ithaca_df"
   ],
   "metadata": {
    "collapsed": false,
    "pycharm": {
     "name": "#%%\n"
    }
   }
  },
  {
   "cell_type": "code",
   "execution_count": 167,
   "outputs": [],
   "source": [
    "solar_ithaca_df.to_csv(\"processed/SolarRadiation.csv\", index=False)"
   ],
   "metadata": {
    "collapsed": false,
    "pycharm": {
     "name": "#%%\n"
    }
   }
  },
  {
   "cell_type": "code",
   "execution_count": 168,
   "outputs": [],
   "source": [
    "climate_5_diffuse_6h_noise = climate_zone5[\"6h Prediction Diffuse Solar Radiation [W/m2]\"]-climate_zone5[\"Diffuse Solar Radiation [W/m2]\"]\n",
    "climate_5_diffuse_12h_noise = climate_zone5[\"12h Prediction Diffuse Solar Radiation [W/m2]\"]-climate_zone5[\"Diffuse Solar Radiation [W/m2]\"]\n",
    "climate_5_diffuse_24h_noise = climate_zone5[\"24h Prediction Diffuse Solar Radiation [W/m2]\"]-climate_zone5[\"Diffuse Solar Radiation [W/m2]\"]"
   ],
   "metadata": {
    "collapsed": false,
    "pycharm": {
     "name": "#%%\n"
    }
   }
  },
  {
   "cell_type": "code",
   "execution_count": 169,
   "outputs": [],
   "source": [
    "climate_5_direct_6h_noise = climate_zone5[\"6h Prediction Direct Solar Radiation [W/m2]\"] - climate_zone5[\n",
    "    \"Direct Solar Radiation [W/m2]\"]\n",
    "climate_5_direct_12h_noise = climate_zone5[\"12h Prediction Direct Solar Radiation [W/m2]\"] - climate_zone5[\n",
    "    \"Direct Solar Radiation [W/m2]\"]\n",
    "climate_5_direct_24h_noise = climate_zone5[\"24h Prediction Direct Solar Radiation [W/m2]\"] - climate_zone5[\n",
    "    \"Direct Solar Radiation [W/m2]\"]"
   ],
   "metadata": {
    "collapsed": false,
    "pycharm": {
     "name": "#%%\n"
    }
   }
  },
  {
   "cell_type": "code",
   "execution_count": 170,
   "outputs": [
    {
     "data": {
      "text/plain": "0         -0.00\n1         16.77\n2         40.08\n3         65.63\n4        107.26\n          ...  \n35035     -0.00\n35036     -0.00\n35037      0.00\n35038      0.00\n35039     -0.00\nLength: 35040, dtype: float64"
     },
     "execution_count": 170,
     "metadata": {},
     "output_type": "execute_result"
    }
   ],
   "source": [
    "climate_5_diffuse_6h_noise"
   ],
   "metadata": {
    "collapsed": false,
    "pycharm": {
     "name": "#%%\n"
    }
   }
  },
  {
   "cell_type": "code",
   "execution_count": 198,
   "outputs": [],
   "source": [
    "climate_5_diffuse_6h_noise = np.append(climate_5_diffuse_6h_noise, climate_5_diffuse_6h_noise[-24:])\n",
    "climate_5_diffuse_12h_noise = np.append(climate_5_diffuse_12h_noise, climate_5_diffuse_12h_noise[-24:])\n",
    "climate_5_diffuse_24h_noise = np.append(climate_5_diffuse_24h_noise, climate_5_diffuse_24h_noise[-24:])"
   ],
   "metadata": {
    "collapsed": false,
    "pycharm": {
     "name": "#%%\n"
    }
   }
  },
  {
   "cell_type": "code",
   "execution_count": 199,
   "outputs": [],
   "source": [
    "climate_5_direct_6h_noise = np.append(climate_5_direct_6h_noise, climate_5_direct_6h_noise[-24:])\n",
    "climate_5_direct_12h_noise = np.append(climate_5_direct_12h_noise, climate_5_direct_12h_noise[-24:])\n",
    "climate_5_direct_24h_noise = np.append(climate_5_direct_24h_noise, climate_5_direct_24h_noise[-24:])"
   ],
   "metadata": {
    "collapsed": false,
    "pycharm": {
     "name": "#%%\n"
    }
   }
  },
  {
   "cell_type": "code",
   "execution_count": 218,
   "outputs": [],
   "source": [
    "long_diffuse_6h_predict = np.append(climate_zone5[\"6h Prediction Diffuse Solar Radiation [W/m2]\"],climate_zone5[\"6h Prediction Diffuse Solar Radiation [W/m2]\"][-24:])\n",
    "long_diffuse_12h_predict = np.append(climate_zone5[\"12h Prediction Diffuse Solar Radiation [W/m2]\"],climate_zone5[\"12h Prediction Diffuse Solar Radiation [W/m2]\"][-24:])\n",
    "long_diffuse_24h_predict = np.append(climate_zone5[\"24h Prediction Diffuse Solar Radiation [W/m2]\"],climate_zone5[\"24h Prediction Diffuse Solar Radiation [W/m2]\"][-24:])"
   ],
   "metadata": {
    "collapsed": false,
    "pycharm": {
     "name": "#%%\n"
    }
   }
  },
  {
   "cell_type": "code",
   "execution_count": 219,
   "outputs": [],
   "source": [
    "long_direct_6h_predict = np.append(climate_zone5[\"6h Prediction Direct Solar Radiation [W/m2]\"],climate_zone5[\"6h Prediction Direct Solar Radiation [W/m2]\"][-24:])\n",
    "long_direct_12h_predict = np.append(climate_zone5[\"12h Prediction Direct Solar Radiation [W/m2]\"],climate_zone5[\"12h Prediction Direct Solar Radiation [W/m2]\"][-24:])\n",
    "long_direct_24h_predict = np.append(climate_zone5[\"24h Prediction Direct Solar Radiation [W/m2]\"],climate_zone5[\"24h Prediction Direct Solar Radiation [W/m2]\"][-24:])"
   ],
   "metadata": {
    "collapsed": false,
    "pycharm": {
     "name": "#%%\n"
    }
   }
  },
  {
   "cell_type": "code",
   "execution_count": 236,
   "outputs": [],
   "source": [
    "shuffle_climate_5_diffuse_6h = np.append(long_diffuse_6h_predict[-6:], long_diffuse_6h_predict[:-6])\n",
    "shuffle_climate_5_diffuse_12h = np.append(long_diffuse_12h_predict[-12:], long_diffuse_12h_predict[:-12])\n",
    "shuffle_climate_5_diffuse_24h = np.append(long_diffuse_24h_predict[-24:], long_diffuse_24h_predict[:-24])"
   ],
   "metadata": {
    "collapsed": false,
    "pycharm": {
     "name": "#%%\n"
    }
   }
  },
  {
   "cell_type": "code",
   "execution_count": 237,
   "outputs": [],
   "source": [
    "shuffle_climate_5_direct_6h = np.append(long_direct_6h_predict[-6:], long_direct_6h_predict[:-6])\n",
    "shuffle_climate_5_direct_12h = np.append(long_direct_12h_predict[-12:], long_direct_12h_predict[:-12])\n",
    "shuffle_climate_5_direct_24h = np.append(long_direct_24h_predict[-24:], long_direct_24h_predict[:-24])"
   ],
   "metadata": {
    "collapsed": false,
    "pycharm": {
     "name": "#%%\n"
    }
   }
  },
  {
   "cell_type": "code",
   "execution_count": 249,
   "outputs": [],
   "source": [
    "long_diffuse_solar = np.append(climate_zone5[\"Diffuse Solar Radiation [W/m2]\"],climate_zone5[\"Diffuse Solar Radiation [W/m2]\"][-24:])\n",
    "long_direct_solar = np.append(climate_zone5[\"Direct Solar Radiation [W/m2]\"],climate_zone5[\"Direct Solar Radiation [W/m2]\"][-24:])"
   ],
   "metadata": {
    "collapsed": false,
    "pycharm": {
     "name": "#%%\n"
    }
   }
  },
  {
   "cell_type": "code",
   "execution_count": 250,
   "outputs": [],
   "source": [
    "shuffle_climate_5_diffuse_6h_noise = shuffle_climate_5_diffuse_6h - long_diffuse_solar\n",
    "shuffle_climate_5_diffuse_12h_noise = shuffle_climate_5_diffuse_12h - long_diffuse_solar\n",
    "shuffle_climate_5_diffuse_24h_noise = shuffle_climate_5_diffuse_24h - long_diffuse_solar"
   ],
   "metadata": {
    "collapsed": false,
    "pycharm": {
     "name": "#%%\n"
    }
   }
  },
  {
   "cell_type": "code",
   "execution_count": 251,
   "outputs": [],
   "source": [
    "shuffle_climate_5_direct_6h_noise = shuffle_climate_5_direct_6h - long_direct_solar\n",
    "shuffle_climate_5_direct_12h_noise = shuffle_climate_5_direct_12h - long_direct_solar\n",
    "shuffle_climate_5_direct_24h_noise = shuffle_climate_5_direct_24h - long_direct_solar"
   ],
   "metadata": {
    "collapsed": false,
    "pycharm": {
     "name": "#%%\n"
    }
   }
  },
  {
   "cell_type": "code",
   "execution_count": 252,
   "outputs": [
    {
     "data": {
      "text/plain": "array([ 0., -0., -0., ..., -0.,  0., -0.])"
     },
     "execution_count": 252,
     "metadata": {},
     "output_type": "execute_result"
    }
   ],
   "source": [
    "shuffle_climate_5_diffuse_6h_noise"
   ],
   "metadata": {
    "collapsed": false,
    "pycharm": {
     "name": "#%%\n"
    }
   }
  },
  {
   "cell_type": "code",
   "execution_count": 253,
   "outputs": [
    {
     "data": {
      "text/plain": "array([-0.  , 16.77, 40.08, ...,  0.  ,  0.  , -0.  ])"
     },
     "execution_count": 253,
     "metadata": {},
     "output_type": "execute_result"
    }
   ],
   "source": [
    "climate_5_diffuse_6h_noise"
   ],
   "metadata": {
    "collapsed": false,
    "pycharm": {
     "name": "#%%\n"
    }
   }
  },
  {
   "cell_type": "code",
   "execution_count": 254,
   "outputs": [],
   "source": [
    "ithaca_diffuse_predict_6h = shuffle_climate_5_diffuse_6h_noise + solar_ithaca_df[\"Diffuse Solar Radiation [W/m2]\"]\n",
    "ithaca_diffuse_predict_12h = shuffle_climate_5_diffuse_12h_noise  + solar_ithaca_df[\"Diffuse Solar Radiation [W/m2]\"]\n",
    "ithaca_diffuse_predict_24h = shuffle_climate_5_diffuse_24h_noise  + solar_ithaca_df[\"Diffuse Solar Radiation [W/m2]\"]"
   ],
   "metadata": {
    "collapsed": false,
    "pycharm": {
     "name": "#%%\n"
    }
   }
  },
  {
   "cell_type": "code",
   "execution_count": 255,
   "outputs": [],
   "source": [
    "ithaca_direct_predict_6h = shuffle_climate_5_direct_6h_noise + solar_ithaca_df[\"Direct Solar Radiation [W/m2]\"]\n",
    "ithaca_direct_predict_12h = shuffle_climate_5_direct_12h_noise  + solar_ithaca_df[\"Direct Solar Radiation [W/m2]\"]\n",
    "ithaca_direct_predict_24h = shuffle_climate_5_direct_24h_noise  + solar_ithaca_df[\"Direct Solar Radiation [W/m2]\"]"
   ],
   "metadata": {
    "collapsed": false,
    "pycharm": {
     "name": "#%%\n"
    }
   }
  },
  {
   "cell_type": "code",
   "execution_count": 258,
   "outputs": [
    {
     "data": {
      "text/plain": "array([0., 0., 0., ..., 0., 0., 0.])"
     },
     "execution_count": 258,
     "metadata": {},
     "output_type": "execute_result"
    }
   ],
   "source": [
    "np.array(ithaca_diffuse_predict_6h)"
   ],
   "metadata": {
    "collapsed": false,
    "pycharm": {
     "name": "#%%\n"
    }
   }
  },
  {
   "cell_type": "code",
   "execution_count": 263,
   "outputs": [],
   "source": [
    "Ithaca_Diffuse_Predict_6h = np.append(ithaca_diffuse_predict_6h[6:], ithaca_diffuse_predict_6h[-6:])\n",
    "Ithaca_Diffuse_Predict_12h = np.append(ithaca_diffuse_predict_12h[12:], ithaca_diffuse_predict_12h[-12:])\n",
    "Ithaca_Diffuse_Predict_24h = np.append(ithaca_diffuse_predict_24h[24:], ithaca_diffuse_predict_24h[-24:])"
   ],
   "metadata": {
    "collapsed": false,
    "pycharm": {
     "name": "#%%\n"
    }
   }
  },
  {
   "cell_type": "code",
   "execution_count": 264,
   "outputs": [
    {
     "data": {
      "text/plain": "array([ 0.        ,  4.57888889, 92.76665084, ...,  0.        ,\n        0.        ,  0.        ])"
     },
     "execution_count": 264,
     "metadata": {},
     "output_type": "execute_result"
    }
   ],
   "source": [
    "Ithaca_Diffuse_Predict_6h"
   ],
   "metadata": {
    "collapsed": false,
    "pycharm": {
     "name": "#%%\n"
    }
   }
  },
  {
   "cell_type": "code",
   "execution_count": 265,
   "outputs": [],
   "source": [
    "Ithaca_Direct_Predict_6h = np.append(ithaca_direct_predict_6h[6:], ithaca_direct_predict_6h[-6:])\n",
    "Ithaca_Direct_Predict_12h = np.append(ithaca_direct_predict_12h[12:], ithaca_direct_predict_12h[-12:])\n",
    "Ithaca_Direct_Predict_24h = np.append(ithaca_direct_predict_24h[24:], ithaca_direct_predict_24h[-24:])"
   ],
   "metadata": {
    "collapsed": false,
    "pycharm": {
     "name": "#%%\n"
    }
   }
  },
  {
   "cell_type": "code",
   "execution_count": 266,
   "outputs": [],
   "source": [
    "ithaca_solar_predict_dict = {\"6h Prediction Diffuse Solar Radiation [W/m2]\": Ithaca_Diffuse_Predict_6h, \"12h Prediction Diffuse Solar Radiation [W/m2]\": Ithaca_Diffuse_Predict_12h, \"24h Prediction Diffuse Solar Radiation [W/m2]\": Ithaca_Diffuse_Predict_24h, \"6h Prediction Direct Solar Radiation [W/m2]\": Ithaca_Direct_Predict_6h, \"12h Prediction Direct Solar Radiation [W/m2]\": Ithaca_Direct_Predict_12h, \"24h Prediction Direct Solar Radiation [W/m2]\": Ithaca_Direct_Predict_24h}"
   ],
   "metadata": {
    "collapsed": false,
    "pycharm": {
     "name": "#%%\n"
    }
   }
  },
  {
   "cell_type": "code",
   "execution_count": 267,
   "outputs": [],
   "source": [
    "Ithaca_Solar_Predict_DF = pd.DataFrame(ithaca_solar_predict_dict)"
   ],
   "metadata": {
    "collapsed": false,
    "pycharm": {
     "name": "#%%\n"
    }
   }
  },
  {
   "cell_type": "code",
   "execution_count": 273,
   "outputs": [],
   "source": [
    "Ithaca_Solar_Predict_DF.to_csv(\"./processed/IthacaSolarPrediction.csv\", index=False)"
   ],
   "metadata": {
    "collapsed": false,
    "pycharm": {
     "name": "#%%\n"
    }
   }
  },
  {
   "cell_type": "code",
   "execution_count": 274,
   "outputs": [],
   "source": [
    "Temp_RH_df = pd.DataFrame(useful_dict)"
   ],
   "metadata": {
    "collapsed": false,
    "pycharm": {
     "name": "#%%\n"
    }
   }
  },
  {
   "cell_type": "code",
   "execution_count": 275,
   "outputs": [],
   "source": [
    "Temp_RH_df.to_csv(\"./processed/IthacaWeather.csv\", index=False)"
   ],
   "metadata": {
    "collapsed": false,
    "pycharm": {
     "name": "#%%\n"
    }
   }
  },
  {
   "cell_type": "code",
   "execution_count": 276,
   "outputs": [
    {
     "data": {
      "text/plain": "0          0.0\n1          0.0\n2          0.0\n3          0.0\n4          0.0\n         ...  \n35059    135.0\n35060    135.0\n35061    135.0\n35062    135.0\n35063    135.0\nName: solarradiation, Length: 35064, dtype: float64"
     },
     "execution_count": 276,
     "metadata": {},
     "output_type": "execute_result"
    }
   ],
   "source": [
    "solar"
   ],
   "metadata": {
    "collapsed": false,
    "pycharm": {
     "name": "#%%\n"
    }
   }
  },
  {
   "cell_type": "code",
   "execution_count": 278,
   "outputs": [],
   "source": [
    "solar_generation_dict = {\"Hours since 00:00 Jan 1\": np.arange(35064), \"Hourly Data: AC inverter power (W)\": solar}"
   ],
   "metadata": {
    "collapsed": false,
    "pycharm": {
     "name": "#%%\n"
    }
   }
  },
  {
   "cell_type": "code",
   "execution_count": 279,
   "outputs": [],
   "source": [
    "Solar_Generation_df = pd.DataFrame(solar_generation_dict)"
   ],
   "metadata": {
    "collapsed": false,
    "pycharm": {
     "name": "#%%\n"
    }
   }
  },
  {
   "cell_type": "code",
   "execution_count": 281,
   "outputs": [],
   "source": [
    "Solar_Generation_df.to_csv(\"../Cornell_Simulation/solar_generation_1kW.csv\", index=False)"
   ],
   "metadata": {
    "collapsed": false,
    "pycharm": {
     "name": "#%%\n"
    }
   }
  },
  {
   "cell_type": "code",
   "execution_count": null,
   "outputs": [],
   "source": [],
   "metadata": {
    "collapsed": false,
    "pycharm": {
     "name": "#%%\n"
    }
   }
  }
 ],
 "metadata": {
  "kernelspec": {
   "display_name": "Python 3",
   "language": "python",
   "name": "python3"
  },
  "language_info": {
   "codemirror_mode": {
    "name": "ipython",
    "version": 2
   },
   "file_extension": ".py",
   "mimetype": "text/x-python",
   "name": "python",
   "nbconvert_exporter": "python",
   "pygments_lexer": "ipython2",
   "version": "2.7.6"
  }
 },
 "nbformat": 4,
 "nbformat_minor": 0
}