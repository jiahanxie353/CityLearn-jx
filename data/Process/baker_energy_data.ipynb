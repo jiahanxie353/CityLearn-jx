{
 "cells": [
  {
   "cell_type": "code",
   "execution_count": 81,
   "metadata": {
    "collapsed": true,
    "pycharm": {
     "name": "#%%\n"
    }
   },
   "outputs": [],
   "source": [
    "import numpy as np\n",
    "import pandas as pd\n",
    "from matplotlib import pyplot as plt"
   ]
  },
  {
   "cell_type": "code",
   "execution_count": 82,
   "outputs": [
    {
     "data": {
      "text/plain": "                                             name         slottime_GMT  \\\n0                             BakerLab.CW.FP/TONS  2016-01-01 00:00:00   \n1       BakerLab.Elec.North.PowerScout3/kW_System  2016-01-01 00:00:00   \n2       BakerLab.Elec.South.PowerScout3/kW_System  2016-01-01 00:00:00   \n3                               BakerLab.STM.Flow  2016-01-01 00:00:00   \n4                             BakerLab.CW.FP/TONS  2016-01-01 01:00:00   \n...                                           ...                  ...   \n137651                          BakerLab.STM.Flow  2019-12-31 22:00:00   \n137652                        BakerLab.CW.FP/TONS  2019-12-31 23:00:00   \n137653  BakerLab.Elec.North.PowerScout3/kW_System  2019-12-31 23:00:00   \n137654  BakerLab.Elec.South.PowerScout3/kW_System  2019-12-31 23:00:00   \n137655                          BakerLab.STM.Flow  2019-12-31 23:00:00   \n\n       slottype     slotavg      pointTitle  \n0             H   15.218050   Chilled Water  \n1             H  155.650000  North Electric  \n2             H  100.575000  South Electric  \n3             H    3.078228           Steam  \n4             H   15.561300   Chilled Water  \n...         ...         ...             ...  \n137651        H    3.259005           Steam  \n137652        H   15.123000   Chilled Water  \n137653        H  138.525000  North Electric  \n137654        H   87.300000  South Electric  \n137655        H    3.031413           Steam  \n\n[137656 rows x 5 columns]",
      "text/html": "<div>\n<style scoped>\n    .dataframe tbody tr th:only-of-type {\n        vertical-align: middle;\n    }\n\n    .dataframe tbody tr th {\n        vertical-align: top;\n    }\n\n    .dataframe thead th {\n        text-align: right;\n    }\n</style>\n<table border=\"1\" class=\"dataframe\">\n  <thead>\n    <tr style=\"text-align: right;\">\n      <th></th>\n      <th>name</th>\n      <th>slottime_GMT</th>\n      <th>slottype</th>\n      <th>slotavg</th>\n      <th>pointTitle</th>\n    </tr>\n  </thead>\n  <tbody>\n    <tr>\n      <th>0</th>\n      <td>BakerLab.CW.FP/TONS</td>\n      <td>2016-01-01 00:00:00</td>\n      <td>H</td>\n      <td>15.218050</td>\n      <td>Chilled Water</td>\n    </tr>\n    <tr>\n      <th>1</th>\n      <td>BakerLab.Elec.North.PowerScout3/kW_System</td>\n      <td>2016-01-01 00:00:00</td>\n      <td>H</td>\n      <td>155.650000</td>\n      <td>North Electric</td>\n    </tr>\n    <tr>\n      <th>2</th>\n      <td>BakerLab.Elec.South.PowerScout3/kW_System</td>\n      <td>2016-01-01 00:00:00</td>\n      <td>H</td>\n      <td>100.575000</td>\n      <td>South Electric</td>\n    </tr>\n    <tr>\n      <th>3</th>\n      <td>BakerLab.STM.Flow</td>\n      <td>2016-01-01 00:00:00</td>\n      <td>H</td>\n      <td>3.078228</td>\n      <td>Steam</td>\n    </tr>\n    <tr>\n      <th>4</th>\n      <td>BakerLab.CW.FP/TONS</td>\n      <td>2016-01-01 01:00:00</td>\n      <td>H</td>\n      <td>15.561300</td>\n      <td>Chilled Water</td>\n    </tr>\n    <tr>\n      <th>...</th>\n      <td>...</td>\n      <td>...</td>\n      <td>...</td>\n      <td>...</td>\n      <td>...</td>\n    </tr>\n    <tr>\n      <th>137651</th>\n      <td>BakerLab.STM.Flow</td>\n      <td>2019-12-31 22:00:00</td>\n      <td>H</td>\n      <td>3.259005</td>\n      <td>Steam</td>\n    </tr>\n    <tr>\n      <th>137652</th>\n      <td>BakerLab.CW.FP/TONS</td>\n      <td>2019-12-31 23:00:00</td>\n      <td>H</td>\n      <td>15.123000</td>\n      <td>Chilled Water</td>\n    </tr>\n    <tr>\n      <th>137653</th>\n      <td>BakerLab.Elec.North.PowerScout3/kW_System</td>\n      <td>2019-12-31 23:00:00</td>\n      <td>H</td>\n      <td>138.525000</td>\n      <td>North Electric</td>\n    </tr>\n    <tr>\n      <th>137654</th>\n      <td>BakerLab.Elec.South.PowerScout3/kW_System</td>\n      <td>2019-12-31 23:00:00</td>\n      <td>H</td>\n      <td>87.300000</td>\n      <td>South Electric</td>\n    </tr>\n    <tr>\n      <th>137655</th>\n      <td>BakerLab.STM.Flow</td>\n      <td>2019-12-31 23:00:00</td>\n      <td>H</td>\n      <td>3.031413</td>\n      <td>Steam</td>\n    </tr>\n  </tbody>\n</table>\n<p>137656 rows × 5 columns</p>\n</div>"
     },
     "execution_count": 82,
     "metadata": {},
     "output_type": "execute_result"
    }
   ],
   "source": [
    "# Load data from CSV files\n",
    "baker_data = pd.read_csv(\"../Cornell_Energy_Raw/BakerLab.csv\")\n",
    "baker_data"
   ],
   "metadata": {
    "collapsed": false,
    "pycharm": {
     "name": "#%%\n"
    }
   }
  },
  {
   "cell_type": "code",
   "execution_count": 83,
   "outputs": [],
   "source": [
    "filt_chilled_water = baker_data['pointTitle'] == 'Chilled Water'"
   ],
   "metadata": {
    "collapsed": false,
    "pycharm": {
     "name": "#%%\n"
    }
   }
  },
  {
   "cell_type": "code",
   "execution_count": 84,
   "outputs": [],
   "source": [
    "frame_chilled_water = baker_data[filt_chilled_water]\n",
    "frame_chilled_water.reset_index(inplace=True)\n",
    "frame_chilled_water = frame_chilled_water.drop('index', axis=1)"
   ],
   "metadata": {
    "collapsed": false,
    "pycharm": {
     "name": "#%%\n"
    }
   }
  },
  {
   "cell_type": "code",
   "execution_count": 85,
   "outputs": [],
   "source": [
    "frame_chilled_water['slottime_GMT'] = pd.to_datetime(frame_chilled_water['slottime_GMT'], format='%Y-%m-%d %H:%M:%S')"
   ],
   "metadata": {
    "collapsed": false,
    "pycharm": {
     "name": "#%%\n"
    }
   }
  },
  {
   "cell_type": "code",
   "execution_count": 86,
   "outputs": [],
   "source": [
    "frame_chilled_water = frame_chilled_water.set_index('slottime_GMT')"
   ],
   "metadata": {
    "collapsed": false,
    "pycharm": {
     "name": "#%%\n"
    }
   }
  },
  {
   "cell_type": "code",
   "execution_count": 87,
   "outputs": [],
   "source": [
    "frame_chilled_water = frame_chilled_water.reindex(pd.date_range(start='1/1/2016', end='1/1/2020', freq='H'), index='slottime_GMT', fill_value=None)"
   ],
   "metadata": {
    "collapsed": false,
    "pycharm": {
     "name": "#%%\n"
    }
   }
  },
  {
   "cell_type": "code",
   "execution_count": 88,
   "outputs": [],
   "source": [
    "frame_chilled_water['slotavg'] = frame_chilled_water['slotavg'].interpolate(method=\"linear\")"
   ],
   "metadata": {
    "collapsed": false,
    "pycharm": {
     "name": "#%%\n"
    }
   }
  },
  {
   "cell_type": "code",
   "execution_count": 89,
   "outputs": [
    {
     "data": {
      "text/plain": "([<matplotlib.axis.XTick at 0x158052b20>,\n  <matplotlib.axis.XTick at 0x158052af0>,\n  <matplotlib.axis.XTick at 0x15807db50>,\n  <matplotlib.axis.XTick at 0x15808c370>],\n [Text(16953.0, 0, '2016'),\n  Text(17318.0, 0, '2017'),\n  Text(17683.0, 0, '2018'),\n  Text(18048.0, 0, '2019')])"
     },
     "execution_count": 89,
     "metadata": {},
     "output_type": "execute_result"
    },
    {
     "data": {
      "text/plain": "<Figure size 432x288 with 1 Axes>",
      "image/png": "[encoded data removed]"
     },
     "metadata": {
      "needs_background": "light"
     },
     "output_type": "display_data"
    }
   ],
   "source": [
    "slottime = frame_chilled_water.index\n",
    "slotavg = frame_chilled_water.slotavg\n",
    "plt.title('Baker Lab Chilled Water Plot')\n",
    "plt.xlabel('Time/year')\n",
    "plt.ylabel('Chilled water flow/ton of refrigeration')\n",
    "plt.plot(slottime, slotavg)\n",
    "plt.xticks(ticks=['2016-06-01 00:00:00','2017-06-01 00:00:00','2018-06-01 00:00:00','2019-06-01 00:00:00'], labels=['2016', '2017', '2018', '2019'])"
   ],
   "metadata": {
    "collapsed": false,
    "pycharm": {
     "name": "#%%\n"
    }
   }
  },
  {
   "cell_type": "code",
   "execution_count": 90,
   "outputs": [],
   "source": [
    "filt_north_elec = baker_data['pointTitle'] == 'North Electric'"
   ],
   "metadata": {
    "collapsed": false,
    "pycharm": {
     "name": "#%%\n"
    }
   }
  },
  {
   "cell_type": "code",
   "execution_count": 91,
   "outputs": [],
   "source": [
    "frame_north_elec = baker_data[filt_north_elec]\n",
    "frame_north_elec.reset_index(inplace=True)"
   ],
   "metadata": {
    "collapsed": false,
    "pycharm": {
     "name": "#%%\n"
    }
   }
  },
  {
   "cell_type": "code",
   "execution_count": 92,
   "outputs": [],
   "source": [
    "filt_south_elec = baker_data['pointTitle'] == 'South Electric'"
   ],
   "metadata": {
    "collapsed": false,
    "pycharm": {
     "name": "#%%\n"
    }
   }
  },
  {
   "cell_type": "code",
   "execution_count": 93,
   "outputs": [],
   "source": [
    "frame_south_elec = baker_data[filt_south_elec]\n",
    "frame_south_elec.reset_index(inplace=True)"
   ],
   "metadata": {
    "collapsed": false,
    "pycharm": {
     "name": "#%%\n"
    }
   }
  },
  {
   "cell_type": "code",
   "execution_count": 94,
   "outputs": [],
   "source": [
    "sum_elec = np.array(frame_south_elec['slotavg']) + np.array(frame_north_elec['slotavg'])"
   ],
   "metadata": {
    "collapsed": false,
    "pycharm": {
     "name": "#%%\n"
    }
   }
  },
  {
   "cell_type": "code",
   "execution_count": 95,
   "outputs": [],
   "source": [
    "elec = {'name': ['BakeLab.Elec.Sum']*len(np.array(frame_south_elec['name'])), 'slottime_GMT': frame_south_elec['slottime_GMT'], 'slottype': frame_south_elec['slottype'], 'slotavg': sum_elec, 'pointTitle': ['Sum Electric']*len(np.array(frame_south_elec['pointTitle']))}"
   ],
   "metadata": {
    "collapsed": false,
    "pycharm": {
     "name": "#%%\n"
    }
   }
  },
  {
   "cell_type": "code",
   "execution_count": 96,
   "outputs": [],
   "source": [
    "frame_elec = pd.DataFrame(data=elec)"
   ],
   "metadata": {
    "collapsed": false,
    "pycharm": {
     "name": "#%%\n"
    }
   }
  },
  {
   "cell_type": "code",
   "execution_count": 97,
   "outputs": [],
   "source": [
    "frame_elec['slottime_GMT'] = pd.to_datetime(frame_elec['slottime_GMT'], format='%Y-%m-%d %H:%M:%S')"
   ],
   "metadata": {
    "collapsed": false,
    "pycharm": {
     "name": "#%%\n"
    }
   }
  },
  {
   "cell_type": "code",
   "execution_count": 98,
   "outputs": [],
   "source": [
    "frame_elec = frame_elec.set_index('slottime_GMT')"
   ],
   "metadata": {
    "collapsed": false,
    "pycharm": {
     "name": "#%%\n"
    }
   }
  },
  {
   "cell_type": "code",
   "execution_count": 99,
   "outputs": [],
   "source": [
    "frame_elec = frame_elec.reindex(pd.date_range(start='1/1/2016', end='1/1/2020', freq='H'), index='slottime_GMT', fill_value=None)"
   ],
   "metadata": {
    "collapsed": false,
    "pycharm": {
     "name": "#%%\n"
    }
   }
  },
  {
   "cell_type": "code",
   "execution_count": 100,
   "outputs": [],
   "source": [
    "frame_elec['slotavg'] = frame_elec['slotavg'].interpolate(method=\"linear\")"
   ],
   "metadata": {
    "collapsed": false,
    "pycharm": {
     "name": "#%%\n"
    }
   }
  },
  {
   "cell_type": "code",
   "execution_count": 101,
   "outputs": [
    {
     "data": {
      "text/plain": "([<matplotlib.axis.XTick at 0x1580c5100>,\n  <matplotlib.axis.XTick at 0x1580c50d0>,\n  <matplotlib.axis.XTick at 0x14fbc3430>,\n  <matplotlib.axis.XTick at 0x1580efa60>],\n [Text(16953.0, 0, '2016'),\n  Text(17318.0, 0, '2017'),\n  Text(17683.0, 0, '2018'),\n  Text(18048.0, 0, '2019')])"
     },
     "execution_count": 101,
     "metadata": {},
     "output_type": "execute_result"
    },
    {
     "data": {
      "text/plain": "<Figure size 432x288 with 1 Axes>",
      "image/png": "[encoded data removed]"
     },
     "metadata": {
      "needs_background": "light"
     },
     "output_type": "display_data"
    }
   ],
   "source": [
    "slottime = frame_elec.index\n",
    "slotavg = frame_elec.slotavg\n",
    "plt.title('Baker Lab Electricity Plot')\n",
    "plt.xlabel('Time/year')\n",
    "plt.ylabel('kW')\n",
    "plt.plot(slottime, slotavg)\n",
    "plt.xticks(ticks=['2016-06-01 00:00:00','2017-06-01 00:00:00','2018-06-01 00:00:00','2019-06-01 00:00:00'], labels=['2016', '2017', '2018', '2019'])"
   ],
   "metadata": {
    "collapsed": false,
    "pycharm": {
     "name": "#%%\n"
    }
   }
  },
  {
   "cell_type": "code",
   "execution_count": 102,
   "outputs": [],
   "source": [
    "filt_steam = baker_data['pointTitle'] == 'Steam'\n",
    "frame_steam = baker_data[filt_steam]\n",
    "frame_steam.reset_index(inplace=True)"
   ],
   "metadata": {
    "collapsed": false,
    "pycharm": {
     "name": "#%%\n"
    }
   }
  },
  {
   "cell_type": "code",
   "execution_count": 103,
   "outputs": [],
   "source": [
    "frame_steam = frame_steam.drop('index', axis=1)\n",
    "frame_steam['slottime_GMT'] = pd.to_datetime(frame_steam['slottime_GMT'], format='%Y-%m-%d %H:%M:%S')\n",
    "frame_steam = frame_steam.set_index('slottime_GMT')\n",
    "frame_steam = frame_steam.reindex(pd.date_range(start='1/1/2016', end='1/1/2020', freq='H'), index='slottime_GMT', fill_value=None)\n",
    "frame_steam['slotavg'] = frame_steam['slotavg'].interpolate(method=\"linear\")\n",
    "frame_steam['slotavg'] *= 3530"
   ],
   "metadata": {
    "collapsed": false,
    "pycharm": {
     "name": "#%%\n"
    }
   }
  },
  {
   "cell_type": "code",
   "execution_count": 104,
   "outputs": [
    {
     "data": {
      "text/plain": "([<matplotlib.axis.XTick at 0x107f33520>,\n  <matplotlib.axis.XTick at 0x107f33550>,\n  <matplotlib.axis.XTick at 0x1581009d0>,\n  <matplotlib.axis.XTick at 0x15812bc70>],\n [Text(16953.0, 0, '2016'),\n  Text(17318.0, 0, '2017'),\n  Text(17683.0, 0, '2018'),\n  Text(18048.0, 0, '2019')])"
     },
     "execution_count": 104,
     "metadata": {},
     "output_type": "execute_result"
    },
    {
     "data": {
      "text/plain": "<Figure size 432x288 with 1 Axes>",
      "image/png": "[encoded data removed]"
     },
     "metadata": {
      "needs_background": "light"
     },
     "output_type": "display_data"
    }
   ],
   "source": [
    "slottime = frame_steam.index\n",
    "slotavg = frame_steam.slotavg\n",
    "plt.title('Baker Lab Steam Plot')\n",
    "plt.xlabel('Time/year')\n",
    "plt.ylabel('KWh')\n",
    "plt.plot(slottime, slotavg)\n",
    "plt.xticks(ticks=['2016-06-01 00:00:00','2017-06-01 00:00:00','2018-06-01 00:00:00','2019-06-01 00:00:00'], labels=['2016', '2017', '2018', '2019'])"
   ],
   "metadata": {
    "collapsed": false,
    "pycharm": {
     "name": "#%%\n"
    }
   }
  },
  {
   "cell_type": "code",
   "execution_count": 105,
   "outputs": [
    {
     "data": {
      "text/plain": "237164809.40578485"
     },
     "execution_count": 105,
     "metadata": {},
     "output_type": "execute_result"
    }
   ],
   "source": [
    "frame_steam.slotavg.sum()"
   ],
   "metadata": {
    "collapsed": false,
    "pycharm": {
     "name": "#%%\n"
    }
   }
  },
  {
   "cell_type": "code",
   "execution_count": 106,
   "outputs": [
    {
     "data": {
      "text/plain": "Int64Index([ 1,  1,  1,  1,  1,  1,  1,  1,  1,  1,\n            ...\n            12, 12, 12, 12, 12, 12, 12, 12, 12,  1],\n           dtype='int64', length=35065)"
     },
     "execution_count": 106,
     "metadata": {},
     "output_type": "execute_result"
    }
   ],
   "source": [
    "frame_elec_month = frame_elec.index.month\n",
    "frame_elec_month"
   ],
   "metadata": {
    "collapsed": false,
    "pycharm": {
     "name": "#%%\n"
    }
   }
  },
  {
   "cell_type": "code",
   "execution_count": 107,
   "outputs": [
    {
     "data": {
      "text/plain": "Int64Index([ 0,  1,  2,  3,  4,  5,  6,  7,  8,  9,\n            ...\n            15, 16, 17, 18, 19, 20, 21, 22, 23,  0],\n           dtype='int64', length=35065)"
     },
     "execution_count": 107,
     "metadata": {},
     "output_type": "execute_result"
    }
   ],
   "source": [
    "frame_elec_hour = frame_elec.index.hour\n",
    "frame_elec_hour"
   ],
   "metadata": {
    "collapsed": false,
    "pycharm": {
     "name": "#%%\n"
    }
   }
  },
  {
   "cell_type": "code",
   "execution_count": 108,
   "outputs": [
    {
     "data": {
      "text/plain": "Int64Index([ 1,  1,  1,  1,  1,  1,  1,  1,  1,  1,\n            ...\n            31, 31, 31, 31, 31, 31, 31, 31, 31,  1],\n           dtype='int64', length=35065)"
     },
     "execution_count": 108,
     "metadata": {},
     "output_type": "execute_result"
    }
   ],
   "source": [
    "frame_elec_day = frame_elec.index.day\n",
    "frame_elec_day"
   ],
   "metadata": {
    "collapsed": false,
    "pycharm": {
     "name": "#%%\n"
    }
   }
  },
  {
   "cell_type": "code",
   "execution_count": 109,
   "outputs": [],
   "source": [
    "from pandas.tseries.holiday import USFederalHolidayCalendar as calendar"
   ],
   "metadata": {
    "collapsed": false,
    "pycharm": {
     "name": "#%%\n"
    }
   }
  },
  {
   "cell_type": "code",
   "execution_count": 110,
   "outputs": [],
   "source": [
    "cal = calendar()\n",
    "holidays = cal.holidays(start=frame_elec.index.min(), end=frame_elec.index.max())"
   ],
   "metadata": {
    "collapsed": false,
    "pycharm": {
     "name": "#%%\n"
    }
   }
  },
  {
   "cell_type": "code",
   "execution_count": 111,
   "outputs": [
    {
     "data": {
      "text/plain": "DatetimeIndex(['2016-01-01', '2016-01-18', '2016-02-15', '2016-05-30',\n               '2016-07-04', '2016-09-05', '2016-10-10', '2016-11-11',\n               '2016-11-24', '2016-12-26', '2017-01-02', '2017-01-16',\n               '2017-02-20', '2017-05-29', '2017-07-04', '2017-09-04',\n               '2017-10-09', '2017-11-10', '2017-11-23', '2017-12-25',\n               '2018-01-01', '2018-01-15', '2018-02-19', '2018-05-28',\n               '2018-07-04', '2018-09-03', '2018-10-08', '2018-11-12',\n               '2018-11-22', '2018-12-25', '2019-01-01', '2019-01-21',\n               '2019-02-18', '2019-05-27', '2019-07-04', '2019-09-02',\n               '2019-10-14', '2019-11-11', '2019-11-28', '2019-12-25',\n               '2020-01-01'],\n              dtype='datetime64[ns]', freq=None)"
     },
     "execution_count": 111,
     "metadata": {},
     "output_type": "execute_result"
    }
   ],
   "source": [
    "holidays"
   ],
   "metadata": {
    "collapsed": false,
    "pycharm": {
     "name": "#%%\n"
    }
   }
  },
  {
   "cell_type": "code",
   "execution_count": 112,
   "outputs": [],
   "source": [
    "winter_break_16_start = pd.date_range('01/01/2016', '01/25/2016', freq='D')\n",
    "winter_break_16_end = pd.date_range('12/17/2016', '12/31/2016', freq='D')\n",
    "winter_break_17_start = pd.date_range('01/01/2017', '01/24/2017', freq='D')\n",
    "winter_break_17_end = pd.date_range('12/20/2017', '12/31/2017', freq='D')\n",
    "winter_break_18_start = pd.date_range('01/01/2018', '02/01/2018', freq='D')\n",
    "winter_break_18_end = pd.date_range('12/20/2018', '12/31/2018', freq='D')\n",
    "winter_break_19_start = pd.date_range('01/01/2019', '02/01/2019', freq='D')\n",
    "winter_break_19_end = pd.date_range('12/20/2019', '12/31/2019', freq='D')\n",
    "winter_breaks = winter_break_16_start.union(winter_break_16_end).union(winter_break_17_start).union(winter_break_18_start).union(winter_break_18_end).union(winter_break_19_start).union(winter_break_19_end)"
   ],
   "metadata": {
    "collapsed": false,
    "pycharm": {
     "name": "#%%\n"
    }
   }
  },
  {
   "cell_type": "code",
   "execution_count": 113,
   "outputs": [],
   "source": [
    "fall_break_16 = pd.date_range('10/08/2016', '10/11/2016', freq='D')\n",
    "fall_break_17 = pd.date_range('10/07/2017', '10/10/2017', freq='D')\n",
    "fall_break_18 = pd.date_range('10/06/2018', '10/09/2018', freq='D')\n",
    "fall_break_19 = pd.date_range('10/12/2019', '10/15/2019', freq='D')\n",
    "fall_breaks = fall_break_16.union(fall_break_17).union(fall_break_18).union(fall_break_19)"
   ],
   "metadata": {
    "collapsed": false,
    "pycharm": {
     "name": "#%%\n"
    }
   }
  },
  {
   "cell_type": "code",
   "execution_count": 114,
   "outputs": [],
   "source": [
    "thx_giving_16 = pd.date_range('11/23/2016', '11/27/2016', freq='D')\n",
    "thx_giving_17 = pd.date_range('11/22/2017', '11/26/2017', freq='D')\n",
    "thx_giving_18 = pd.date_range('11/21/2018', '11/25/2018', freq='D')\n",
    "thx_giving_19 = pd.date_range('11/27/2019', '12/01/2019', freq='D')\n",
    "thx_givings = thx_giving_16.union(thx_giving_17).union(thx_giving_18).union(thx_giving_19)"
   ],
   "metadata": {
    "collapsed": false,
    "pycharm": {
     "name": "#%%\n"
    }
   }
  },
  {
   "cell_type": "code",
   "execution_count": 115,
   "outputs": [],
   "source": [
    "feb_break_16 = pd.date_range('02/13/2016', '02/16/2016', freq='D')\n",
    "feb_break_17 = pd.date_range('02/18/2017', '02/21/2017', freq='D')\n",
    "feb_break_18 = pd.date_range('02/17/2018', '02/20/2018', freq='D')\n",
    "feb_break_19 = pd.date_range('02/23/2019', '02/26/2019', freq='D')\n",
    "feb_breaks = feb_break_16.union(feb_break_17).union(feb_break_18).union(feb_break_19)"
   ],
   "metadata": {
    "collapsed": false,
    "pycharm": {
     "name": "#%%\n"
    }
   }
  },
  {
   "cell_type": "code",
   "execution_count": 116,
   "outputs": [],
   "source": [
    "sp_break_16 = pd.date_range('03/26/2016', '04/03/2016', freq='D')\n",
    "sp_break_17 = pd.date_range('04/01/2017', '04/09/2017', freq='D')\n",
    "sp_break_18 = pd.date_range('03/31/2018', '04/08/2018', freq='D')\n",
    "sp_break_19 = pd.date_range('03/30/2019', '04/07/2019', freq='D')\n",
    "sp_breaks = sp_break_16.union(sp_break_17).union(sp_break_18).union(sp_break_19)"
   ],
   "metadata": {
    "collapsed": false,
    "pycharm": {
     "name": "#%%\n"
    }
   }
  },
  {
   "cell_type": "code",
   "execution_count": 117,
   "outputs": [],
   "source": [
    "from pandas.tseries.holiday import AbstractHolidayCalendar, nearest_workday, Holiday, USFederalHolidayCalendar\n",
    "from pandas.tseries.offsets import CustomBusinessDay\n",
    "\n",
    "class CornellHolidayCalendar(AbstractHolidayCalendar):\n",
    "    \"\"\"\n",
    "    Cornell University Holiday Calendar based on Cornell University academic calendars\n",
    "    \"\"\"\n",
    "    rules = [fall_breaks, thx_givings, winter_breaks, feb_breaks, sp_breaks]"
   ],
   "metadata": {
    "collapsed": false,
    "pycharm": {
     "name": "#%%\n"
    }
   }
  },
  {
   "cell_type": "code",
   "execution_count": 118,
   "outputs": [],
   "source": [
    "cornell_holiday_calendar = CustomBusinessDay(holidays=[*sp_breaks, *winter_breaks, *feb_breaks, *fall_breaks, *thx_givings])"
   ],
   "metadata": {
    "collapsed": false,
    "pycharm": {
     "name": "#%%\n"
    }
   }
  },
  {
   "cell_type": "code",
   "execution_count": 119,
   "outputs": [
    {
     "data": {
      "text/plain": "<CustomBusinessDay>"
     },
     "execution_count": 119,
     "metadata": {},
     "output_type": "execute_result"
    }
   ],
   "source": [
    "cornell_holiday_calendar"
   ],
   "metadata": {
    "collapsed": false,
    "pycharm": {
     "name": "#%%\n"
    }
   }
  },
  {
   "cell_type": "code",
   "execution_count": 120,
   "outputs": [],
   "source": [
    "cornell_workdays_series = pd.date_range(start=\"01/01/2016\", end=\"12/31/2019\", freq=cornell_holiday_calendar).to_series()"
   ],
   "metadata": {
    "collapsed": false,
    "pycharm": {
     "name": "#%%\n"
    }
   }
  },
  {
   "cell_type": "code",
   "execution_count": 121,
   "outputs": [
    {
     "data": {
      "text/plain": "2016-01-26   2016-01-26\n2016-01-27   2016-01-27\n2016-01-28   2016-01-28\n2016-01-29   2016-01-29\n2016-02-01   2016-02-01\n                ...    \n2019-12-13   2019-12-13\n2019-12-16   2019-12-16\n2019-12-17   2019-12-17\n2019-12-18   2019-12-18\n2019-12-19   2019-12-19\nFreq: C, Length: 887, dtype: datetime64[ns]"
     },
     "execution_count": 121,
     "metadata": {},
     "output_type": "execute_result"
    }
   ],
   "source": [
    "cornell_workdays_series"
   ],
   "metadata": {
    "collapsed": false,
    "pycharm": {
     "name": "#%%\n"
    }
   }
  },
  {
   "cell_type": "code",
   "execution_count": 122,
   "outputs": [],
   "source": [
    "cornell_workdays = cornell_workdays_series.dt.day_of_week"
   ],
   "metadata": {
    "collapsed": false,
    "pycharm": {
     "name": "#%%\n"
    }
   }
  },
  {
   "cell_type": "code",
   "execution_count": 123,
   "outputs": [
    {
     "data": {
      "text/plain": "2016-01-26    1\n2016-01-27    2\n2016-01-28    3\n2016-01-29    4\n2016-02-01    0\n             ..\n2019-12-13    4\n2019-12-16    0\n2019-12-17    1\n2019-12-18    2\n2019-12-19    3\nFreq: C, Length: 887, dtype: int64"
     },
     "execution_count": 123,
     "metadata": {},
     "output_type": "execute_result"
    }
   ],
   "source": [
    "cornell_workdays"
   ],
   "metadata": {
    "collapsed": false,
    "pycharm": {
     "name": "#%%\n"
    }
   }
  },
  {
   "cell_type": "code",
   "execution_count": 124,
   "outputs": [],
   "source": [
    "def build_cornell_calendar(input_workdays):\n",
    "    weekdays = []\n",
    "    for date in pd.date_range('01/01/2016', '12/31/2019', freq='D'):\n",
    "        if date not in input_workdays:\n",
    "            if date.day_of_week == 5 or date.day_of_week == 6:\n",
    "                weekdays.append(24*[date.day_of_week+1])\n",
    "            else:\n",
    "                weekdays.append(24*[8])\n",
    "        else:\n",
    "            weekdays.append(24*[input_workdays[date]+1])\n",
    "    return weekdays"
   ],
   "metadata": {
    "collapsed": false,
    "pycharm": {
     "name": "#%%\n"
    }
   }
  },
  {
   "cell_type": "code",
   "execution_count": 125,
   "outputs": [],
   "source": [
    "cornell_calender = build_cornell_calendar(cornell_workdays)"
   ],
   "metadata": {
    "collapsed": false,
    "pycharm": {
     "name": "#%%\n"
    }
   }
  },
  {
   "cell_type": "code",
   "execution_count": 126,
   "outputs": [],
   "source": [
    "whole_cornell_calender = flatten_list = [j for sub in cornell_calender for j in sub]"
   ],
   "metadata": {
    "collapsed": false,
    "pycharm": {
     "name": "#%%\n"
    }
   }
  },
  {
   "cell_type": "code",
   "execution_count": 127,
   "outputs": [
    {
     "data": {
      "text/plain": "35064"
     },
     "execution_count": 127,
     "metadata": {},
     "output_type": "execute_result"
    }
   ],
   "source": [
    "len(whole_cornell_calender)"
   ],
   "metadata": {
    "collapsed": false,
    "pycharm": {
     "name": "#%%\n"
    }
   }
  },
  {
   "cell_type": "code",
   "execution_count": 128,
   "outputs": [],
   "source": [
    "Month = pd.date_range(start='1/1/2016', end='1/1/2020', freq='H').month"
   ],
   "metadata": {
    "collapsed": false,
    "pycharm": {
     "name": "#%%\n"
    }
   }
  },
  {
   "cell_type": "code",
   "execution_count": 129,
   "outputs": [],
   "source": [
    "Hour = pd.date_range(start='1/1/2016', end='1/1/2020', freq='H').hour"
   ],
   "metadata": {
    "collapsed": false,
    "pycharm": {
     "name": "#%%\n"
    }
   }
  },
  {
   "cell_type": "code",
   "execution_count": 130,
   "outputs": [],
   "source": [
    "daylight_saving_16 = pd.date_range(start=\"03/13/2016\", end=\"11/06/2016\", freq='D')\n",
    "daylight_saving_17 = pd.date_range(start=\"03/12/2017\", end=\"11/05/2017\", freq='D')\n",
    "daylight_saving_18 = pd.date_range(start=\"03/11/2018\", end=\"11/04/2018\", freq='D')\n",
    "daylight_saving_19 = pd.date_range(start=\"03/10/2019\", end=\"11/03/2019\", freq='D')"
   ],
   "metadata": {
    "collapsed": false,
    "pycharm": {
     "name": "#%%\n"
    }
   }
  },
  {
   "cell_type": "code",
   "execution_count": 131,
   "outputs": [],
   "source": [
    "year_16 = pd.date_range(start=\"01/01/2016\", end=\"12/31/2016\", freq='D')\n",
    "year_17 = pd.date_range(start=\"01/01/2017\", end=\"12/31/2017\", freq='D')\n",
    "year_18 = pd.date_range(start=\"01/01/2018\", end=\"12/31/2018\", freq='D')\n",
    "year_19 = pd.date_range(start=\"01/01/2019\", end=\"12/31/2019\", freq='D')"
   ],
   "metadata": {
    "collapsed": false,
    "pycharm": {
     "name": "#%%\n"
    }
   }
  },
  {
   "cell_type": "code",
   "execution_count": 132,
   "outputs": [],
   "source": [
    "def build_daylight_saving_flag(daylight_saving_year, year):\n",
    "    res = []\n",
    "    for day in year:\n",
    "        if day in daylight_saving_year:\n",
    "            res.append(24*[1])\n",
    "        else:\n",
    "            res.append(24*[0])\n",
    "    return res"
   ],
   "metadata": {
    "collapsed": false,
    "pycharm": {
     "name": "#%%\n"
    }
   }
  },
  {
   "cell_type": "code",
   "execution_count": 133,
   "outputs": [],
   "source": [
    "daylight_saving_f16 = build_daylight_saving_flag(daylight_saving_16, year_16)\n",
    "daylight_saving_f17 = build_daylight_saving_flag(daylight_saving_17, year_17)\n",
    "daylight_saving_f18 = build_daylight_saving_flag(daylight_saving_18, year_18)\n",
    "daylight_saving_f19 = build_daylight_saving_flag(daylight_saving_19, year_19)"
   ],
   "metadata": {
    "collapsed": false,
    "pycharm": {
     "name": "#%%\n"
    }
   }
  },
  {
   "cell_type": "code",
   "execution_count": 134,
   "outputs": [
    {
     "data": {
      "text/plain": "366"
     },
     "execution_count": 134,
     "metadata": {},
     "output_type": "execute_result"
    }
   ],
   "source": [
    "len(daylight_saving_f16)"
   ],
   "metadata": {
    "collapsed": false,
    "pycharm": {
     "name": "#%%\n"
    }
   }
  },
  {
   "cell_type": "code",
   "execution_count": 135,
   "outputs": [
    {
     "data": {
      "text/plain": "       Month  Hour  Day Type  Daylight Savings Status  Indoor Temperature [C]  \\\n0          1     1       8.0                      0.0                   18.93   \n1          1     2       8.0                      0.0                   18.82   \n2          1     3       8.0                      0.0                   18.76   \n3          1     4       8.0                      0.0                   18.66   \n4          1     5       8.0                      0.0                   18.62   \n...      ...   ...       ...                      ...                     ...   \n35035     12    20       1.0                      0.0                   19.87   \n35036     12    21       1.0                      0.0                   19.68   \n35037     12    22       1.0                      0.0                   19.47   \n35038     12    23       1.0                      0.0                   19.26   \n35039     12    24       1.0                      0.0                   19.06   \n\n       Average Unmet Cooling Setpoint Difference [C]  \\\n0                                                0.0   \n1                                                0.0   \n2                                                0.0   \n3                                                0.0   \n4                                                0.0   \n...                                              ...   \n35035                                            0.0   \n35036                                            0.0   \n35037                                            0.0   \n35038                                            0.0   \n35039                                            0.0   \n\n       Indoor Relative Humidity [%]  Equipment Electric Power [kWh]  \\\n0                             77.92                            9.80   \n1                             77.97                           10.41   \n2                             77.89                           10.39   \n3                             77.74                           10.33   \n4                             77.37                            9.41   \n...                             ...                             ...   \n35035                         40.65                            9.28   \n35036                         40.04                            9.28   \n35037                         39.47                            9.28   \n35038                         39.17                            9.28   \n35039                         38.40                            9.28   \n\n       DHW Heating [kWh]  Cooling Load [kWh]  \n0                    0.0                 0.0  \n1                    0.0                 0.0  \n2                    0.0                 0.0  \n3                    0.0                 0.0  \n4                    0.0                 0.0  \n...                  ...                 ...  \n35035                0.0                 0.0  \n35036                0.0                 0.0  \n35037                0.0                 0.0  \n35038                0.0                 0.0  \n35039                0.0                 0.0  \n\n[35040 rows x 10 columns]",
      "text/html": "<div>\n<style scoped>\n    .dataframe tbody tr th:only-of-type {\n        vertical-align: middle;\n    }\n\n    .dataframe tbody tr th {\n        vertical-align: top;\n    }\n\n    .dataframe thead th {\n        text-align: right;\n    }\n</style>\n<table border=\"1\" class=\"dataframe\">\n  <thead>\n    <tr style=\"text-align: right;\">\n      <th></th>\n      <th>Month</th>\n      <th>Hour</th>\n      <th>Day Type</th>\n      <th>Daylight Savings Status</th>\n      <th>Indoor Temperature [C]</th>\n      <th>Average Unmet Cooling Setpoint Difference [C]</th>\n      <th>Indoor Relative Humidity [%]</th>\n      <th>Equipment Electric Power [kWh]</th>\n      <th>DHW Heating [kWh]</th>\n      <th>Cooling Load [kWh]</th>\n    </tr>\n  </thead>\n  <tbody>\n    <tr>\n      <th>0</th>\n      <td>1</td>\n      <td>1</td>\n      <td>8.0</td>\n      <td>0.0</td>\n      <td>18.93</td>\n      <td>0.0</td>\n      <td>77.92</td>\n      <td>9.80</td>\n      <td>0.0</td>\n      <td>0.0</td>\n    </tr>\n    <tr>\n      <th>1</th>\n      <td>1</td>\n      <td>2</td>\n      <td>8.0</td>\n      <td>0.0</td>\n      <td>18.82</td>\n      <td>0.0</td>\n      <td>77.97</td>\n      <td>10.41</td>\n      <td>0.0</td>\n      <td>0.0</td>\n    </tr>\n    <tr>\n      <th>2</th>\n      <td>1</td>\n      <td>3</td>\n      <td>8.0</td>\n      <td>0.0</td>\n      <td>18.76</td>\n      <td>0.0</td>\n      <td>77.89</td>\n      <td>10.39</td>\n      <td>0.0</td>\n      <td>0.0</td>\n    </tr>\n    <tr>\n      <th>3</th>\n      <td>1</td>\n      <td>4</td>\n      <td>8.0</td>\n      <td>0.0</td>\n      <td>18.66</td>\n      <td>0.0</td>\n      <td>77.74</td>\n      <td>10.33</td>\n      <td>0.0</td>\n      <td>0.0</td>\n    </tr>\n    <tr>\n      <th>4</th>\n      <td>1</td>\n      <td>5</td>\n      <td>8.0</td>\n      <td>0.0</td>\n      <td>18.62</td>\n      <td>0.0</td>\n      <td>77.37</td>\n      <td>9.41</td>\n      <td>0.0</td>\n      <td>0.0</td>\n    </tr>\n    <tr>\n      <th>...</th>\n      <td>...</td>\n      <td>...</td>\n      <td>...</td>\n      <td>...</td>\n      <td>...</td>\n      <td>...</td>\n      <td>...</td>\n      <td>...</td>\n      <td>...</td>\n      <td>...</td>\n    </tr>\n    <tr>\n      <th>35035</th>\n      <td>12</td>\n      <td>20</td>\n      <td>1.0</td>\n      <td>0.0</td>\n      <td>19.87</td>\n      <td>0.0</td>\n      <td>40.65</td>\n      <td>9.28</td>\n      <td>0.0</td>\n      <td>0.0</td>\n    </tr>\n    <tr>\n      <th>35036</th>\n      <td>12</td>\n      <td>21</td>\n      <td>1.0</td>\n      <td>0.0</td>\n      <td>19.68</td>\n      <td>0.0</td>\n      <td>40.04</td>\n      <td>9.28</td>\n      <td>0.0</td>\n      <td>0.0</td>\n    </tr>\n    <tr>\n      <th>35037</th>\n      <td>12</td>\n      <td>22</td>\n      <td>1.0</td>\n      <td>0.0</td>\n      <td>19.47</td>\n      <td>0.0</td>\n      <td>39.47</td>\n      <td>9.28</td>\n      <td>0.0</td>\n      <td>0.0</td>\n    </tr>\n    <tr>\n      <th>35038</th>\n      <td>12</td>\n      <td>23</td>\n      <td>1.0</td>\n      <td>0.0</td>\n      <td>19.26</td>\n      <td>0.0</td>\n      <td>39.17</td>\n      <td>9.28</td>\n      <td>0.0</td>\n      <td>0.0</td>\n    </tr>\n    <tr>\n      <th>35039</th>\n      <td>12</td>\n      <td>24</td>\n      <td>1.0</td>\n      <td>0.0</td>\n      <td>19.06</td>\n      <td>0.0</td>\n      <td>38.40</td>\n      <td>9.28</td>\n      <td>0.0</td>\n      <td>0.0</td>\n    </tr>\n  </tbody>\n</table>\n<p>35040 rows × 10 columns</p>\n</div>"
     },
     "execution_count": 135,
     "metadata": {},
     "output_type": "execute_result"
    }
   ],
   "source": [
    "build1_data = pd.read_csv(\"../Climate_Zone_5/Building_1.csv\")\n",
    "build1_data"
   ],
   "metadata": {
    "collapsed": false,
    "pycharm": {
     "name": "#%%\n"
    }
   }
  },
  {
   "cell_type": "code",
   "execution_count": 136,
   "outputs": [],
   "source": [
    "indoor_temp = build1_data['Indoor Temperature [C]']\n",
    "relative_humidity = build1_data['Indoor Relative Humidity [%]']\n",
    "avg_unmet_cooling_setpnt_diff = build1_data['Average Unmet Cooling Setpoint Difference [C]']"
   ],
   "metadata": {
    "collapsed": false,
    "pycharm": {
     "name": "#%%\n"
    }
   }
  },
  {
   "cell_type": "code",
   "execution_count": 137,
   "outputs": [],
   "source": [
    "whole_date = pd.date_range(start='01/01/2016', end='01/01/2020', freq='H')"
   ],
   "metadata": {
    "collapsed": false,
    "pycharm": {
     "name": "#%%\n"
    }
   }
  },
  {
   "cell_type": "code",
   "execution_count": 138,
   "outputs": [],
   "source": [
    "indoor_temp = np.array(indoor_temp)\n",
    "relative_humidity = np.array(relative_humidity)\n",
    "avg_unmet_cooling_setpnt_diff = np.array(avg_unmet_cooling_setpnt_diff)"
   ],
   "metadata": {
    "collapsed": false,
    "pycharm": {
     "name": "#%%\n"
    }
   }
  },
  {
   "cell_type": "code",
   "execution_count": 139,
   "outputs": [
    {
     "data": {
      "text/plain": "35065"
     },
     "execution_count": 139,
     "metadata": {},
     "output_type": "execute_result"
    }
   ],
   "source": [
    "len(whole_date)"
   ],
   "metadata": {
    "collapsed": false,
    "pycharm": {
     "name": "#%%\n"
    }
   }
  },
  {
   "cell_type": "code",
   "execution_count": 140,
   "outputs": [],
   "source": [
    "building_thermal = {'indoor temperature': indoor_temp, 'indoor relative humidity': relative_humidity, 'avg unmet cooling setpnt diff': avg_unmet_cooling_setpnt_diff}"
   ],
   "metadata": {
    "collapsed": false,
    "pycharm": {
     "name": "#%%\n"
    }
   }
  },
  {
   "cell_type": "code",
   "execution_count": 141,
   "outputs": [],
   "source": [
    "df_build_therm = pd.DataFrame(data=building_thermal, index=pd.date_range(start='1/1/2016', end='2019-12-30 23:00', freq='H'))"
   ],
   "metadata": {
    "collapsed": false,
    "pycharm": {
     "name": "#%%\n"
    }
   }
  },
  {
   "cell_type": "code",
   "execution_count": 142,
   "outputs": [
    {
     "data": {
      "text/plain": "                     indoor temperature  indoor relative humidity  \\\n2016-01-01 00:00:00               18.93                     77.92   \n2016-01-01 01:00:00               18.82                     77.97   \n2016-01-01 02:00:00               18.76                     77.89   \n2016-01-01 03:00:00               18.66                     77.74   \n2016-01-01 04:00:00               18.62                     77.37   \n...                                 ...                       ...   \n2019-12-30 19:00:00               19.87                     40.65   \n2019-12-30 20:00:00               19.68                     40.04   \n2019-12-30 21:00:00               19.47                     39.47   \n2019-12-30 22:00:00               19.26                     39.17   \n2019-12-30 23:00:00               19.06                     38.40   \n\n                     avg unmet cooling setpnt diff  \n2016-01-01 00:00:00                            0.0  \n2016-01-01 01:00:00                            0.0  \n2016-01-01 02:00:00                            0.0  \n2016-01-01 03:00:00                            0.0  \n2016-01-01 04:00:00                            0.0  \n...                                            ...  \n2019-12-30 19:00:00                            0.0  \n2019-12-30 20:00:00                            0.0  \n2019-12-30 21:00:00                            0.0  \n2019-12-30 22:00:00                            0.0  \n2019-12-30 23:00:00                            0.0  \n\n[35040 rows x 3 columns]",
      "text/html": "<div>\n<style scoped>\n    .dataframe tbody tr th:only-of-type {\n        vertical-align: middle;\n    }\n\n    .dataframe tbody tr th {\n        vertical-align: top;\n    }\n\n    .dataframe thead th {\n        text-align: right;\n    }\n</style>\n<table border=\"1\" class=\"dataframe\">\n  <thead>\n    <tr style=\"text-align: right;\">\n      <th></th>\n      <th>indoor temperature</th>\n      <th>indoor relative humidity</th>\n      <th>avg unmet cooling setpnt diff</th>\n    </tr>\n  </thead>\n  <tbody>\n    <tr>\n      <th>2016-01-01 00:00:00</th>\n      <td>18.93</td>\n      <td>77.92</td>\n      <td>0.0</td>\n    </tr>\n    <tr>\n      <th>2016-01-01 01:00:00</th>\n      <td>18.82</td>\n      <td>77.97</td>\n      <td>0.0</td>\n    </tr>\n    <tr>\n      <th>2016-01-01 02:00:00</th>\n      <td>18.76</td>\n      <td>77.89</td>\n      <td>0.0</td>\n    </tr>\n    <tr>\n      <th>2016-01-01 03:00:00</th>\n      <td>18.66</td>\n      <td>77.74</td>\n      <td>0.0</td>\n    </tr>\n    <tr>\n      <th>2016-01-01 04:00:00</th>\n      <td>18.62</td>\n      <td>77.37</td>\n      <td>0.0</td>\n    </tr>\n    <tr>\n      <th>...</th>\n      <td>...</td>\n      <td>...</td>\n      <td>...</td>\n    </tr>\n    <tr>\n      <th>2019-12-30 19:00:00</th>\n      <td>19.87</td>\n      <td>40.65</td>\n      <td>0.0</td>\n    </tr>\n    <tr>\n      <th>2019-12-30 20:00:00</th>\n      <td>19.68</td>\n      <td>40.04</td>\n      <td>0.0</td>\n    </tr>\n    <tr>\n      <th>2019-12-30 21:00:00</th>\n      <td>19.47</td>\n      <td>39.47</td>\n      <td>0.0</td>\n    </tr>\n    <tr>\n      <th>2019-12-30 22:00:00</th>\n      <td>19.26</td>\n      <td>39.17</td>\n      <td>0.0</td>\n    </tr>\n    <tr>\n      <th>2019-12-30 23:00:00</th>\n      <td>19.06</td>\n      <td>38.40</td>\n      <td>0.0</td>\n    </tr>\n  </tbody>\n</table>\n<p>35040 rows × 3 columns</p>\n</div>"
     },
     "execution_count": 142,
     "metadata": {},
     "output_type": "execute_result"
    }
   ],
   "source": [
    "df_build_therm"
   ],
   "metadata": {
    "collapsed": false,
    "pycharm": {
     "name": "#%%\n"
    }
   }
  },
  {
   "cell_type": "code",
   "execution_count": 143,
   "outputs": [],
   "source": [
    "new_df_build_therm = df_build_therm.reindex(index=pd.date_range(start='1/1/2016', end='1/1/2020', freq='H'), fill_value=None)"
   ],
   "metadata": {
    "collapsed": false,
    "pycharm": {
     "name": "#%%\n"
    }
   }
  },
  {
   "cell_type": "code",
   "execution_count": 144,
   "outputs": [],
   "source": [
    "new_df_build_therm = new_df_build_therm.interpolate()"
   ],
   "metadata": {
    "collapsed": false,
    "pycharm": {
     "name": "#%%\n"
    }
   }
  },
  {
   "cell_type": "code",
   "execution_count": 145,
   "outputs": [
    {
     "data": {
      "text/plain": "                     indoor temperature  indoor relative humidity  \\\n2016-01-01 00:00:00               18.93                     77.92   \n2016-01-01 01:00:00               18.82                     77.97   \n2016-01-01 02:00:00               18.76                     77.89   \n2016-01-01 03:00:00               18.66                     77.74   \n2016-01-01 04:00:00               18.62                     77.37   \n...                                 ...                       ...   \n2019-12-31 20:00:00               19.06                     38.40   \n2019-12-31 21:00:00               19.06                     38.40   \n2019-12-31 22:00:00               19.06                     38.40   \n2019-12-31 23:00:00               19.06                     38.40   \n2020-01-01 00:00:00               19.06                     38.40   \n\n                     avg unmet cooling setpnt diff  \n2016-01-01 00:00:00                            0.0  \n2016-01-01 01:00:00                            0.0  \n2016-01-01 02:00:00                            0.0  \n2016-01-01 03:00:00                            0.0  \n2016-01-01 04:00:00                            0.0  \n...                                            ...  \n2019-12-31 20:00:00                            0.0  \n2019-12-31 21:00:00                            0.0  \n2019-12-31 22:00:00                            0.0  \n2019-12-31 23:00:00                            0.0  \n2020-01-01 00:00:00                            0.0  \n\n[35065 rows x 3 columns]",
      "text/html": "<div>\n<style scoped>\n    .dataframe tbody tr th:only-of-type {\n        vertical-align: middle;\n    }\n\n    .dataframe tbody tr th {\n        vertical-align: top;\n    }\n\n    .dataframe thead th {\n        text-align: right;\n    }\n</style>\n<table border=\"1\" class=\"dataframe\">\n  <thead>\n    <tr style=\"text-align: right;\">\n      <th></th>\n      <th>indoor temperature</th>\n      <th>indoor relative humidity</th>\n      <th>avg unmet cooling setpnt diff</th>\n    </tr>\n  </thead>\n  <tbody>\n    <tr>\n      <th>2016-01-01 00:00:00</th>\n      <td>18.93</td>\n      <td>77.92</td>\n      <td>0.0</td>\n    </tr>\n    <tr>\n      <th>2016-01-01 01:00:00</th>\n      <td>18.82</td>\n      <td>77.97</td>\n      <td>0.0</td>\n    </tr>\n    <tr>\n      <th>2016-01-01 02:00:00</th>\n      <td>18.76</td>\n      <td>77.89</td>\n      <td>0.0</td>\n    </tr>\n    <tr>\n      <th>2016-01-01 03:00:00</th>\n      <td>18.66</td>\n      <td>77.74</td>\n      <td>0.0</td>\n    </tr>\n    <tr>\n      <th>2016-01-01 04:00:00</th>\n      <td>18.62</td>\n      <td>77.37</td>\n      <td>0.0</td>\n    </tr>\n    <tr>\n      <th>...</th>\n      <td>...</td>\n      <td>...</td>\n      <td>...</td>\n    </tr>\n    <tr>\n      <th>2019-12-31 20:00:00</th>\n      <td>19.06</td>\n      <td>38.40</td>\n      <td>0.0</td>\n    </tr>\n    <tr>\n      <th>2019-12-31 21:00:00</th>\n      <td>19.06</td>\n      <td>38.40</td>\n      <td>0.0</td>\n    </tr>\n    <tr>\n      <th>2019-12-31 22:00:00</th>\n      <td>19.06</td>\n      <td>38.40</td>\n      <td>0.0</td>\n    </tr>\n    <tr>\n      <th>2019-12-31 23:00:00</th>\n      <td>19.06</td>\n      <td>38.40</td>\n      <td>0.0</td>\n    </tr>\n    <tr>\n      <th>2020-01-01 00:00:00</th>\n      <td>19.06</td>\n      <td>38.40</td>\n      <td>0.0</td>\n    </tr>\n  </tbody>\n</table>\n<p>35065 rows × 3 columns</p>\n</div>"
     },
     "execution_count": 145,
     "metadata": {},
     "output_type": "execute_result"
    }
   ],
   "source": [
    "new_df_build_therm"
   ],
   "metadata": {
    "collapsed": false,
    "pycharm": {
     "name": "#%%\n"
    }
   }
  },
  {
   "cell_type": "code",
   "execution_count": 146,
   "outputs": [],
   "source": [
    "Month = np.array(Month[:-1])"
   ],
   "metadata": {
    "collapsed": false,
    "pycharm": {
     "name": "#%%\n"
    }
   }
  },
  {
   "cell_type": "code",
   "execution_count": 147,
   "outputs": [],
   "source": [
    "Hour = np.array(Hour[:-1])"
   ],
   "metadata": {
    "collapsed": false,
    "pycharm": {
     "name": "#%%\n"
    }
   }
  },
  {
   "cell_type": "code",
   "execution_count": 148,
   "outputs": [],
   "source": [
    "Day_Type = pd.Series(whole_cornell_calender)"
   ],
   "metadata": {
    "collapsed": false,
    "pycharm": {
     "name": "#%%\n"
    }
   }
  },
  {
   "cell_type": "code",
   "execution_count": 149,
   "outputs": [],
   "source": [
    "daylight_saving_f1617 = np.append(daylight_saving_f16, daylight_saving_f17)"
   ],
   "metadata": {
    "collapsed": false,
    "pycharm": {
     "name": "#%%\n"
    }
   }
  },
  {
   "cell_type": "code",
   "execution_count": 150,
   "outputs": [],
   "source": [
    "daylight_saving_f1819 = np.append(daylight_saving_f18, daylight_saving_f19)"
   ],
   "metadata": {
    "collapsed": false,
    "pycharm": {
     "name": "#%%\n"
    }
   }
  },
  {
   "cell_type": "code",
   "execution_count": 151,
   "outputs": [],
   "source": [
    "Daylight_Savings_Status = np.append(daylight_saving_f1617, daylight_saving_f1819)"
   ],
   "metadata": {
    "collapsed": false,
    "pycharm": {
     "name": "#%%\n"
    }
   }
  },
  {
   "cell_type": "code",
   "execution_count": 152,
   "outputs": [],
   "source": [
    "Indoor_Temperature = new_df_build_therm['indoor temperature']"
   ],
   "metadata": {
    "collapsed": false,
    "pycharm": {
     "name": "#%%\n"
    }
   }
  },
  {
   "cell_type": "code",
   "execution_count": 153,
   "outputs": [],
   "source": [
    "Average_Unmet_Cooling_Setpoint_Difference = new_df_build_therm['avg unmet cooling setpnt diff']"
   ],
   "metadata": {
    "collapsed": false,
    "pycharm": {
     "name": "#%%\n"
    }
   }
  },
  {
   "cell_type": "code",
   "execution_count": 154,
   "outputs": [],
   "source": [
    "Indoor_Relative_Humidity = new_df_build_therm['indoor relative humidity']"
   ],
   "metadata": {
    "collapsed": false,
    "pycharm": {
     "name": "#%%\n"
    }
   }
  },
  {
   "cell_type": "code",
   "execution_count": 155,
   "outputs": [],
   "source": [
    "Equipment_Electric_Power = frame_elec.slotavg[:-1]"
   ],
   "metadata": {
    "collapsed": false,
    "pycharm": {
     "name": "#%%\n"
    }
   }
  },
  {
   "cell_type": "code",
   "execution_count": 156,
   "outputs": [],
   "source": [
    "DHW_Heating = frame_steam.slotavg[:-1]/7.5"
   ],
   "metadata": {
    "collapsed": false,
    "pycharm": {
     "name": "#%%\n"
    }
   }
  },
  {
   "cell_type": "code",
   "execution_count": 157,
   "outputs": [],
   "source": [
    "Cooling_Load = frame_chilled_water.slotavg[:-1]* 3.51685"
   ],
   "metadata": {
    "collapsed": false,
    "pycharm": {
     "name": "#%%\n"
    }
   }
  },
  {
   "cell_type": "code",
   "execution_count": 158,
   "outputs": [],
   "source": [
    "BakerLab_DataFrame = {\"Month\": Month, \"Hour\": Hour, \"Day Type\": Day_Type, \"Daylight Savings Status\": Daylight_Savings_Status, \"Indoor Temperature [C]\": Indoor_Temperature[:-1].values, \"Average Unmet Cooling Setpoint Difference [C]\": Average_Unmet_Cooling_Setpoint_Difference[:-1].values, \"Indoor Relative Humidity [%]\": Indoor_Relative_Humidity[:-1].values, \"Equipment Electric Power [kWh]\": Equipment_Electric_Power.values, \"DHW Heating [kWh]\": DHW_Heating.values, \"Cooling Load [kWh]\": Cooling_Load.values}"
   ],
   "metadata": {
    "collapsed": false,
    "pycharm": {
     "name": "#%%\n"
    }
   }
  },
  {
   "cell_type": "code",
   "execution_count": 159,
   "outputs": [
    {
     "data": {
      "text/plain": "       Month  Hour  Day Type  Daylight Savings Status  Indoor Temperature [C]  \\\n0          1     0         8                        0                   18.93   \n1          1     1         8                        0                   18.82   \n2          1     2         8                        0                   18.76   \n3          1     3         8                        0                   18.66   \n4          1     4         8                        0                   18.62   \n...      ...   ...       ...                      ...                     ...   \n35059     12    19         8                        0                   19.06   \n35060     12    20         8                        0                   19.06   \n35061     12    21         8                        0                   19.06   \n35062     12    22         8                        0                   19.06   \n35063     12    23         8                        0                   19.06   \n\n       Average Unmet Cooling Setpoint Difference [C]  \\\n0                                                0.0   \n1                                                0.0   \n2                                                0.0   \n3                                                0.0   \n4                                                0.0   \n...                                              ...   \n35059                                            0.0   \n35060                                            0.0   \n35061                                            0.0   \n35062                                            0.0   \n35063                                            0.0   \n\n       Indoor Relative Humidity [%]  Equipment Electric Power [kWh]  \\\n0                             77.92                         256.225   \n1                             77.97                         252.825   \n2                             77.89                         249.650   \n3                             77.74                         247.500   \n4                             77.37                         252.625   \n...                             ...                             ...   \n35059                         38.40                         223.275   \n35060                         38.40                         229.250   \n35061                         38.40                         232.200   \n35062                         38.40                         230.225   \n35063                         38.40                         225.825   \n\n       DHW Heating [kWh]  Cooling Load [kWh]  \n0            1448.819077           53.519599  \n1            1385.089633           54.726758  \n2            1478.705233           55.000193  \n3            1366.978380           53.429304  \n4            1460.242157           53.627127  \n...                  ...                 ...  \n35059        1212.109043           53.780725  \n35060        1235.909480           53.552482  \n35061        1292.314173           53.082455  \n35062        1533.905020           52.446960  \n35063        1426.784817           53.185323  \n\n[35064 rows x 10 columns]",
      "text/html": "<div>\n<style scoped>\n    .dataframe tbody tr th:only-of-type {\n        vertical-align: middle;\n    }\n\n    .dataframe tbody tr th {\n        vertical-align: top;\n    }\n\n    .dataframe thead th {\n        text-align: right;\n    }\n</style>\n<table border=\"1\" class=\"dataframe\">\n  <thead>\n    <tr style=\"text-align: right;\">\n      <th></th>\n      <th>Month</th>\n      <th>Hour</th>\n      <th>Day Type</th>\n      <th>Daylight Savings Status</th>\n      <th>Indoor Temperature [C]</th>\n      <th>Average Unmet Cooling Setpoint Difference [C]</th>\n      <th>Indoor Relative Humidity [%]</th>\n      <th>Equipment Electric Power [kWh]</th>\n      <th>DHW Heating [kWh]</th>\n      <th>Cooling Load [kWh]</th>\n    </tr>\n  </thead>\n  <tbody>\n    <tr>\n      <th>0</th>\n      <td>1</td>\n      <td>0</td>\n      <td>8</td>\n      <td>0</td>\n      <td>18.93</td>\n      <td>0.0</td>\n      <td>77.92</td>\n      <td>256.225</td>\n      <td>1448.819077</td>\n      <td>53.519599</td>\n    </tr>\n    <tr>\n      <th>1</th>\n      <td>1</td>\n      <td>1</td>\n      <td>8</td>\n      <td>0</td>\n      <td>18.82</td>\n      <td>0.0</td>\n      <td>77.97</td>\n      <td>252.825</td>\n      <td>1385.089633</td>\n      <td>54.726758</td>\n    </tr>\n    <tr>\n      <th>2</th>\n      <td>1</td>\n      <td>2</td>\n      <td>8</td>\n      <td>0</td>\n      <td>18.76</td>\n      <td>0.0</td>\n      <td>77.89</td>\n      <td>249.650</td>\n      <td>1478.705233</td>\n      <td>55.000193</td>\n    </tr>\n    <tr>\n      <th>3</th>\n      <td>1</td>\n      <td>3</td>\n      <td>8</td>\n      <td>0</td>\n      <td>18.66</td>\n      <td>0.0</td>\n      <td>77.74</td>\n      <td>247.500</td>\n      <td>1366.978380</td>\n      <td>53.429304</td>\n    </tr>\n    <tr>\n      <th>4</th>\n      <td>1</td>\n      <td>4</td>\n      <td>8</td>\n      <td>0</td>\n      <td>18.62</td>\n      <td>0.0</td>\n      <td>77.37</td>\n      <td>252.625</td>\n      <td>1460.242157</td>\n      <td>53.627127</td>\n    </tr>\n    <tr>\n      <th>...</th>\n      <td>...</td>\n      <td>...</td>\n      <td>...</td>\n      <td>...</td>\n      <td>...</td>\n      <td>...</td>\n      <td>...</td>\n      <td>...</td>\n      <td>...</td>\n      <td>...</td>\n    </tr>\n    <tr>\n      <th>35059</th>\n      <td>12</td>\n      <td>19</td>\n      <td>8</td>\n      <td>0</td>\n      <td>19.06</td>\n      <td>0.0</td>\n      <td>38.40</td>\n      <td>223.275</td>\n      <td>1212.109043</td>\n      <td>53.780725</td>\n    </tr>\n    <tr>\n      <th>35060</th>\n      <td>12</td>\n      <td>20</td>\n      <td>8</td>\n      <td>0</td>\n      <td>19.06</td>\n      <td>0.0</td>\n      <td>38.40</td>\n      <td>229.250</td>\n      <td>1235.909480</td>\n      <td>53.552482</td>\n    </tr>\n    <tr>\n      <th>35061</th>\n      <td>12</td>\n      <td>21</td>\n      <td>8</td>\n      <td>0</td>\n      <td>19.06</td>\n      <td>0.0</td>\n      <td>38.40</td>\n      <td>232.200</td>\n      <td>1292.314173</td>\n      <td>53.082455</td>\n    </tr>\n    <tr>\n      <th>35062</th>\n      <td>12</td>\n      <td>22</td>\n      <td>8</td>\n      <td>0</td>\n      <td>19.06</td>\n      <td>0.0</td>\n      <td>38.40</td>\n      <td>230.225</td>\n      <td>1533.905020</td>\n      <td>52.446960</td>\n    </tr>\n    <tr>\n      <th>35063</th>\n      <td>12</td>\n      <td>23</td>\n      <td>8</td>\n      <td>0</td>\n      <td>19.06</td>\n      <td>0.0</td>\n      <td>38.40</td>\n      <td>225.825</td>\n      <td>1426.784817</td>\n      <td>53.185323</td>\n    </tr>\n  </tbody>\n</table>\n<p>35064 rows × 10 columns</p>\n</div>"
     },
     "execution_count": 159,
     "metadata": {},
     "output_type": "execute_result"
    }
   ],
   "source": [
    "BakerLab_DataFrame = pd.DataFrame(BakerLab_DataFrame)\n",
    "BakerLab_DataFrame.fillna(0.)"
   ],
   "metadata": {
    "collapsed": false,
    "pycharm": {
     "name": "#%%\n"
    }
   }
  },
  {
   "cell_type": "code",
   "execution_count": 160,
   "outputs": [],
   "source": [
    "BakerLab_DataFrame.to_csv(\"processed/BakerLab.csv\", index=False)"
   ],
   "metadata": {
    "collapsed": false,
    "pycharm": {
     "name": "#%%\n"
    }
   }
  },
  {
   "cell_type": "code",
   "execution_count": null,
   "outputs": [],
   "source": [],
   "metadata": {
    "collapsed": false,
    "pycharm": {
     "name": "#%%\n"
    }
   }
  }
 ],
 "metadata": {
  "kernelspec": {
   "display_name": "Python 3",
   "language": "python",
   "name": "python3"
  },
  "language_info": {
   "codemirror_mode": {
    "name": "ipython",
    "version": 2
   },
   "file_extension": ".py",
   "mimetype": "text/x-python",
   "name": "python",
   "nbconvert_exporter": "python",
   "pygments_lexer": "ipython2",
   "version": "2.7.6"
  }
 },
 "nbformat": 4,
 "nbformat_minor": 0
}