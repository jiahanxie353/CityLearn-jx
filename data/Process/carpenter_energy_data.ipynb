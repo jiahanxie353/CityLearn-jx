{
 "cells": [
  {
   "cell_type": "code",
   "execution_count": 18,
   "outputs": [],
   "source": [
    "import numpy as np\n",
    "import pandas as pd\n",
    "from matplotlib import pyplot as plt"
   ],
   "metadata": {
    "collapsed": false,
    "pycharm": {
     "name": "#%%\n"
    }
   }
  },
  {
   "cell_type": "code",
   "execution_count": 19,
   "outputs": [
    {
     "data": {
      "text/plain": "                                           name         slottime_GMT slottype  \\\n0                      CarpenterHall.CW.FP/TONS  2016-01-01 00:00:00        H   \n1       CarpenterHall.Elec.PowerScout3/kWsystem  2016-01-01 00:00:00        H   \n2       CarpenterHall.STM.M22-V/AverageMassFlow  2016-01-01 00:00:00        H   \n3                      CarpenterHall.CW.FP/TONS  2016-01-01 01:00:00        H   \n4       CarpenterHall.Elec.PowerScout3/kWsystem  2016-01-01 01:00:00        H   \n...                                         ...                  ...      ...   \n102233                                      NaN                  NaN      NaN   \n102234                                      NaN                  NaN      NaN   \n102235                                      NaN                  NaN      NaN   \n102236                                      NaN                  NaN      NaN   \n102237                                      NaN                  NaN      NaN   \n\n           slotavg     pointTitle  \n0         0.525050  Chilled Water  \n1        24.475000       Electric  \n2       392.389875          Steam  \n3         0.489438  Chilled Water  \n4        24.850000       Electric  \n...            ...            ...  \n102233         NaN            NaN  \n102234         NaN            NaN  \n102235         NaN            NaN  \n102236         NaN            NaN  \n102237         NaN            NaN  \n\n[102238 rows x 5 columns]",
      "text/html": "<div>\n<style scoped>\n    .dataframe tbody tr th:only-of-type {\n        vertical-align: middle;\n    }\n\n    .dataframe tbody tr th {\n        vertical-align: top;\n    }\n\n    .dataframe thead th {\n        text-align: right;\n    }\n</style>\n<table border=\"1\" class=\"dataframe\">\n  <thead>\n    <tr style=\"text-align: right;\">\n      <th></th>\n      <th>name</th>\n      <th>slottime_GMT</th>\n      <th>slottype</th>\n      <th>slotavg</th>\n      <th>pointTitle</th>\n    </tr>\n  </thead>\n  <tbody>\n    <tr>\n      <th>0</th>\n      <td>CarpenterHall.CW.FP/TONS</td>\n      <td>2016-01-01 00:00:00</td>\n      <td>H</td>\n      <td>0.525050</td>\n      <td>Chilled Water</td>\n    </tr>\n    <tr>\n      <th>1</th>\n      <td>CarpenterHall.Elec.PowerScout3/kWsystem</td>\n      <td>2016-01-01 00:00:00</td>\n      <td>H</td>\n      <td>24.475000</td>\n      <td>Electric</td>\n    </tr>\n    <tr>\n      <th>2</th>\n      <td>CarpenterHall.STM.M22-V/AverageMassFlow</td>\n      <td>2016-01-01 00:00:00</td>\n      <td>H</td>\n      <td>392.389875</td>\n      <td>Steam</td>\n    </tr>\n    <tr>\n      <th>3</th>\n      <td>CarpenterHall.CW.FP/TONS</td>\n      <td>2016-01-01 01:00:00</td>\n      <td>H</td>\n      <td>0.489438</td>\n      <td>Chilled Water</td>\n    </tr>\n    <tr>\n      <th>4</th>\n      <td>CarpenterHall.Elec.PowerScout3/kWsystem</td>\n      <td>2016-01-01 01:00:00</td>\n      <td>H</td>\n      <td>24.850000</td>\n      <td>Electric</td>\n    </tr>\n    <tr>\n      <th>...</th>\n      <td>...</td>\n      <td>...</td>\n      <td>...</td>\n      <td>...</td>\n      <td>...</td>\n    </tr>\n    <tr>\n      <th>102233</th>\n      <td>NaN</td>\n      <td>NaN</td>\n      <td>NaN</td>\n      <td>NaN</td>\n      <td>NaN</td>\n    </tr>\n    <tr>\n      <th>102234</th>\n      <td>NaN</td>\n      <td>NaN</td>\n      <td>NaN</td>\n      <td>NaN</td>\n      <td>NaN</td>\n    </tr>\n    <tr>\n      <th>102235</th>\n      <td>NaN</td>\n      <td>NaN</td>\n      <td>NaN</td>\n      <td>NaN</td>\n      <td>NaN</td>\n    </tr>\n    <tr>\n      <th>102236</th>\n      <td>NaN</td>\n      <td>NaN</td>\n      <td>NaN</td>\n      <td>NaN</td>\n      <td>NaN</td>\n    </tr>\n    <tr>\n      <th>102237</th>\n      <td>NaN</td>\n      <td>NaN</td>\n      <td>NaN</td>\n      <td>NaN</td>\n      <td>NaN</td>\n    </tr>\n  </tbody>\n</table>\n<p>102238 rows × 5 columns</p>\n</div>"
     },
     "execution_count": 19,
     "metadata": {},
     "output_type": "execute_result"
    }
   ],
   "source": [
    "# Load data from CSV files\n",
    "carpenter_data = pd.read_csv(\"../Cornell_Energy_Raw/Carpenter.csv\")\n",
    "carpenter_data"
   ],
   "metadata": {
    "collapsed": false,
    "pycharm": {
     "name": "#%%\n"
    }
   }
  },
  {
   "cell_type": "code",
   "execution_count": 20,
   "outputs": [],
   "source": [
    "filt_chilled_water = carpenter_data['pointTitle'] == 'Chilled Water'\n",
    "frame_chilled_water = carpenter_data[filt_chilled_water]\n",
    "frame_chilled_water.reset_index(inplace=True)\n",
    "frame_chilled_water = frame_chilled_water.drop('index', axis=1)\n",
    "frame_chilled_water['slottime_GMT'] = pd.to_datetime(frame_chilled_water['slottime_GMT'], format='%Y-%m-%d %H:%M:%S')\n",
    "frame_chilled_water = frame_chilled_water.set_index('slottime_GMT')\n",
    "frame_chilled_water = frame_chilled_water.reindex(pd.date_range(start='1/1/2016', end='1/1/2020', freq='H'), index='slottime_GMT', fill_value=None)\n",
    "frame_chilled_water['slotavg'] = frame_chilled_water['slotavg'].interpolate(method=\"linear\")"
   ],
   "metadata": {
    "collapsed": false,
    "pycharm": {
     "name": "#%%\n"
    }
   }
  },
  {
   "cell_type": "code",
   "execution_count": 21,
   "outputs": [
    {
     "data": {
      "text/plain": "([<matplotlib.axis.XTick at 0x134523280>,\n  <matplotlib.axis.XTick at 0x134523250>,\n  <matplotlib.axis.XTick at 0x13453d040>,\n  <matplotlib.axis.XTick at 0x13454a970>],\n [Text(16953.0, 0, '2016'),\n  Text(17318.0, 0, '2017'),\n  Text(17683.0, 0, '2018'),\n  Text(18048.0, 0, '2019')])"
     },
     "execution_count": 21,
     "metadata": {},
     "output_type": "execute_result"
    },
    {
     "data": {
      "text/plain": "<Figure size 432x288 with 1 Axes>",
      "image/png": "[encoded data removed]"
     },
     "metadata": {
      "needs_background": "light"
     },
     "output_type": "display_data"
    }
   ],
   "source": [
    "slottime = frame_chilled_water.index\n",
    "slotavg = frame_chilled_water.slotavg\n",
    "plt.title('Carpenter Hall Chilled Water Plot')\n",
    "plt.xlabel('Time/year')\n",
    "plt.ylabel('Chilled water flow/ton of refrigeration')\n",
    "plt.plot(slottime, slotavg)\n",
    "plt.xticks(ticks=['2016-06-01 00:00:00','2017-06-01 00:00:00','2018-06-01 00:00:00','2019-06-01 00:00:00'], labels=['2016', '2017', '2018', '2019'])"
   ],
   "metadata": {
    "collapsed": false,
    "pycharm": {
     "name": "#%%\n"
    }
   }
  },
  {
   "cell_type": "code",
   "execution_count": 22,
   "outputs": [],
   "source": [
    "filt_elec = carpenter_data['pointTitle'] == 'Electric'\n",
    "frame_elec= carpenter_data[filt_elec]\n",
    "frame_elec.reset_index(inplace=True)\n",
    "frame_elec = frame_elec.drop('index', axis=1)\n",
    "frame_elec['slottime_GMT'] = pd.to_datetime(frame_elec['slottime_GMT'], format='%Y-%m-%d %H:%M:%S')\n",
    "frame_elec = frame_elec.set_index('slottime_GMT')\n",
    "frame_elec = frame_elec.reindex(pd.date_range(start='1/1/2016', end='1/1/2020', freq='H'), index='slottime_GMT', fill_value=None)\n",
    "frame_elec['slotavg'] = frame_elec['slotavg'].interpolate(method=\"linear\")"
   ],
   "metadata": {
    "collapsed": false,
    "pycharm": {
     "name": "#%%\n"
    }
   }
  },
  {
   "cell_type": "code",
   "execution_count": 23,
   "outputs": [
    {
     "data": {
      "text/plain": "([<matplotlib.axis.XTick at 0x134576c40>,\n  <matplotlib.axis.XTick at 0x134576c10>,\n  <matplotlib.axis.XTick at 0x1345a2f10>,\n  <matplotlib.axis.XTick at 0x1345ae730>],\n [Text(16953.0, 0, '2016'),\n  Text(17318.0, 0, '2017'),\n  Text(17683.0, 0, '2018'),\n  Text(18048.0, 0, '2019')])"
     },
     "execution_count": 23,
     "metadata": {},
     "output_type": "execute_result"
    },
    {
     "data": {
      "text/plain": "<Figure size 432x288 with 1 Axes>",
      "image/png": "[encoded data removed]"
     },
     "metadata": {
      "needs_background": "light"
     },
     "output_type": "display_data"
    }
   ],
   "source": [
    "slottime = frame_elec.index\n",
    "slotavg = frame_elec.slotavg\n",
    "plt.title('Carpenter Hall Electricity Plot')\n",
    "plt.xlabel('Time/year')\n",
    "plt.ylabel('MW')\n",
    "plt.plot(slottime, slotavg)\n",
    "plt.xticks(ticks=['2016-06-01 00:00:00','2017-06-01 00:00:00','2018-06-01 00:00:00','2019-06-01 00:00:00'], labels=['2016', '2017', '2018', '2019'])"
   ],
   "metadata": {
    "collapsed": false,
    "pycharm": {
     "name": "#%%\n"
    }
   }
  },
  {
   "cell_type": "code",
   "execution_count": 24,
   "outputs": [],
   "source": [
    "filt_steam = carpenter_data['pointTitle'] == 'Steam'\n",
    "frame_steam = carpenter_data[filt_steam]\n",
    "frame_steam.reset_index(inplace=True)\n",
    "frame_steam = frame_steam.drop('index', axis=1)\n",
    "frame_steam['slottime_GMT'] = pd.to_datetime(frame_steam['slottime_GMT'], format='%Y-%m-%d %H:%M:%S')\n",
    "frame_steam = frame_steam.set_index('slottime_GMT')\n",
    "frame_steam = frame_steam.reindex(pd.date_range(start='1/1/2016', end='1/1/2020', freq='H'), index='slottime_GMT', fill_value=None)\n",
    "frame_steam['slotavg'] = frame_steam['slotavg'].interpolate(method=\"linear\")"
   ],
   "metadata": {
    "collapsed": false,
    "pycharm": {
     "name": "#%%\n"
    }
   }
  },
  {
   "cell_type": "code",
   "execution_count": 25,
   "outputs": [
    {
     "data": {
      "text/plain": "([<matplotlib.axis.XTick at 0x1345ddc10>,\n  <matplotlib.axis.XTick at 0x1345ddbe0>,\n  <matplotlib.axis.XTick at 0x13455ea60>,\n  <matplotlib.axis.XTick at 0x1345f80a0>],\n [Text(16953.0, 0, '2016'),\n  Text(17318.0, 0, '2017'),\n  Text(17683.0, 0, '2018'),\n  Text(18048.0, 0, '2019')])"
     },
     "execution_count": 25,
     "metadata": {},
     "output_type": "execute_result"
    },
    {
     "data": {
      "text/plain": "<Figure size 432x288 with 1 Axes>",
      "image/png": "[encoded data removed]"
     },
     "metadata": {
      "needs_background": "light"
     },
     "output_type": "display_data"
    }
   ],
   "source": [
    "slottime = frame_steam.index\n",
    "slotavg = frame_steam.slotavg\n",
    "plt.title('Carpenter Hall Steam Plot')\n",
    "plt.xlabel('Time/year')\n",
    "plt.ylabel('Kilo pounds per hour')\n",
    "plt.plot(slottime, slotavg)\n",
    "plt.xticks(ticks=['2016-06-01 00:00:00','2017-06-01 00:00:00','2018-06-01 00:00:00','2019-06-01 00:00:00'], labels=['2016', '2017', '2018', '2019'])"
   ],
   "metadata": {
    "collapsed": false,
    "pycharm": {
     "name": "#%%\n"
    }
   }
  },
  {
   "cell_type": "code",
   "execution_count": 26,
   "outputs": [],
   "source": [
    "from pandas.tseries.holiday import USFederalHolidayCalendar as calendar\n",
    "cal = calendar()\n",
    "holidays = cal.holidays(start=frame_elec.index.min(), end=frame_elec.index.max())"
   ],
   "metadata": {
    "collapsed": false,
    "pycharm": {
     "name": "#%%\n"
    }
   }
  },
  {
   "cell_type": "code",
   "execution_count": 27,
   "outputs": [],
   "source": [
    "winter_break_16_start = pd.date_range('01/01/2016', '01/25/2016', freq='D')\n",
    "winter_break_16_end = pd.date_range('12/17/2016', '12/31/2016', freq='D')\n",
    "winter_break_17_start = pd.date_range('01/01/2017', '01/24/2017', freq='D')\n",
    "winter_break_17_end = pd.date_range('12/20/2017', '12/31/2017', freq='D')\n",
    "winter_break_18_start = pd.date_range('01/01/2018', '02/01/2018', freq='D')\n",
    "winter_break_18_end = pd.date_range('12/20/2018', '12/31/2018', freq='D')\n",
    "winter_break_19_start = pd.date_range('01/01/2019', '02/01/2019', freq='D')\n",
    "winter_break_19_end = pd.date_range('12/20/2019', '12/31/2019', freq='D')\n",
    "winter_breaks = winter_break_16_start.union(winter_break_16_end).union(winter_break_17_start).union(winter_break_18_start).union(winter_break_18_end).union(winter_break_19_start).union(winter_break_19_end)\n",
    "\n",
    "fall_break_16 = pd.date_range('10/08/2016', '10/11/2016', freq='D')\n",
    "fall_break_17 = pd.date_range('10/07/2017', '10/10/2017', freq='D')\n",
    "fall_break_18 = pd.date_range('10/06/2018', '10/09/2018', freq='D')\n",
    "fall_break_19 = pd.date_range('10/12/2019', '10/15/2019', freq='D')\n",
    "fall_breaks = fall_break_16.union(fall_break_17).union(fall_break_18).union(fall_break_19)\n",
    "\n",
    "thx_giving_16 = pd.date_range('11/23/2016', '11/27/2016', freq='D')\n",
    "thx_giving_17 = pd.date_range('11/22/2017', '11/26/2017', freq='D')\n",
    "thx_giving_18 = pd.date_range('11/21/2018', '11/25/2018', freq='D')\n",
    "thx_giving_19 = pd.date_range('11/27/2019', '12/01/2019', freq='D')\n",
    "thx_givings = thx_giving_16.union(thx_giving_17).union(thx_giving_18).union(thx_giving_19)\n",
    "\n",
    "feb_break_16 = pd.date_range('02/13/2016', '02/16/2016', freq='D')\n",
    "feb_break_17 = pd.date_range('02/18/2017', '02/21/2017', freq='D')\n",
    "feb_break_18 = pd.date_range('02/17/2018', '02/20/2018', freq='D')\n",
    "feb_break_19 = pd.date_range('02/23/2019', '02/26/2019', freq='D')\n",
    "feb_breaks = feb_break_16.union(feb_break_17).union(feb_break_18).union(feb_break_19)\n",
    "\n",
    "sp_break_16 = pd.date_range('03/26/2016', '04/03/2016', freq='D')\n",
    "sp_break_17 = pd.date_range('04/01/2017', '04/09/2017', freq='D')\n",
    "sp_break_18 = pd.date_range('03/31/2018', '04/08/2018', freq='D')\n",
    "sp_break_19 = pd.date_range('03/30/2019', '04/07/2019', freq='D')\n",
    "sp_breaks = sp_break_16.union(sp_break_17).union(sp_break_18).union(sp_break_19)"
   ],
   "metadata": {
    "collapsed": false,
    "pycharm": {
     "name": "#%%\n"
    }
   }
  },
  {
   "cell_type": "code",
   "execution_count": 28,
   "outputs": [],
   "source": [
    "from pandas.tseries.holiday import AbstractHolidayCalendar, nearest_workday, Holiday, USFederalHolidayCalendar\n",
    "from pandas.tseries.offsets import CustomBusinessDay\n",
    "\n",
    "class CornellHolidayCalendar(AbstractHolidayCalendar):\n",
    "    \"\"\"\n",
    "    Cornell University Holiday Calendar based on Cornell University academic calendars\n",
    "    \"\"\"\n",
    "    rules = [fall_breaks, thx_givings, winter_breaks, feb_breaks, sp_breaks]\n",
    "\n",
    "cornell_holiday_calendar = CustomBusinessDay(holidays=[*sp_breaks, *winter_breaks, *feb_breaks, *fall_breaks, *thx_givings])\n",
    "cornell_workdays_series = pd.date_range(start=\"01/01/2016\", end=\"12/31/2019\", freq=cornell_holiday_calendar).to_series()\n",
    "cornell_workdays = cornell_workdays_series.dt.dayofweek"
   ],
   "metadata": {
    "collapsed": false,
    "pycharm": {
     "name": "#%%\n"
    }
   }
  },
  {
   "cell_type": "code",
   "execution_count": 29,
   "outputs": [],
   "source": [
    "def build_cornell_calendar(input_workdays):\n",
    "    weekdays = []\n",
    "    for date in pd.date_range('01/01/2016', '12/31/2019', freq='D'):\n",
    "        if date not in input_workdays:\n",
    "            if date.day_of_week == 5 or date.day_of_week == 6:\n",
    "                weekdays.append(24*[date.day_of_week+1])\n",
    "            else:\n",
    "                weekdays.append(24*[8])\n",
    "        else:\n",
    "            weekdays.append(24*[input_workdays[date]+1])\n",
    "    return weekdays\n",
    "\n",
    "cornell_calender = build_cornell_calendar(cornell_workdays)\n",
    "whole_cornell_calender = flatten_list = [j for sub in cornell_calender for j in sub]"
   ],
   "metadata": {
    "collapsed": false,
    "pycharm": {
     "name": "#%%\n"
    }
   }
  },
  {
   "cell_type": "code",
   "execution_count": 30,
   "outputs": [],
   "source": [
    "Month = pd.date_range(start='1/1/2016', end='1/1/2020', freq='H').month\n",
    "Hour = pd.date_range(start='1/1/2016', end='1/1/2020', freq='H').hour\n",
    "\n",
    "daylight_saving_16 = pd.date_range(start=\"03/13/2016\", end=\"11/06/2016\", freq='D')\n",
    "daylight_saving_17 = pd.date_range(start=\"03/12/2017\", end=\"11/05/2017\", freq='D')\n",
    "daylight_saving_18 = pd.date_range(start=\"03/11/2018\", end=\"11/04/2018\", freq='D')\n",
    "daylight_saving_19 = pd.date_range(start=\"03/10/2019\", end=\"11/03/2019\", freq='D')\n",
    "\n",
    "year_16 = pd.date_range(start=\"01/01/2016\", end=\"12/31/2016\", freq='D')\n",
    "year_17 = pd.date_range(start=\"01/01/2017\", end=\"12/31/2017\", freq='D')\n",
    "year_18 = pd.date_range(start=\"01/01/2018\", end=\"12/31/2018\", freq='D')\n",
    "year_19 = pd.date_range(start=\"01/01/2019\", end=\"12/31/2019\", freq='D')"
   ],
   "metadata": {
    "collapsed": false,
    "pycharm": {
     "name": "#%%\n"
    }
   }
  },
  {
   "cell_type": "code",
   "execution_count": 31,
   "outputs": [],
   "source": [
    "def build_daylight_saving_flag(daylight_saving_year, year):\n",
    "    res = []\n",
    "    for day in year:\n",
    "        if day in daylight_saving_year:\n",
    "            res.append(24*[1])\n",
    "        else:\n",
    "            res.append(24*[0])\n",
    "    return res\n",
    "\n",
    "daylight_saving_f16 = build_daylight_saving_flag(daylight_saving_16, year_16)\n",
    "daylight_saving_f17 = build_daylight_saving_flag(daylight_saving_17, year_17)\n",
    "daylight_saving_f18 = build_daylight_saving_flag(daylight_saving_18, year_18)\n",
    "daylight_saving_f19 = build_daylight_saving_flag(daylight_saving_19, year_19)"
   ],
   "metadata": {
    "collapsed": false,
    "pycharm": {
     "name": "#%%\n"
    }
   }
  },
  {
   "cell_type": "code",
   "execution_count": 32,
   "outputs": [],
   "source": [
    "build3_data = pd.read_csv(\"../Climate_Zone_5/Building_3.csv\")\n",
    "indoor_temp = build3_data['Indoor Temperature [C]']\n",
    "relative_humidity = build3_data['Indoor Relative Humidity [%]']\n",
    "avg_unmet_cooling_setpnt_diff = build3_data['Average Unmet Cooling Setpoint Difference [C]']\n",
    "\n",
    "indoor_temp = np.array(indoor_temp)\n",
    "relative_humidity = np.array(relative_humidity)\n",
    "avg_unmet_cooling_setpnt_diff = np.array(avg_unmet_cooling_setpnt_diff)"
   ],
   "metadata": {
    "collapsed": false,
    "pycharm": {
     "name": "#%%\n"
    }
   }
  },
  {
   "cell_type": "code",
   "execution_count": 33,
   "outputs": [],
   "source": [
    "building_thermal = {'indoor temperature': indoor_temp, 'indoor relative humidity': relative_humidity, 'avg unmet cooling setpnt diff': avg_unmet_cooling_setpnt_diff}\n",
    "df_build_therm = pd.DataFrame(data=building_thermal, index=pd.date_range(start='1/1/2016', end='2019-12-30 23:00', freq='H'))\n",
    "\n",
    "new_df_build_therm = df_build_therm.reindex(index=pd.date_range(start='1/1/2016', end='1/1/2020', freq='H'), fill_value=None)\n",
    "new_df_build_therm = new_df_build_therm.interpolate()"
   ],
   "metadata": {
    "collapsed": false,
    "pycharm": {
     "name": "#%%\n"
    }
   }
  },
  {
   "cell_type": "code",
   "execution_count": 34,
   "outputs": [],
   "source": [
    "Month = np.array(Month[:-1])\n",
    "Hour = np.array(Hour[:-1])\n",
    "Day_Type = pd.Series(whole_cornell_calender)\n",
    "daylight_saving_f1617 = np.append(daylight_saving_f16, daylight_saving_f17)\n",
    "daylight_saving_f1819 = np.append(daylight_saving_f18, daylight_saving_f19)\n",
    "Daylight_Savings_Status = np.append(daylight_saving_f1617, daylight_saving_f1819)\n",
    "Indoor_Temperature = new_df_build_therm['indoor temperature']\n",
    "Average_Unmet_Cooling_Setpoint_Difference = new_df_build_therm['avg unmet cooling setpnt diff']\n",
    "Indoor_Relative_Humidity = new_df_build_therm['indoor relative humidity']\n",
    "Equipment_Electric_Power = frame_elec.slotavg[:-1]\n",
    "DHW_Heating = frame_steam.slotavg[:-1]*3.53/2.2\n",
    "Cooling_Load = frame_chilled_water.slotavg[:-1]*3.51685\n",
    "\n",
    "Carpenter_DataFrame = {\"Month\": Month, \"Hour\": Hour, \"Day Type\": Day_Type, \"Daylight Savings Status\": Daylight_Savings_Status, \"Indoor Temperature [C]\": Indoor_Temperature[:-1].values, \"Average Unmet Cooling Setpoint Difference [C]\": Average_Unmet_Cooling_Setpoint_Difference[:-1].values, \"Indoor Relative Humidity [%]\": Indoor_Relative_Humidity[:-1].values, \"Equipment Electric Power [kWh]\": Equipment_Electric_Power.values, \"DHW Heating [kWh]\": DHW_Heating.values, \"Cooling Load [kWh]\": Cooling_Load.values}\n",
    "Carpenter_DataFrame = pd.DataFrame(Carpenter_DataFrame)\n",
    "Carpenter_DataFrame.fillna(0.)\n",
    "Carpenter_DataFrame.to_csv(\"processed/CarpenterHall.csv\", index=False)"
   ],
   "metadata": {
    "collapsed": false,
    "pycharm": {
     "name": "#%%\n"
    }
   }
  },
  {
   "cell_type": "code",
   "execution_count": null,
   "outputs": [],
   "source": [],
   "metadata": {
    "collapsed": false,
    "pycharm": {
     "name": "#%%\n",
     "is_executing": true
    }
   }
  }
 ],
 "metadata": {
  "kernelspec": {
   "display_name": "Python 3",
   "language": "python",
   "name": "python3"
  },
  "language_info": {
   "codemirror_mode": {
    "name": "ipython",
    "version": 2
   },
   "file_extension": ".py",
   "mimetype": "text/x-python",
   "name": "python",
   "nbconvert_exporter": "python",
   "pygments_lexer": "ipython2",
   "version": "2.7.6"
  }
 },
 "nbformat": 4,
 "nbformat_minor": 0
}