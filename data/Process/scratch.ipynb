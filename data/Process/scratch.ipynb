{
 "cells": [
  {
   "cell_type": "code",
   "execution_count": 1,
   "metadata": {
    "collapsed": true,
    "pycharm": {
     "name": "#%%\n"
    }
   },
   "outputs": [],
   "source": [
    "import numpy as np\n",
    "import pandas as pd\n",
    "from matplotlib import pyplot as plt"
   ]
  },
  {
   "cell_type": "code",
   "execution_count": 2,
   "outputs": [
    {
     "data": {
      "text/plain": "DatetimeIndex(['2016-01-01 00:00:00', '2016-01-01 01:00:00',\n               '2016-01-01 02:00:00', '2016-01-01 03:00:00',\n               '2016-01-01 04:00:00', '2016-01-01 05:00:00',\n               '2016-01-01 06:00:00', '2016-01-01 07:00:00',\n               '2016-01-01 08:00:00', '2016-01-01 09:00:00',\n               ...\n               '2019-12-30 15:00:00', '2019-12-30 16:00:00',\n               '2019-12-30 17:00:00', '2019-12-30 18:00:00',\n               '2019-12-30 19:00:00', '2019-12-30 20:00:00',\n               '2019-12-30 21:00:00', '2019-12-30 22:00:00',\n               '2019-12-30 23:00:00', '2019-12-31 00:00:00'],\n              dtype='datetime64[ns]', length=35041, freq='H')"
     },
     "execution_count": 2,
     "metadata": {},
     "output_type": "execute_result"
    }
   ],
   "source": [
    "pd.date_range(start='1/1/2016', end='12/31/2019', freq='H')"
   ],
   "metadata": {
    "collapsed": false,
    "pycharm": {
     "name": "#%%\n"
    }
   }
  },
  {
   "cell_type": "code",
   "execution_count": 3,
   "outputs": [
    {
     "data": {
      "text/plain": "                                             name         slottime_GMT  \\\n0                             BakerLab.CW.FP/TONS  2016-01-01 00:00:00   \n1       BakerLab.Elec.North.PowerScout3/kW_System  2016-01-01 00:00:00   \n2       BakerLab.Elec.South.PowerScout3/kW_System  2016-01-01 00:00:00   \n3                               BakerLab.STM.Flow  2016-01-01 00:00:00   \n4                             BakerLab.CW.FP/TONS  2016-01-01 01:00:00   \n...                                           ...                  ...   \n137651                          BakerLab.STM.Flow  2019-12-31 22:00:00   \n137652                        BakerLab.CW.FP/TONS  2019-12-31 23:00:00   \n137653  BakerLab.Elec.North.PowerScout3/kW_System  2019-12-31 23:00:00   \n137654  BakerLab.Elec.South.PowerScout3/kW_System  2019-12-31 23:00:00   \n137655                          BakerLab.STM.Flow  2019-12-31 23:00:00   \n\n       slottype     slotavg      pointTitle  \n0             H   15.218050   Chilled Water  \n1             H  155.650000  North Electric  \n2             H  100.575000  South Electric  \n3             H    3.078228           Steam  \n4             H   15.561300   Chilled Water  \n...         ...         ...             ...  \n137651        H    3.259005           Steam  \n137652        H   15.123000   Chilled Water  \n137653        H  138.525000  North Electric  \n137654        H   87.300000  South Electric  \n137655        H    3.031413           Steam  \n\n[137656 rows x 5 columns]",
      "text/html": "<div>\n<style scoped>\n    .dataframe tbody tr th:only-of-type {\n        vertical-align: middle;\n    }\n\n    .dataframe tbody tr th {\n        vertical-align: top;\n    }\n\n    .dataframe thead th {\n        text-align: right;\n    }\n</style>\n<table border=\"1\" class=\"dataframe\">\n  <thead>\n    <tr style=\"text-align: right;\">\n      <th></th>\n      <th>name</th>\n      <th>slottime_GMT</th>\n      <th>slottype</th>\n      <th>slotavg</th>\n      <th>pointTitle</th>\n    </tr>\n  </thead>\n  <tbody>\n    <tr>\n      <th>0</th>\n      <td>BakerLab.CW.FP/TONS</td>\n      <td>2016-01-01 00:00:00</td>\n      <td>H</td>\n      <td>15.218050</td>\n      <td>Chilled Water</td>\n    </tr>\n    <tr>\n      <th>1</th>\n      <td>BakerLab.Elec.North.PowerScout3/kW_System</td>\n      <td>2016-01-01 00:00:00</td>\n      <td>H</td>\n      <td>155.650000</td>\n      <td>North Electric</td>\n    </tr>\n    <tr>\n      <th>2</th>\n      <td>BakerLab.Elec.South.PowerScout3/kW_System</td>\n      <td>2016-01-01 00:00:00</td>\n      <td>H</td>\n      <td>100.575000</td>\n      <td>South Electric</td>\n    </tr>\n    <tr>\n      <th>3</th>\n      <td>BakerLab.STM.Flow</td>\n      <td>2016-01-01 00:00:00</td>\n      <td>H</td>\n      <td>3.078228</td>\n      <td>Steam</td>\n    </tr>\n    <tr>\n      <th>4</th>\n      <td>BakerLab.CW.FP/TONS</td>\n      <td>2016-01-01 01:00:00</td>\n      <td>H</td>\n      <td>15.561300</td>\n      <td>Chilled Water</td>\n    </tr>\n    <tr>\n      <th>...</th>\n      <td>...</td>\n      <td>...</td>\n      <td>...</td>\n      <td>...</td>\n      <td>...</td>\n    </tr>\n    <tr>\n      <th>137651</th>\n      <td>BakerLab.STM.Flow</td>\n      <td>2019-12-31 22:00:00</td>\n      <td>H</td>\n      <td>3.259005</td>\n      <td>Steam</td>\n    </tr>\n    <tr>\n      <th>137652</th>\n      <td>BakerLab.CW.FP/TONS</td>\n      <td>2019-12-31 23:00:00</td>\n      <td>H</td>\n      <td>15.123000</td>\n      <td>Chilled Water</td>\n    </tr>\n    <tr>\n      <th>137653</th>\n      <td>BakerLab.Elec.North.PowerScout3/kW_System</td>\n      <td>2019-12-31 23:00:00</td>\n      <td>H</td>\n      <td>138.525000</td>\n      <td>North Electric</td>\n    </tr>\n    <tr>\n      <th>137654</th>\n      <td>BakerLab.Elec.South.PowerScout3/kW_System</td>\n      <td>2019-12-31 23:00:00</td>\n      <td>H</td>\n      <td>87.300000</td>\n      <td>South Electric</td>\n    </tr>\n    <tr>\n      <th>137655</th>\n      <td>BakerLab.STM.Flow</td>\n      <td>2019-12-31 23:00:00</td>\n      <td>H</td>\n      <td>3.031413</td>\n      <td>Steam</td>\n    </tr>\n  </tbody>\n</table>\n<p>137656 rows × 5 columns</p>\n</div>"
     },
     "execution_count": 3,
     "metadata": {},
     "output_type": "execute_result"
    }
   ],
   "source": [
    "# Load data from CSV files\n",
    "baker_data = pd.read_csv(\"../Cornell/BakerLab.csv\")\n",
    "baker_data"
   ],
   "metadata": {
    "collapsed": false,
    "pycharm": {
     "name": "#%%\n"
    }
   }
  },
  {
   "cell_type": "code",
   "execution_count": 62,
   "outputs": [],
   "source": [
    "filt_chilled_water = baker_data['pointTitle'] == 'Chilled Water'"
   ],
   "metadata": {
    "collapsed": false,
    "pycharm": {
     "name": "#%%\n"
    }
   }
  },
  {
   "cell_type": "code",
   "execution_count": 63,
   "outputs": [],
   "source": [
    "frame_chilled_water = baker_data[filt_chilled_water]\n",
    "frame_chilled_water.reset_index(inplace=True)"
   ],
   "metadata": {
    "collapsed": false,
    "pycharm": {
     "name": "#%%\n"
    }
   }
  },
  {
   "cell_type": "code",
   "execution_count": 64,
   "outputs": [],
   "source": [
    "frame_chilled_water = frame_chilled_water.drop('index', axis=1)"
   ],
   "metadata": {
    "collapsed": false,
    "pycharm": {
     "name": "#%%\n"
    }
   }
  },
  {
   "cell_type": "code",
   "execution_count": 69,
   "outputs": [],
   "source": [
    "frame_chilled_water['slottime_GMT'] = pd.to_datetime(frame_chilled_water['slottime_GMT'], format='%Y-%m-%d %H:%M:%S')"
   ],
   "metadata": {
    "collapsed": false,
    "pycharm": {
     "name": "#%%\n"
    }
   }
  },
  {
   "cell_type": "code",
   "execution_count": 72,
   "outputs": [],
   "source": [
    "frame_chilled_water = frame_chilled_water.set_index('slottime_GMT')"
   ],
   "metadata": {
    "collapsed": false,
    "pycharm": {
     "name": "#%%\n"
    }
   }
  },
  {
   "cell_type": "code",
   "execution_count": 73,
   "outputs": [
    {
     "data": {
      "text/plain": "                                    name slottype    slotavg     pointTitle\n2016-01-01 00:00:00  BakerLab.CW.FP/TONS        H  15.218050  Chilled Water\n2016-01-01 01:00:00  BakerLab.CW.FP/TONS        H  15.561300  Chilled Water\n2016-01-01 02:00:00  BakerLab.CW.FP/TONS        H  15.639050  Chilled Water\n2016-01-01 03:00:00  BakerLab.CW.FP/TONS        H  15.192375  Chilled Water\n2016-01-01 04:00:00  BakerLab.CW.FP/TONS        H  15.248625  Chilled Water\n...                                  ...      ...        ...            ...\n2019-12-31 20:00:00  BakerLab.CW.FP/TONS        H  15.227400  Chilled Water\n2019-12-31 21:00:00  BakerLab.CW.FP/TONS        H  15.093750  Chilled Water\n2019-12-31 22:00:00  BakerLab.CW.FP/TONS        H  14.913050  Chilled Water\n2019-12-31 23:00:00  BakerLab.CW.FP/TONS        H  15.123000  Chilled Water\n2020-01-01 00:00:00                    0        0   0.000000              0\n\n[35065 rows x 4 columns]",
      "text/html": "<div>\n<style scoped>\n    .dataframe tbody tr th:only-of-type {\n        vertical-align: middle;\n    }\n\n    .dataframe tbody tr th {\n        vertical-align: top;\n    }\n\n    .dataframe thead th {\n        text-align: right;\n    }\n</style>\n<table border=\"1\" class=\"dataframe\">\n  <thead>\n    <tr style=\"text-align: right;\">\n      <th></th>\n      <th>name</th>\n      <th>slottype</th>\n      <th>slotavg</th>\n      <th>pointTitle</th>\n    </tr>\n  </thead>\n  <tbody>\n    <tr>\n      <th>2016-01-01 00:00:00</th>\n      <td>BakerLab.CW.FP/TONS</td>\n      <td>H</td>\n      <td>15.218050</td>\n      <td>Chilled Water</td>\n    </tr>\n    <tr>\n      <th>2016-01-01 01:00:00</th>\n      <td>BakerLab.CW.FP/TONS</td>\n      <td>H</td>\n      <td>15.561300</td>\n      <td>Chilled Water</td>\n    </tr>\n    <tr>\n      <th>2016-01-01 02:00:00</th>\n      <td>BakerLab.CW.FP/TONS</td>\n      <td>H</td>\n      <td>15.639050</td>\n      <td>Chilled Water</td>\n    </tr>\n    <tr>\n      <th>2016-01-01 03:00:00</th>\n      <td>BakerLab.CW.FP/TONS</td>\n      <td>H</td>\n      <td>15.192375</td>\n      <td>Chilled Water</td>\n    </tr>\n    <tr>\n      <th>2016-01-01 04:00:00</th>\n      <td>BakerLab.CW.FP/TONS</td>\n      <td>H</td>\n      <td>15.248625</td>\n      <td>Chilled Water</td>\n    </tr>\n    <tr>\n      <th>...</th>\n      <td>...</td>\n      <td>...</td>\n      <td>...</td>\n      <td>...</td>\n    </tr>\n    <tr>\n      <th>2019-12-31 20:00:00</th>\n      <td>BakerLab.CW.FP/TONS</td>\n      <td>H</td>\n      <td>15.227400</td>\n      <td>Chilled Water</td>\n    </tr>\n    <tr>\n      <th>2019-12-31 21:00:00</th>\n      <td>BakerLab.CW.FP/TONS</td>\n      <td>H</td>\n      <td>15.093750</td>\n      <td>Chilled Water</td>\n    </tr>\n    <tr>\n      <th>2019-12-31 22:00:00</th>\n      <td>BakerLab.CW.FP/TONS</td>\n      <td>H</td>\n      <td>14.913050</td>\n      <td>Chilled Water</td>\n    </tr>\n    <tr>\n      <th>2019-12-31 23:00:00</th>\n      <td>BakerLab.CW.FP/TONS</td>\n      <td>H</td>\n      <td>15.123000</td>\n      <td>Chilled Water</td>\n    </tr>\n    <tr>\n      <th>2020-01-01 00:00:00</th>\n      <td>0</td>\n      <td>0</td>\n      <td>0.000000</td>\n      <td>0</td>\n    </tr>\n  </tbody>\n</table>\n<p>35065 rows × 4 columns</p>\n</div>"
     },
     "execution_count": 73,
     "metadata": {},
     "output_type": "execute_result"
    }
   ],
   "source": [
    "frame_chilled_water.reindex(pd.date_range(start='1/1/2016', end='1/1/2020', freq='H'), fill_value=0)"
   ],
   "metadata": {
    "collapsed": false,
    "pycharm": {
     "name": "#%%\n"
    }
   }
  },
  {
   "cell_type": "code",
   "execution_count": 70,
   "outputs": [
    {
     "data": {
      "text/plain": "                      name        slottime_GMT slottype    slotavg  \\\n0      BakerLab.CW.FP/TONS 2016-01-01 00:00:00        H  15.218050   \n1      BakerLab.CW.FP/TONS 2016-01-01 01:00:00        H  15.561300   \n2      BakerLab.CW.FP/TONS 2016-01-01 02:00:00        H  15.639050   \n3      BakerLab.CW.FP/TONS 2016-01-01 03:00:00        H  15.192375   \n4      BakerLab.CW.FP/TONS 2016-01-01 04:00:00        H  15.248625   \n...                    ...                 ...      ...        ...   \n33943  BakerLab.CW.FP/TONS 2019-12-31 19:00:00        H  15.292300   \n33944  BakerLab.CW.FP/TONS 2019-12-31 20:00:00        H  15.227400   \n33945  BakerLab.CW.FP/TONS 2019-12-31 21:00:00        H  15.093750   \n33946  BakerLab.CW.FP/TONS 2019-12-31 22:00:00        H  14.913050   \n33947  BakerLab.CW.FP/TONS 2019-12-31 23:00:00        H  15.123000   \n\n          pointTitle  \n0      Chilled Water  \n1      Chilled Water  \n2      Chilled Water  \n3      Chilled Water  \n4      Chilled Water  \n...              ...  \n33943  Chilled Water  \n33944  Chilled Water  \n33945  Chilled Water  \n33946  Chilled Water  \n33947  Chilled Water  \n\n[33948 rows x 5 columns]",
      "text/html": "<div>\n<style scoped>\n    .dataframe tbody tr th:only-of-type {\n        vertical-align: middle;\n    }\n\n    .dataframe tbody tr th {\n        vertical-align: top;\n    }\n\n    .dataframe thead th {\n        text-align: right;\n    }\n</style>\n<table border=\"1\" class=\"dataframe\">\n  <thead>\n    <tr style=\"text-align: right;\">\n      <th></th>\n      <th>name</th>\n      <th>slottime_GMT</th>\n      <th>slottype</th>\n      <th>slotavg</th>\n      <th>pointTitle</th>\n    </tr>\n  </thead>\n  <tbody>\n    <tr>\n      <th>0</th>\n      <td>BakerLab.CW.FP/TONS</td>\n      <td>2016-01-01 00:00:00</td>\n      <td>H</td>\n      <td>15.218050</td>\n      <td>Chilled Water</td>\n    </tr>\n    <tr>\n      <th>1</th>\n      <td>BakerLab.CW.FP/TONS</td>\n      <td>2016-01-01 01:00:00</td>\n      <td>H</td>\n      <td>15.561300</td>\n      <td>Chilled Water</td>\n    </tr>\n    <tr>\n      <th>2</th>\n      <td>BakerLab.CW.FP/TONS</td>\n      <td>2016-01-01 02:00:00</td>\n      <td>H</td>\n      <td>15.639050</td>\n      <td>Chilled Water</td>\n    </tr>\n    <tr>\n      <th>3</th>\n      <td>BakerLab.CW.FP/TONS</td>\n      <td>2016-01-01 03:00:00</td>\n      <td>H</td>\n      <td>15.192375</td>\n      <td>Chilled Water</td>\n    </tr>\n    <tr>\n      <th>4</th>\n      <td>BakerLab.CW.FP/TONS</td>\n      <td>2016-01-01 04:00:00</td>\n      <td>H</td>\n      <td>15.248625</td>\n      <td>Chilled Water</td>\n    </tr>\n    <tr>\n      <th>...</th>\n      <td>...</td>\n      <td>...</td>\n      <td>...</td>\n      <td>...</td>\n      <td>...</td>\n    </tr>\n    <tr>\n      <th>33943</th>\n      <td>BakerLab.CW.FP/TONS</td>\n      <td>2019-12-31 19:00:00</td>\n      <td>H</td>\n      <td>15.292300</td>\n      <td>Chilled Water</td>\n    </tr>\n    <tr>\n      <th>33944</th>\n      <td>BakerLab.CW.FP/TONS</td>\n      <td>2019-12-31 20:00:00</td>\n      <td>H</td>\n      <td>15.227400</td>\n      <td>Chilled Water</td>\n    </tr>\n    <tr>\n      <th>33945</th>\n      <td>BakerLab.CW.FP/TONS</td>\n      <td>2019-12-31 21:00:00</td>\n      <td>H</td>\n      <td>15.093750</td>\n      <td>Chilled Water</td>\n    </tr>\n    <tr>\n      <th>33946</th>\n      <td>BakerLab.CW.FP/TONS</td>\n      <td>2019-12-31 22:00:00</td>\n      <td>H</td>\n      <td>14.913050</td>\n      <td>Chilled Water</td>\n    </tr>\n    <tr>\n      <th>33947</th>\n      <td>BakerLab.CW.FP/TONS</td>\n      <td>2019-12-31 23:00:00</td>\n      <td>H</td>\n      <td>15.123000</td>\n      <td>Chilled Water</td>\n    </tr>\n  </tbody>\n</table>\n<p>33948 rows × 5 columns</p>\n</div>"
     },
     "execution_count": 70,
     "metadata": {},
     "output_type": "execute_result"
    }
   ],
   "source": [
    "frame_chilled_water"
   ],
   "metadata": {
    "collapsed": false,
    "pycharm": {
     "name": "#%%\n"
    }
   }
  },
  {
   "cell_type": "code",
   "execution_count": 2,
   "outputs": [
    {
     "data": {
      "text/plain": "       Month  Hour  Day Type  Daylight Savings Status  Indoor Temperature [C]  \\\n0          1     1       8.0                      0.0                   18.93   \n1          1     2       8.0                      0.0                   18.82   \n2          1     3       8.0                      0.0                   18.76   \n3          1     4       8.0                      0.0                   18.66   \n4          1     5       8.0                      0.0                   18.62   \n...      ...   ...       ...                      ...                     ...   \n35035     12    20       1.0                      0.0                   19.87   \n35036     12    21       1.0                      0.0                   19.68   \n35037     12    22       1.0                      0.0                   19.47   \n35038     12    23       1.0                      0.0                   19.26   \n35039     12    24       1.0                      0.0                   19.06   \n\n       Average Unmet Cooling Setpoint Difference [C]  \\\n0                                                0.0   \n1                                                0.0   \n2                                                0.0   \n3                                                0.0   \n4                                                0.0   \n...                                              ...   \n35035                                            0.0   \n35036                                            0.0   \n35037                                            0.0   \n35038                                            0.0   \n35039                                            0.0   \n\n       Indoor Relative Humidity [%]  Equipment Electric Power [kWh]  \\\n0                             77.92                            9.80   \n1                             77.97                           10.41   \n2                             77.89                           10.39   \n3                             77.74                           10.33   \n4                             77.37                            9.41   \n...                             ...                             ...   \n35035                         40.65                            9.28   \n35036                         40.04                            9.28   \n35037                         39.47                            9.28   \n35038                         39.17                            9.28   \n35039                         38.40                            9.28   \n\n       DHW Heating [kWh]  Cooling Load [kWh]  \n0                    0.0                 0.0  \n1                    0.0                 0.0  \n2                    0.0                 0.0  \n3                    0.0                 0.0  \n4                    0.0                 0.0  \n...                  ...                 ...  \n35035                0.0                 0.0  \n35036                0.0                 0.0  \n35037                0.0                 0.0  \n35038                0.0                 0.0  \n35039                0.0                 0.0  \n\n[35040 rows x 10 columns]",
      "text/html": "<div>\n<style scoped>\n    .dataframe tbody tr th:only-of-type {\n        vertical-align: middle;\n    }\n\n    .dataframe tbody tr th {\n        vertical-align: top;\n    }\n\n    .dataframe thead th {\n        text-align: right;\n    }\n</style>\n<table border=\"1\" class=\"dataframe\">\n  <thead>\n    <tr style=\"text-align: right;\">\n      <th></th>\n      <th>Month</th>\n      <th>Hour</th>\n      <th>Day Type</th>\n      <th>Daylight Savings Status</th>\n      <th>Indoor Temperature [C]</th>\n      <th>Average Unmet Cooling Setpoint Difference [C]</th>\n      <th>Indoor Relative Humidity [%]</th>\n      <th>Equipment Electric Power [kWh]</th>\n      <th>DHW Heating [kWh]</th>\n      <th>Cooling Load [kWh]</th>\n    </tr>\n  </thead>\n  <tbody>\n    <tr>\n      <th>0</th>\n      <td>1</td>\n      <td>1</td>\n      <td>8.0</td>\n      <td>0.0</td>\n      <td>18.93</td>\n      <td>0.0</td>\n      <td>77.92</td>\n      <td>9.80</td>\n      <td>0.0</td>\n      <td>0.0</td>\n    </tr>\n    <tr>\n      <th>1</th>\n      <td>1</td>\n      <td>2</td>\n      <td>8.0</td>\n      <td>0.0</td>\n      <td>18.82</td>\n      <td>0.0</td>\n      <td>77.97</td>\n      <td>10.41</td>\n      <td>0.0</td>\n      <td>0.0</td>\n    </tr>\n    <tr>\n      <th>2</th>\n      <td>1</td>\n      <td>3</td>\n      <td>8.0</td>\n      <td>0.0</td>\n      <td>18.76</td>\n      <td>0.0</td>\n      <td>77.89</td>\n      <td>10.39</td>\n      <td>0.0</td>\n      <td>0.0</td>\n    </tr>\n    <tr>\n      <th>3</th>\n      <td>1</td>\n      <td>4</td>\n      <td>8.0</td>\n      <td>0.0</td>\n      <td>18.66</td>\n      <td>0.0</td>\n      <td>77.74</td>\n      <td>10.33</td>\n      <td>0.0</td>\n      <td>0.0</td>\n    </tr>\n    <tr>\n      <th>4</th>\n      <td>1</td>\n      <td>5</td>\n      <td>8.0</td>\n      <td>0.0</td>\n      <td>18.62</td>\n      <td>0.0</td>\n      <td>77.37</td>\n      <td>9.41</td>\n      <td>0.0</td>\n      <td>0.0</td>\n    </tr>\n    <tr>\n      <th>...</th>\n      <td>...</td>\n      <td>...</td>\n      <td>...</td>\n      <td>...</td>\n      <td>...</td>\n      <td>...</td>\n      <td>...</td>\n      <td>...</td>\n      <td>...</td>\n      <td>...</td>\n    </tr>\n    <tr>\n      <th>35035</th>\n      <td>12</td>\n      <td>20</td>\n      <td>1.0</td>\n      <td>0.0</td>\n      <td>19.87</td>\n      <td>0.0</td>\n      <td>40.65</td>\n      <td>9.28</td>\n      <td>0.0</td>\n      <td>0.0</td>\n    </tr>\n    <tr>\n      <th>35036</th>\n      <td>12</td>\n      <td>21</td>\n      <td>1.0</td>\n      <td>0.0</td>\n      <td>19.68</td>\n      <td>0.0</td>\n      <td>40.04</td>\n      <td>9.28</td>\n      <td>0.0</td>\n      <td>0.0</td>\n    </tr>\n    <tr>\n      <th>35037</th>\n      <td>12</td>\n      <td>22</td>\n      <td>1.0</td>\n      <td>0.0</td>\n      <td>19.47</td>\n      <td>0.0</td>\n      <td>39.47</td>\n      <td>9.28</td>\n      <td>0.0</td>\n      <td>0.0</td>\n    </tr>\n    <tr>\n      <th>35038</th>\n      <td>12</td>\n      <td>23</td>\n      <td>1.0</td>\n      <td>0.0</td>\n      <td>19.26</td>\n      <td>0.0</td>\n      <td>39.17</td>\n      <td>9.28</td>\n      <td>0.0</td>\n      <td>0.0</td>\n    </tr>\n    <tr>\n      <th>35039</th>\n      <td>12</td>\n      <td>24</td>\n      <td>1.0</td>\n      <td>0.0</td>\n      <td>19.06</td>\n      <td>0.0</td>\n      <td>38.40</td>\n      <td>9.28</td>\n      <td>0.0</td>\n      <td>0.0</td>\n    </tr>\n  </tbody>\n</table>\n<p>35040 rows × 10 columns</p>\n</div>"
     },
     "execution_count": 2,
     "metadata": {},
     "output_type": "execute_result"
    }
   ],
   "source": [
    "# Load data from CSV files\n",
    "b1_data = pd.read_csv(\"../Climate_Zone_5/Building_1.csv\")\n",
    "b1_data"
   ],
   "metadata": {
    "collapsed": false,
    "pycharm": {
     "name": "#%%\n"
    }
   }
  },
  {
   "cell_type": "code",
   "execution_count": 7,
   "outputs": [
    {
     "data": {
      "text/plain": "46573.310000000005"
     },
     "execution_count": 7,
     "metadata": {},
     "output_type": "execute_result"
    }
   ],
   "source": [
    "b1_data[\"DHW Heating [kWh]\"].sum()"
   ],
   "metadata": {
    "collapsed": false,
    "pycharm": {
     "name": "#%%\n"
    }
   }
  },
  {
   "cell_type": "code",
   "execution_count": 6,
   "outputs": [
    {
     "ename": "ConversionError",
     "evalue": "Failed to convert value(s) to axis units: ['2016-06-01 00:00:00', '2017-06-01 00:00:00', '2018-06-01 00:00:00', '2019-06-01 00:00:00']",
     "output_type": "error",
     "traceback": [
      "\u001B[0;31m---------------------------------------------------------------------------\u001B[0m",
      "\u001B[0;31mValueError\u001B[0m                                Traceback (most recent call last)",
      "File \u001B[0;32m~/miniforge3/envs/drl/lib/python3.8/site-packages/matplotlib/axis.py:1506\u001B[0m, in \u001B[0;36mAxis.convert_units\u001B[0;34m(self, x)\u001B[0m\n\u001B[1;32m   1505\u001B[0m \u001B[38;5;28;01mtry\u001B[39;00m:\n\u001B[0;32m-> 1506\u001B[0m     ret \u001B[38;5;241m=\u001B[39m \u001B[38;5;28;43mself\u001B[39;49m\u001B[38;5;241;43m.\u001B[39;49m\u001B[43mconverter\u001B[49m\u001B[38;5;241;43m.\u001B[39;49m\u001B[43mconvert\u001B[49m\u001B[43m(\u001B[49m\u001B[43mx\u001B[49m\u001B[43m,\u001B[49m\u001B[43m \u001B[49m\u001B[38;5;28;43mself\u001B[39;49m\u001B[38;5;241;43m.\u001B[39;49m\u001B[43munits\u001B[49m\u001B[43m,\u001B[49m\u001B[43m \u001B[49m\u001B[38;5;28;43mself\u001B[39;49m\u001B[43m)\u001B[49m\n\u001B[1;32m   1507\u001B[0m \u001B[38;5;28;01mexcept\u001B[39;00m \u001B[38;5;167;01mException\u001B[39;00m \u001B[38;5;28;01mas\u001B[39;00m e:\n",
      "File \u001B[0;32m~/miniforge3/envs/drl/lib/python3.8/site-packages/matplotlib/category.py:49\u001B[0m, in \u001B[0;36mStrCategoryConverter.convert\u001B[0;34m(value, unit, axis)\u001B[0m\n\u001B[1;32m     48\u001B[0m \u001B[38;5;28;01mif\u001B[39;00m unit \u001B[38;5;129;01mis\u001B[39;00m \u001B[38;5;28;01mNone\u001B[39;00m:\n\u001B[0;32m---> 49\u001B[0m     \u001B[38;5;28;01mraise\u001B[39;00m \u001B[38;5;167;01mValueError\u001B[39;00m(\n\u001B[1;32m     50\u001B[0m         \u001B[38;5;124m'\u001B[39m\u001B[38;5;124mMissing category information for StrCategoryConverter; \u001B[39m\u001B[38;5;124m'\u001B[39m\n\u001B[1;32m     51\u001B[0m         \u001B[38;5;124m'\u001B[39m\u001B[38;5;124mthis might be caused by unintendedly mixing categorical and \u001B[39m\u001B[38;5;124m'\u001B[39m\n\u001B[1;32m     52\u001B[0m         \u001B[38;5;124m'\u001B[39m\u001B[38;5;124mnumeric data\u001B[39m\u001B[38;5;124m'\u001B[39m)\n\u001B[1;32m     53\u001B[0m StrCategoryConverter\u001B[38;5;241m.\u001B[39m_validate_unit(unit)\n",
      "\u001B[0;31mValueError\u001B[0m: Missing category information for StrCategoryConverter; this might be caused by unintendedly mixing categorical and numeric data",
      "\nThe above exception was the direct cause of the following exception:\n",
      "\u001B[0;31mConversionError\u001B[0m                           Traceback (most recent call last)",
      "Input \u001B[0;32mIn [6]\u001B[0m, in \u001B[0;36m<cell line: 7>\u001B[0;34m()\u001B[0m\n\u001B[1;32m      5\u001B[0m plt\u001B[38;5;241m.\u001B[39mylabel(\u001B[38;5;124m'\u001B[39m\u001B[38;5;124mChilled water flow/ton of refrigeration\u001B[39m\u001B[38;5;124m'\u001B[39m)\n\u001B[1;32m      6\u001B[0m plt\u001B[38;5;241m.\u001B[39mplot(slottime, slotavg)\n\u001B[0;32m----> 7\u001B[0m \u001B[43mplt\u001B[49m\u001B[38;5;241;43m.\u001B[39;49m\u001B[43mxticks\u001B[49m\u001B[43m(\u001B[49m\u001B[43mticks\u001B[49m\u001B[38;5;241;43m=\u001B[39;49m\u001B[43m[\u001B[49m\u001B[38;5;124;43m'\u001B[39;49m\u001B[38;5;124;43m2016-06-01 00:00:00\u001B[39;49m\u001B[38;5;124;43m'\u001B[39;49m\u001B[43m,\u001B[49m\u001B[38;5;124;43m'\u001B[39;49m\u001B[38;5;124;43m2017-06-01 00:00:00\u001B[39;49m\u001B[38;5;124;43m'\u001B[39;49m\u001B[43m,\u001B[49m\u001B[38;5;124;43m'\u001B[39;49m\u001B[38;5;124;43m2018-06-01 00:00:00\u001B[39;49m\u001B[38;5;124;43m'\u001B[39;49m\u001B[43m,\u001B[49m\u001B[38;5;124;43m'\u001B[39;49m\u001B[38;5;124;43m2019-06-01 00:00:00\u001B[39;49m\u001B[38;5;124;43m'\u001B[39;49m\u001B[43m]\u001B[49m\u001B[43m,\u001B[49m\u001B[43m \u001B[49m\u001B[43mlabels\u001B[49m\u001B[38;5;241;43m=\u001B[39;49m\u001B[43m[\u001B[49m\u001B[38;5;124;43m'\u001B[39;49m\u001B[38;5;124;43m2016\u001B[39;49m\u001B[38;5;124;43m'\u001B[39;49m\u001B[43m,\u001B[49m\u001B[43m \u001B[49m\u001B[38;5;124;43m'\u001B[39;49m\u001B[38;5;124;43m2017\u001B[39;49m\u001B[38;5;124;43m'\u001B[39;49m\u001B[43m,\u001B[49m\u001B[43m \u001B[49m\u001B[38;5;124;43m'\u001B[39;49m\u001B[38;5;124;43m2018\u001B[39;49m\u001B[38;5;124;43m'\u001B[39;49m\u001B[43m,\u001B[49m\u001B[43m \u001B[49m\u001B[38;5;124;43m'\u001B[39;49m\u001B[38;5;124;43m2019\u001B[39;49m\u001B[38;5;124;43m'\u001B[39;49m\u001B[43m]\u001B[49m\u001B[43m)\u001B[49m\n",
      "File \u001B[0;32m~/miniforge3/envs/drl/lib/python3.8/site-packages/matplotlib/pyplot.py:1807\u001B[0m, in \u001B[0;36mxticks\u001B[0;34m(ticks, labels, **kwargs)\u001B[0m\n\u001B[1;32m   1804\u001B[0m         \u001B[38;5;28;01mraise\u001B[39;00m \u001B[38;5;167;01mTypeError\u001B[39;00m(\u001B[38;5;124m\"\u001B[39m\u001B[38;5;124mxticks(): Parameter \u001B[39m\u001B[38;5;124m'\u001B[39m\u001B[38;5;124mlabels\u001B[39m\u001B[38;5;124m'\u001B[39m\u001B[38;5;124m can\u001B[39m\u001B[38;5;124m'\u001B[39m\u001B[38;5;124mt be set \u001B[39m\u001B[38;5;124m\"\u001B[39m\n\u001B[1;32m   1805\u001B[0m                         \u001B[38;5;124m\"\u001B[39m\u001B[38;5;124mwithout setting \u001B[39m\u001B[38;5;124m'\u001B[39m\u001B[38;5;124mticks\u001B[39m\u001B[38;5;124m'\u001B[39m\u001B[38;5;124m\"\u001B[39m)\n\u001B[1;32m   1806\u001B[0m \u001B[38;5;28;01melse\u001B[39;00m:\n\u001B[0;32m-> 1807\u001B[0m     locs \u001B[38;5;241m=\u001B[39m \u001B[43max\u001B[49m\u001B[38;5;241;43m.\u001B[39;49m\u001B[43mset_xticks\u001B[49m\u001B[43m(\u001B[49m\u001B[43mticks\u001B[49m\u001B[43m)\u001B[49m\n\u001B[1;32m   1809\u001B[0m \u001B[38;5;28;01mif\u001B[39;00m labels \u001B[38;5;129;01mis\u001B[39;00m \u001B[38;5;28;01mNone\u001B[39;00m:\n\u001B[1;32m   1810\u001B[0m     labels \u001B[38;5;241m=\u001B[39m ax\u001B[38;5;241m.\u001B[39mget_xticklabels()\n",
      "File \u001B[0;32m~/miniforge3/envs/drl/lib/python3.8/site-packages/matplotlib/axes/_base.py:75\u001B[0m, in \u001B[0;36m_axis_method_wrapper.__set_name__.<locals>.wrapper\u001B[0;34m(self, *args, **kwargs)\u001B[0m\n\u001B[1;32m     74\u001B[0m \u001B[38;5;28;01mdef\u001B[39;00m \u001B[38;5;21mwrapper\u001B[39m(\u001B[38;5;28mself\u001B[39m, \u001B[38;5;241m*\u001B[39margs, \u001B[38;5;241m*\u001B[39m\u001B[38;5;241m*\u001B[39mkwargs):\n\u001B[0;32m---> 75\u001B[0m     \u001B[38;5;28;01mreturn\u001B[39;00m \u001B[43mget_method\u001B[49m\u001B[43m(\u001B[49m\u001B[38;5;28;43mself\u001B[39;49m\u001B[43m)\u001B[49m\u001B[43m(\u001B[49m\u001B[38;5;241;43m*\u001B[39;49m\u001B[43margs\u001B[49m\u001B[43m,\u001B[49m\u001B[43m \u001B[49m\u001B[38;5;241;43m*\u001B[39;49m\u001B[38;5;241;43m*\u001B[39;49m\u001B[43mkwargs\u001B[49m\u001B[43m)\u001B[49m\n",
      "File \u001B[0;32m~/miniforge3/envs/drl/lib/python3.8/site-packages/matplotlib/axis.py:1855\u001B[0m, in \u001B[0;36mAxis.set_ticks\u001B[0;34m(self, ticks, labels, minor, **kwargs)\u001B[0m\n\u001B[1;32m   1829\u001B[0m \u001B[38;5;28;01mdef\u001B[39;00m \u001B[38;5;21mset_ticks\u001B[39m(\u001B[38;5;28mself\u001B[39m, ticks, labels\u001B[38;5;241m=\u001B[39m\u001B[38;5;28;01mNone\u001B[39;00m, \u001B[38;5;241m*\u001B[39m, minor\u001B[38;5;241m=\u001B[39m\u001B[38;5;28;01mFalse\u001B[39;00m, \u001B[38;5;241m*\u001B[39m\u001B[38;5;241m*\u001B[39mkwargs):\n\u001B[1;32m   1830\u001B[0m     \u001B[38;5;124;03m\"\"\"\u001B[39;00m\n\u001B[1;32m   1831\u001B[0m \u001B[38;5;124;03m    Set this Axis' tick locations and optionally labels.\u001B[39;00m\n\u001B[1;32m   1832\u001B[0m \n\u001B[0;32m   (...)\u001B[0m\n\u001B[1;32m   1853\u001B[0m \u001B[38;5;124;03m    ticks.\u001B[39;00m\n\u001B[1;32m   1854\u001B[0m \u001B[38;5;124;03m    \"\"\"\u001B[39;00m\n\u001B[0;32m-> 1855\u001B[0m     result \u001B[38;5;241m=\u001B[39m \u001B[38;5;28;43mself\u001B[39;49m\u001B[38;5;241;43m.\u001B[39;49m\u001B[43m_set_tick_locations\u001B[49m\u001B[43m(\u001B[49m\u001B[43mticks\u001B[49m\u001B[43m,\u001B[49m\u001B[43m \u001B[49m\u001B[43mminor\u001B[49m\u001B[38;5;241;43m=\u001B[39;49m\u001B[43mminor\u001B[49m\u001B[43m)\u001B[49m\n\u001B[1;32m   1856\u001B[0m     \u001B[38;5;28;01mif\u001B[39;00m labels \u001B[38;5;129;01mis\u001B[39;00m \u001B[38;5;129;01mnot\u001B[39;00m \u001B[38;5;28;01mNone\u001B[39;00m:\n\u001B[1;32m   1857\u001B[0m         \u001B[38;5;28mself\u001B[39m\u001B[38;5;241m.\u001B[39mset_ticklabels(labels, minor\u001B[38;5;241m=\u001B[39mminor, \u001B[38;5;241m*\u001B[39m\u001B[38;5;241m*\u001B[39mkwargs)\n",
      "File \u001B[0;32m~/miniforge3/envs/drl/lib/python3.8/site-packages/matplotlib/axis.py:1804\u001B[0m, in \u001B[0;36mAxis._set_tick_locations\u001B[0;34m(self, ticks, minor)\u001B[0m\n\u001B[1;32m   1800\u001B[0m \u001B[38;5;28;01mdef\u001B[39;00m \u001B[38;5;21m_set_tick_locations\u001B[39m(\u001B[38;5;28mself\u001B[39m, ticks, \u001B[38;5;241m*\u001B[39m, minor\u001B[38;5;241m=\u001B[39m\u001B[38;5;28;01mFalse\u001B[39;00m):\n\u001B[1;32m   1801\u001B[0m     \u001B[38;5;66;03m# see docstring of set_ticks\u001B[39;00m\n\u001B[1;32m   1802\u001B[0m \n\u001B[1;32m   1803\u001B[0m     \u001B[38;5;66;03m# XXX if the user changes units, the information will be lost here\u001B[39;00m\n\u001B[0;32m-> 1804\u001B[0m     ticks \u001B[38;5;241m=\u001B[39m \u001B[38;5;28;43mself\u001B[39;49m\u001B[38;5;241;43m.\u001B[39;49m\u001B[43mconvert_units\u001B[49m\u001B[43m(\u001B[49m\u001B[43mticks\u001B[49m\u001B[43m)\u001B[49m\n\u001B[1;32m   1805\u001B[0m     \u001B[38;5;28;01mfor\u001B[39;00m name, axis \u001B[38;5;129;01min\u001B[39;00m \u001B[38;5;28mself\u001B[39m\u001B[38;5;241m.\u001B[39maxes\u001B[38;5;241m.\u001B[39m_get_axis_map()\u001B[38;5;241m.\u001B[39mitems():\n\u001B[1;32m   1806\u001B[0m         \u001B[38;5;28;01mif\u001B[39;00m \u001B[38;5;28mself\u001B[39m \u001B[38;5;129;01mis\u001B[39;00m axis:\n",
      "File \u001B[0;32m~/miniforge3/envs/drl/lib/python3.8/site-packages/matplotlib/axis.py:1508\u001B[0m, in \u001B[0;36mAxis.convert_units\u001B[0;34m(self, x)\u001B[0m\n\u001B[1;32m   1506\u001B[0m     ret \u001B[38;5;241m=\u001B[39m \u001B[38;5;28mself\u001B[39m\u001B[38;5;241m.\u001B[39mconverter\u001B[38;5;241m.\u001B[39mconvert(x, \u001B[38;5;28mself\u001B[39m\u001B[38;5;241m.\u001B[39munits, \u001B[38;5;28mself\u001B[39m)\n\u001B[1;32m   1507\u001B[0m \u001B[38;5;28;01mexcept\u001B[39;00m \u001B[38;5;167;01mException\u001B[39;00m \u001B[38;5;28;01mas\u001B[39;00m e:\n\u001B[0;32m-> 1508\u001B[0m     \u001B[38;5;28;01mraise\u001B[39;00m munits\u001B[38;5;241m.\u001B[39mConversionError(\u001B[38;5;124m'\u001B[39m\u001B[38;5;124mFailed to convert value(s) to axis \u001B[39m\u001B[38;5;124m'\u001B[39m\n\u001B[1;32m   1509\u001B[0m                                  \u001B[38;5;124mf\u001B[39m\u001B[38;5;124m'\u001B[39m\u001B[38;5;124munits: \u001B[39m\u001B[38;5;132;01m{\u001B[39;00mx\u001B[38;5;132;01m!r}\u001B[39;00m\u001B[38;5;124m'\u001B[39m) \u001B[38;5;28;01mfrom\u001B[39;00m \u001B[38;5;21;01me\u001B[39;00m\n\u001B[1;32m   1510\u001B[0m \u001B[38;5;28;01mreturn\u001B[39;00m ret\n",
      "\u001B[0;31mConversionError\u001B[0m: Failed to convert value(s) to axis units: ['2016-06-01 00:00:00', '2017-06-01 00:00:00', '2018-06-01 00:00:00', '2019-06-01 00:00:00']"
     ]
    },
    {
     "data": {
      "text/plain": "<Figure size 432x288 with 1 Axes>",
      "image/png": "[encoded data removed]"
     },
     "metadata": {
      "needs_background": "light"
     },
     "output_type": "display_data"
    }
   ],
   "source": [
    "slottime = b1_data.index\n",
    "slotavg = b1_data[\"Equipment Electric Power [kWh]\"]\n",
    "plt.title('Baker Lab Chilled Water Plot')\n",
    "plt.xlabel('Time/year')\n",
    "plt.ylabel('Chilled water flow/ton of refrigeration')\n",
    "plt.plot(slottime, slotavg)\n",
    "plt.xticks(ticks=['2016-06-01 00:00:00','2017-06-01 00:00:00','2018-06-01 00:00:00','2019-06-01 00:00:00'], labels=['2016', '2017', '2018', '2019'])"
   ],
   "metadata": {
    "collapsed": false,
    "pycharm": {
     "name": "#%%\n"
    }
   }
  },
  {
   "cell_type": "code",
   "execution_count": null,
   "outputs": [],
   "source": [],
   "metadata": {
    "collapsed": false,
    "pycharm": {
     "name": "#%%\n"
    }
   }
  }
 ],
 "metadata": {
  "kernelspec": {
   "display_name": "Python 3",
   "language": "python",
   "name": "python3"
  },
  "language_info": {
   "codemirror_mode": {
    "name": "ipython",
    "version": 2
   },
   "file_extension": ".py",
   "mimetype": "text/x-python",
   "name": "python",
   "nbconvert_exporter": "python",
   "pygments_lexer": "ipython2",
   "version": "2.7.6"
  }
 },
 "nbformat": 4,
 "nbformat_minor": 0
}