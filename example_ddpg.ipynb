{
 "cells": [
  {
   "cell_type": "code",
   "execution_count": 50,
   "outputs": [],
   "source": [
    "import os\n",
    "import sys\n",
    "sys.path.insert(0,'..')\n",
    "from citylearn import  CityLearn\n",
    "import matplotlib.pyplot as plt\n",
    "from pathlib import Path\n",
    "import numpy as np\n",
    "from agents.DDPG.ddpg import DDPG"
   ],
   "metadata": {
    "collapsed": false,
    "pycharm": {
     "name": "#%%\n"
    }
   }
  },
  {
   "cell_type": "code",
   "execution_count": 51,
   "outputs": [],
   "source": [
    "climate_zone = 5\n",
    "sim_period = (0, 8760*4-1)\n",
    "params = {'data_path':Path(\"data/Climate_Zone_\"+str(climate_zone)),\n",
    "        'building_attributes':'building_attributes.json',\n",
    "        'weather_file':'weather_data.csv',\n",
    "        'solar_profile':'solar_generation_1kW.csv',\n",
    "        'carbon_intensity':'carbon_intensity.csv',\n",
    "        'building_ids':[\"Building_\"+str(i) for i in [1,2,3,4,5,6,7,8,9]],\n",
    "        'buildings_states_actions':'buildings_state_action_space.json',\n",
    "        'simulation_period': sim_period,\n",
    "        'cost_function': ['ramping','1-load_factor','average_daily_peak','peak_demand','net_electricity_consumption','carbon_emissions'],\n",
    "        'central_agent': False,\n",
    "        'save_memory': False }\n",
    "\n",
    "env = CityLearn(**params)"
   ],
   "metadata": {
    "collapsed": false,
    "pycharm": {
     "name": "#%%\n"
    }
   }
  },
  {
   "cell_type": "code",
   "execution_count": 52,
   "outputs": [],
   "source": [
    "observations_spaces, actions_spaces = env.get_state_action_spaces()\n",
    "building_info = env.get_building_information()"
   ],
   "metadata": {
    "collapsed": false,
    "pycharm": {
     "name": "#%%\n"
    }
   }
  },
  {
   "cell_type": "code",
   "execution_count": 53,
   "outputs": [
    {
     "name": "stdout",
     "output_type": "stream",
     "text": [
      "cpu\n"
     ]
    },
    {
     "ename": "TypeError",
     "evalue": "list indices must be integers or slices, not str",
     "output_type": "error",
     "traceback": [
      "\u001B[0;31m---------------------------------------------------------------------------\u001B[0m",
      "\u001B[0;31mTypeError\u001B[0m                                 Traceback (most recent call last)",
      "\u001B[0;32m/var/folders/98/_w5wynyn5nsfzbpbv19q1ctm0000gn/T/ipykernel_8607/3721236151.py\u001B[0m in \u001B[0;36m<module>\u001B[0;34m\u001B[0m\n\u001B[1;32m      6\u001B[0m \u001B[0;34m\u001B[0m\u001B[0m\n\u001B[1;32m      7\u001B[0m \u001B[0;31m# Instantiating the control agent(s)\u001B[0m\u001B[0;34m\u001B[0m\u001B[0;34m\u001B[0m\u001B[0;34m\u001B[0m\u001B[0m\n\u001B[0;32m----> 8\u001B[0;31m \u001B[0magents\u001B[0m \u001B[0;34m=\u001B[0m \u001B[0mDDPG\u001B[0m\u001B[0;34m(\u001B[0m\u001B[0;34m**\u001B[0m\u001B[0mparams_agent\u001B[0m\u001B[0;34m)\u001B[0m\u001B[0;34m\u001B[0m\u001B[0;34m\u001B[0m\u001B[0m\n\u001B[0m\u001B[1;32m      9\u001B[0m \u001B[0;34m\u001B[0m\u001B[0m\n\u001B[1;32m     10\u001B[0m \u001B[0mstate\u001B[0m \u001B[0;34m=\u001B[0m \u001B[0menv\u001B[0m\u001B[0;34m.\u001B[0m\u001B[0mreset\u001B[0m\u001B[0;34m(\u001B[0m\u001B[0;34m)\u001B[0m\u001B[0;34m\u001B[0m\u001B[0;34m\u001B[0m\u001B[0m\n",
      "\u001B[0;32m~/PycharmProjects/RLinDR/CityLearn/agents/DDPG/ddpg.py\u001B[0m in \u001B[0;36m__init__\u001B[0;34m(self, building_ids, buildings_states_actions, building_info, observation_spaces, action_spaces, hidden_dim, discount, tau, polyak, lr_actor, lr_critic, batch_size, replay_buffer_capacity, start_training, exploration_period, action_scaling_coef, reward_scaling, update_per_step, act_noise, seed)\u001B[0m\n\u001B[1;32m    119\u001B[0m             \u001B[0;31m# init critic networks\u001B[0m\u001B[0;34m\u001B[0m\u001B[0;34m\u001B[0m\u001B[0;34m\u001B[0m\u001B[0m\n\u001B[1;32m    120\u001B[0m             \u001B[0mself\u001B[0m\u001B[0;34m.\u001B[0m\u001B[0mcritic_net\u001B[0m\u001B[0;34m[\u001B[0m\u001B[0muid\u001B[0m\u001B[0;34m]\u001B[0m \u001B[0;34m=\u001B[0m \u001B[0mcore\u001B[0m\u001B[0;34m.\u001B[0m\u001B[0mCritic\u001B[0m\u001B[0;34m(\u001B[0m\u001B[0mstate_dim\u001B[0m\u001B[0;34m,\u001B[0m \u001B[0maction_dim\u001B[0m\u001B[0;34m,\u001B[0m \u001B[0mhidden_dim\u001B[0m\u001B[0;34m)\u001B[0m\u001B[0;34m.\u001B[0m\u001B[0mto\u001B[0m\u001B[0;34m(\u001B[0m\u001B[0mself\u001B[0m\u001B[0;34m.\u001B[0m\u001B[0mdevice\u001B[0m\u001B[0;34m)\u001B[0m\u001B[0;34m\u001B[0m\u001B[0;34m\u001B[0m\u001B[0m\n\u001B[0;32m--> 121\u001B[0;31m             \u001B[0mself\u001B[0m\u001B[0;34m.\u001B[0m\u001B[0mtarget_critic_net\u001B[0m\u001B[0;34m[\u001B[0m\u001B[0muid\u001B[0m\u001B[0;34m]\u001B[0m \u001B[0;34m=\u001B[0m \u001B[0mcore\u001B[0m\u001B[0;34m.\u001B[0m\u001B[0mCritic\u001B[0m\u001B[0;34m(\u001B[0m\u001B[0mstate_dim\u001B[0m\u001B[0;34m,\u001B[0m \u001B[0maction_dim\u001B[0m\u001B[0;34m,\u001B[0m \u001B[0mhidden_dim\u001B[0m\u001B[0;34m)\u001B[0m\u001B[0;34m.\u001B[0m\u001B[0mto\u001B[0m\u001B[0;34m(\u001B[0m\u001B[0mself\u001B[0m\u001B[0;34m.\u001B[0m\u001B[0mdevice\u001B[0m\u001B[0;34m)\u001B[0m\u001B[0;34m\u001B[0m\u001B[0;34m\u001B[0m\u001B[0m\n\u001B[0m\u001B[1;32m    122\u001B[0m             for target_param, param in zip(self.target_critic_net[uid].parameters(),\n\u001B[1;32m    123\u001B[0m                                            self.critic_net[uid].parameters()):\n",
      "\u001B[0;31mTypeError\u001B[0m: list indices must be integers or slices, not str"
     ]
    }
   ],
   "source": [
    "params_agent = {'building_ids':[\"Building_\"+str(i) for i in [1,2,3,4,5,6,7,8,9]],\n",
    "                 'buildings_states_actions':'buildings_state_action_space.json',\n",
    "                 'building_info':building_info,\n",
    "                 'observation_spaces':observations_spaces,\n",
    "                 'action_spaces':actions_spaces}\n",
    "\n",
    "# Instantiating the control agent(s)\n",
    "agents = DDPG(**params_agent)\n",
    "\n",
    "state = env.reset()\n",
    "done = False\n",
    "\n",
    "action, coordination_vars = agents.select_action(state)\n",
    "while not done:\n",
    "    next_state, reward, done, _ = env.step(action)\n",
    "    action_next, coordination_vars_next = agents.select_action(next_state)\n",
    "    agents.add_to_buffer(state, action, reward, next_state, done, coordination_vars, coordination_vars_next)\n",
    "    coordination_vars = coordination_vars_next\n",
    "    state = next_state\n",
    "    action = action_next\n",
    "\n",
    "env.cost()"
   ],
   "metadata": {
    "collapsed": false,
    "pycharm": {
     "name": "#%%\n"
    }
   }
  },
  {
   "cell_type": "code",
   "execution_count": null,
   "outputs": [],
   "source": [
    "sim_period = (0, 8760*4 - 1)\n",
    "interval = range(sim_period[0], sim_period[1])\n",
    "plt.figure(figsize=(16,5))\n",
    "plt.plot(env.net_electric_consumption_no_pv_no_storage[interval])\n",
    "plt.plot(env.net_electric_consumption_no_storage[interval])\n",
    "plt.plot(env.net_electric_consumption[interval], '--')\n",
    "plt.xlabel('time (hours)')\n",
    "plt.ylabel('kW')\n",
    "plt.legend(['Electricity demand without storage or generation (kW)',\n",
    "            'Electricity demand with PV generation and without storage(kW)',\n",
    "            'Electricity demand with PV generation and using SAC for storage control (kW)'])"
   ],
   "metadata": {
    "collapsed": false,
    "pycharm": {
     "name": "#%%\n"
    }
   }
  },
  {
   "cell_type": "code",
   "execution_count": null,
   "outputs": [],
   "source": [
    "# Plotting summer operation in the last year\n",
    "interval = range(8760*3 + 24*30*6, 8760*3 + 24*30*6 + 24*10)\n",
    "plt.figure(figsize=(16,5))\n",
    "plt.plot(env.net_electric_consumption_no_pv_no_storage[interval])\n",
    "plt.plot(env.net_electric_consumption_no_storage[interval])\n",
    "plt.plot(env.net_electric_consumption[interval], '--')\n",
    "plt.xlabel('time (hours)')\n",
    "plt.ylabel('kW')\n",
    "plt.legend(['Electricity demand without storage or generation (kW)',\n",
    "            'Electricity demand with PV generation and without storage(kW)',\n",
    "            'Electricity demand with PV generation and using RBC for storage(kW)'])"
   ],
   "metadata": {
    "collapsed": false,
    "pycharm": {
     "name": "#%%\n"
    }
   }
  },
  {
   "cell_type": "code",
   "execution_count": null,
   "outputs": [],
   "source": [
    "building_number = 'Building_1'\n",
    "interval = (range(24*30*6 + 8760*3,24*30*6 + 8760*3 + 24*4))\n",
    "plt.figure(figsize=(12,8))\n",
    "plt.plot(env.buildings[building_number].cooling_demand_building[interval])\n",
    "plt.plot(env.buildings[building_number].cooling_storage_to_building[interval] - env.buildings[building_number].cooling_device_to_storage[interval])\n",
    "plt.plot(env.buildings[building_number].cooling_device.cooling_supply[interval])\n",
    "plt.plot(env.electric_consumption_cooling[interval])\n",
    "plt.plot(env.buildings[building_number].cooling_device.cop_cooling[interval]*100,'--')\n",
    "plt.plot(env.buildings[building_number].cooling_storage.soc[interval],'--')\n",
    "plt.xlabel('time (hours)')\n",
    "plt.ylabel('kW')\n",
    "plt.legend(['Cooling Demand (kWh)',\n",
    "            'Energy Balance of Chilled Water Tank (kWh)',\n",
    "            'Heat Pump Total Cooling Supply (kWh)',\n",
    "            'Heat Pump Electricity Consumption (kWh)',\n",
    "            'Heat Pump COP x100',\n",
    "            'Cooling Storage State of Charge (kWh)'])"
   ],
   "metadata": {
    "collapsed": false,
    "pycharm": {
     "name": "#%%\n"
    }
   }
  },
  {
   "cell_type": "code",
   "execution_count": null,
   "outputs": [],
   "source": [
    "building_number = 'Building_9'\n",
    "interval = range(8760*3 + 24*30*6, 8760*3 + 24*30*6 + 24*4)\n",
    "plt.figure(figsize=(12,8))\n",
    "plt.plot(env.buildings[building_number].cooling_storage_soc[interval])\n",
    "plt.plot(env.buildings[building_number].dhw_storage_soc[interval])\n",
    "plt.plot(env.buildings[building_number].electrical_storage_soc[interval])\n",
    "plt.xlabel('time (hours)')\n",
    "plt.ylabel('kW')\n",
    "plt.legend(['Cooling Storage Device SoC',\n",
    "            'Heating Storage Device SoC',\n",
    "            'Electrical Storage Device SoC'])"
   ],
   "metadata": {
    "collapsed": false,
    "pycharm": {
     "name": "#%%\n"
    }
   }
  }
 ],
 "metadata": {
  "kernelspec": {
   "display_name": "Python 3",
   "language": "python",
   "name": "python3"
  },
  "language_info": {
   "codemirror_mode": {
    "name": "ipython",
    "version": 2
   },
   "file_extension": ".py",
   "mimetype": "text/x-python",
   "name": "python",
   "nbconvert_exporter": "python",
   "pygments_lexer": "ipython2",
   "version": "2.7.6"
  }
 },
 "nbformat": 4,
 "nbformat_minor": 0
}