{
 "cells": [
  {
   "cell_type": "code",
   "execution_count": 1,
   "outputs": [],
   "source": [
    "import os\n",
    "import sys\n",
    "sys.path.insert(0,'..')\n",
    "from citylearn import  CityLearn\n",
    "import matplotlib.pyplot as plt\n",
    "from pathlib import Path\n",
    "import numpy as np\n",
    "from agents.DDPG.ddpg import DDPG"
   ],
   "metadata": {
    "collapsed": false,
    "pycharm": {
     "name": "#%%\n"
    }
   }
  },
  {
   "cell_type": "code",
   "execution_count": 2,
   "outputs": [],
   "source": [
    "climate_zone = 5\n",
    "sim_period = (0, 8760*4-1)\n",
    "params = {'data_path':Path(\"data/Climate_Zone_\"+str(climate_zone)),\n",
    "        'building_attributes':'building_attributes.json',\n",
    "        'weather_file':'weather_data.csv',\n",
    "        'solar_profile':'solar_generation_1kW.csv',\n",
    "        'carbon_intensity':'carbon_intensity.csv',\n",
    "        'building_ids':[\"Building_\"+str(i) for i in [1,2,3,4,5,6,7,8,9]],\n",
    "        'buildings_states_actions':'buildings_state_action_space.json',\n",
    "        'simulation_period': sim_period,\n",
    "        'cost_function': ['ramping','1-load_factor','average_daily_peak','peak_demand','net_electricity_consumption','carbon_emissions'],\n",
    "        'central_agent': False,\n",
    "        'save_memory': False }\n",
    "\n",
    "env = CityLearn(**params)"
   ],
   "metadata": {
    "collapsed": false,
    "pycharm": {
     "name": "#%%\n"
    }
   }
  },
  {
   "cell_type": "code",
   "execution_count": 3,
   "outputs": [],
   "source": [
    "observations_spaces, actions_spaces = env.get_state_action_spaces()\n",
    "building_info = env.get_building_information()"
   ],
   "metadata": {
    "collapsed": false,
    "pycharm": {
     "name": "#%%\n"
    }
   }
  },
  {
   "cell_type": "code",
   "execution_count": 5,
   "outputs": [
    {
     "name": "stdout",
     "output_type": "stream",
     "text": [
      "cpu\n"
     ]
    },
    {
     "name": "stderr",
     "output_type": "stream",
     "text": [
      "/Users/xiejiahan/PycharmProjects/RLinDR/CityLearn/agents/DDPG/ddpg.py:158: VisibleDeprecationWarning: Creating an ndarray from ragged nested sequences (which is a list-or-tuple of lists-or-tuples-or ndarrays with different lengths or shapes) is deprecated. If you meant to do this, you must specify 'dtype=object' when creating the ndarray.\n",
      "  return np.array(actions)\n"
     ]
    },
    {
     "data": {
      "text/plain": "({'ramping': 0.0,\n  '1-load_factor': 0.0,\n  'average_daily_peak': 0.8051265,\n  'peak_demand': 0.3937369,\n  'net_electricity_consumption': 3.2713953e-05,\n  'carbon_emissions': 3.3193413e-05,\n  'total': 0.19982154907908503,\n  'coordination_score': 0.2997158467769623},\n {'ramping_last_yr': 0.0,\n  '1-load_factor_last_yr': 0.0,\n  'average_daily_peak_last_yr': 0.8157906,\n  'peak_demand_last_yr': 0.4450824,\n  'net_electricity_consumption_last_yr': 0.00013231984,\n  'carbon_emissions_last_yr': 0.00013720339,\n  'coordination_score_last_yr': 0.3152182474732399,\n  'total_last_yr': 0.22519439437019173})"
     },
     "execution_count": 5,
     "metadata": {},
     "output_type": "execute_result"
    }
   ],
   "source": [
    "params_agent = {'building_ids':[\"Building_\"+str(i) for i in [1,2,3,4,5,6,7,8,9]],\n",
    "                 'buildings_states_actions':'buildings_state_action_space.json',\n",
    "                 'building_info':building_info,\n",
    "                 'observation_spaces':observations_spaces,\n",
    "                 'action_spaces':actions_spaces}\n",
    "\n",
    "# Instantiating the control agent(s)\n",
    "agents = DDPG(**params_agent)\n",
    "\n",
    "state = env.reset()\n",
    "done = False\n",
    "\n",
    "action = agents.select_action(state,0.2)\n",
    "episode = 10\n",
    "for i in range(episode):\n",
    "    for i in range(1,2*8760):\n",
    "        next_state, reward, done, _ = env.step(action)\n",
    "        action_next = agents.select_action(next_state,0.2)\n",
    "        agents.add_to_buffer(state, action, reward, next_state, done)\n",
    "        state = next_state\n",
    "        action = action_next\n",
    "\n",
    "env.cost()"
   ],
   "metadata": {
    "collapsed": false,
    "pycharm": {
     "name": "#%%\n"
    }
   }
  },
  {
   "cell_type": "code",
   "execution_count": null,
   "outputs": [],
   "source": [
    "sim_period = (0, 8760*4 - 1)\n",
    "interval = range(sim_period[0], sim_period[1])\n",
    "plt.figure(figsize=(16,5))\n",
    "plt.plot(env.net_electric_consumption_no_pv_no_storage[interval])\n",
    "plt.plot(env.net_electric_consumption_no_storage[interval])\n",
    "plt.plot(env.net_electric_consumption[interval], '--')\n",
    "plt.xlabel('time (hours)')\n",
    "plt.ylabel('kW')\n",
    "plt.legend(['Electricity demand without storage or generation (kW)',\n",
    "            'Electricity demand with PV generation and without storage(kW)',\n",
    "            'Electricity demand with PV generation and using SAC for storage control (kW)'])"
   ],
   "metadata": {
    "collapsed": false,
    "pycharm": {
     "name": "#%%\n"
    }
   }
  },
  {
   "cell_type": "code",
   "execution_count": null,
   "outputs": [],
   "source": [
    "# Plotting summer operation in the last year\n",
    "interval = range(8760*3 + 24*30*6, 8760*3 + 24*30*6 + 24*10)\n",
    "plt.figure(figsize=(16,5))\n",
    "plt.plot(env.net_electric_consumption_no_pv_no_storage[interval])\n",
    "plt.plot(env.net_electric_consumption_no_storage[interval])\n",
    "plt.plot(env.net_electric_consumption[interval], '--')\n",
    "plt.xlabel('time (hours)')\n",
    "plt.ylabel('kW')\n",
    "plt.legend(['Electricity demand without storage or generation (kW)',\n",
    "            'Electricity demand with PV generation and without storage(kW)',\n",
    "            'Electricity demand with PV generation and using RBC for storage(kW)'])"
   ],
   "metadata": {
    "collapsed": false,
    "pycharm": {
     "name": "#%%\n"
    }
   }
  },
  {
   "cell_type": "code",
   "execution_count": null,
   "outputs": [],
   "source": [
    "building_number = 'Building_1'\n",
    "interval = (range(24*30*6 + 8760*3,24*30*6 + 8760*3 + 24*4))\n",
    "plt.figure(figsize=(12,8))\n",
    "plt.plot(env.buildings[building_number].cooling_demand_building[interval])\n",
    "plt.plot(env.buildings[building_number].cooling_storage_to_building[interval] - env.buildings[building_number].cooling_device_to_storage[interval])\n",
    "plt.plot(env.buildings[building_number].cooling_device.cooling_supply[interval])\n",
    "plt.plot(env.electric_consumption_cooling[interval])\n",
    "plt.plot(env.buildings[building_number].cooling_device.cop_cooling[interval]*100,'--')\n",
    "plt.plot(env.buildings[building_number].cooling_storage.soc[interval],'--')\n",
    "plt.xlabel('time (hours)')\n",
    "plt.ylabel('kW')\n",
    "plt.legend(['Cooling Demand (kWh)',\n",
    "            'Energy Balance of Chilled Water Tank (kWh)',\n",
    "            'Heat Pump Total Cooling Supply (kWh)',\n",
    "            'Heat Pump Electricity Consumption (kWh)',\n",
    "            'Heat Pump COP x100',\n",
    "            'Cooling Storage State of Charge (kWh)'])"
   ],
   "metadata": {
    "collapsed": false,
    "pycharm": {
     "name": "#%%\n"
    }
   }
  },
  {
   "cell_type": "code",
   "execution_count": null,
   "outputs": [],
   "source": [
    "building_number = 'Building_9'\n",
    "interval = range(8760*3 + 24*30*6, 8760*3 + 24*30*6 + 24*4)\n",
    "plt.figure(figsize=(12,8))\n",
    "plt.plot(env.buildings[building_number].cooling_storage_soc[interval])\n",
    "plt.plot(env.buildings[building_number].dhw_storage_soc[interval])\n",
    "plt.plot(env.buildings[building_number].electrical_storage_soc[interval])\n",
    "plt.xlabel('time (hours)')\n",
    "plt.ylabel('kW')\n",
    "plt.legend(['Cooling Storage Device SoC',\n",
    "            'Heating Storage Device SoC',\n",
    "            'Electrical Storage Device SoC'])"
   ],
   "metadata": {
    "collapsed": false,
    "pycharm": {
     "name": "#%%\n"
    }
   }
  }
 ],
 "metadata": {
  "kernelspec": {
   "display_name": "Python 3",
   "language": "python",
   "name": "python3"
  },
  "language_info": {
   "codemirror_mode": {
    "name": "ipython",
    "version": 2
   },
   "file_extension": ".py",
   "mimetype": "text/x-python",
   "name": "python",
   "nbconvert_exporter": "python",
   "pygments_lexer": "ipython2",
   "version": "2.7.6"
  }
 },
 "nbformat": 4,
 "nbformat_minor": 0
}