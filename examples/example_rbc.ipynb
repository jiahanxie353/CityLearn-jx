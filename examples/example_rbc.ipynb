{
 "cells": [
  {
   "cell_type": "code",
   "execution_count": null,
   "metadata": {
    "collapsed": true,
    "pycharm": {
     "name": "#%%\n"
    }
   },
   "outputs": [],
   "source": [
    "# To run this example, move this file to the main directory of this repository\n",
    "from citylearn import  CityLearn\n",
    "import matplotlib.pyplot as plt\n",
    "from pathlib import Path\n",
    "import numpy as np\n",
    "from agents.rbc import RBC"
   ]
  },
  {
   "cell_type": "code",
   "execution_count": null,
   "outputs": [],
   "source": [
    "# Select the climate zone and load environment\n",
    "climate_zone = 5\n",
    "sim_period = (0, 8760*4-1)\n",
    "params = {'data_path':Path(\"data/Climate_Zone_\"+str(climate_zone)),\n",
    "        'building_attributes':'building_attributes.json',\n",
    "        'weather_file':'weather_data.csv',\n",
    "        'solar_profile':'solar_generation_1kW.csv',\n",
    "        'carbon_intensity':'carbon_intensity.csv',\n",
    "        'building_ids':[\"Building_\"+str(i) for i in [1,2,3,4,5,6,7,8,9]],\n",
    "        'buildings_states_actions':'buildings_state_action_space.json',\n",
    "        'simulation_period': sim_period,\n",
    "        'cost_function': ['ramping','1-load_factor','average_daily_peak','peak_demand','net_electricity_consumption','carbon_emissions'],\n",
    "        'central_agent': False,\n",
    "        'save_memory': False }\n",
    "\n",
    "env = CityLearn(**params)\n",
    "\n",
    "observations_spaces, actions_spaces = env.get_state_action_spaces()"
   ],
   "metadata": {
    "collapsed": false,
    "pycharm": {
     "name": "#%%\n"
    }
   }
  },
  {
   "cell_type": "code",
   "execution_count": null,
   "outputs": [],
   "source": [
    "# Simulation without energy storage\n",
    "env.reset()\n",
    "done = False\n",
    "while not done:\n",
    "    _, rewards, done, _ = env.step([[0 for _ in range(len(actions_spaces[i].sample()))] for i in range(9)])\n",
    "cost_no_storage, cost_no_storage_last_yr = env.cost()\n"
   ],
   "metadata": {
    "collapsed": false,
    "pycharm": {
     "name": "#%%\n"
    }
   }
  },
  {
   "cell_type": "code",
   "execution_count": null,
   "outputs": [],
   "source": [
    "env.cost()"
   ],
   "metadata": {
    "collapsed": false,
    "pycharm": {
     "name": "#%%\n"
    }
   }
  },
  {
   "cell_type": "code",
   "execution_count": null,
   "outputs": [],
   "source": [
    "interval = range(sim_period[0], sim_period[1])\n",
    "plt.figure(figsize=(12,8))\n",
    "plt.plot(env.net_electric_consumption[interval]+env.electric_generation[interval]-env.electric_consumption_cooling_storage[interval]-env.electric_consumption_dhw_storage[interval])\n",
    "plt.plot(env.net_electric_consumption[interval]-env.electric_consumption_cooling_storage[interval]-env.electric_consumption_dhw_storage[interval])\n",
    "plt.legend(['Electricity demand without storage or generation (kW)', 'Electricity demand with PV generation and without storage(kW)'])"
   ],
   "metadata": {
    "collapsed": false,
    "pycharm": {
     "name": "#%%\n"
    }
   }
  },
  {
   "cell_type": "code",
   "execution_count": null,
   "outputs": [],
   "source": [
    "# RULE-BASED CONTROLLER (RBC) (Stores energy at night and releases it during the day)\n",
    "# In this example, each building has its own RBC, which tries to flatten a generic building load\n",
    "# by storing energy at night and using it during the day, which isn't necessarily the best solution\n",
    "# in order to flatten the total load of the district.\n",
    "# Select the climate zone and load environment\n",
    "\n",
    "'''IMPORTANT: Make sure that the buildings_state_action_space.json file contains the hour of day as 3rd true state:\n",
    "{\"Building_1\": {\n",
    "    \"states\": {\n",
    "        \"month\": true,\n",
    "        \"day\": true,\n",
    "        \"hour\": true\n",
    "Alternative, modify the line: \"hour_day = states[0][2]\" of the RBC_Agent Class in agent.py\n",
    "'''\n",
    "import json\n",
    "import time\n",
    "# Instantiating the control agent(s)\n",
    "agents = RBC(actions_spaces)\n",
    "\n",
    "# Finding which state\n",
    "with open('buildings_state_action_space.json') as file:\n",
    "    actions_ = json.load(file)\n",
    "\n",
    "indx_hour = -1\n",
    "for obs_name, selected in list(actions_.values())[0]['states'].items():\n",
    "    indx_hour += 1\n",
    "    if obs_name=='hour':\n",
    "        break\n",
    "    assert indx_hour < len(list(actions_.values())[0]['states'].items()) - 1, \"Please, select hour as a state for Building_1 to run the RBC\"\n",
    "\n",
    "\n",
    "state = env.reset()\n",
    "done = False\n",
    "rewards_list = []\n",
    "start = time.time()\n",
    "while not done:\n",
    "    hour_state = np.array([[state[0][indx_hour]]])\n",
    "    action = agents.select_action(hour_state)\n",
    "    next_state, rewards, done, _ = env.step(action)\n",
    "    state = next_state\n",
    "    rewards_list.append(rewards)\n",
    "cost_rbc = env.cost()\n",
    "end = time.time()\n",
    "print(end-start)"
   ],
   "metadata": {
    "collapsed": false,
    "pycharm": {
     "name": "#%%\n"
    }
   }
  },
  {
   "cell_type": "code",
   "execution_count": null,
   "outputs": [],
   "source": [
    "action[0][0]=0.034\n",
    "action[0][1]=0.034\n",
    "action[0][2]=0.034"
   ],
   "metadata": {
    "collapsed": false,
    "pycharm": {
     "name": "#%%\n"
    }
   }
  },
  {
   "cell_type": "code",
   "execution_count": null,
   "outputs": [],
   "source": [
    "next_state, rewards, done, _ = env.step(action)"
   ],
   "metadata": {
    "collapsed": false,
    "pycharm": {
     "name": "#%%\n"
    }
   }
  },
  {
   "cell_type": "code",
   "execution_count": null,
   "outputs": [],
   "source": [
    "state[0]"
   ],
   "metadata": {
    "collapsed": false,
    "pycharm": {
     "name": "#%%\n"
    }
   }
  },
  {
   "cell_type": "code",
   "execution_count": null,
   "outputs": [],
   "source": [
    "next_state[0]"
   ],
   "metadata": {
    "collapsed": false,
    "pycharm": {
     "name": "#%%\n"
    }
   }
  },
  {
   "cell_type": "code",
   "execution_count": null,
   "outputs": [],
   "source": [
    "cost_rbc"
   ],
   "metadata": {
    "collapsed": false,
    "pycharm": {
     "name": "#%%\n"
    }
   }
  },
  {
   "cell_type": "code",
   "execution_count": null,
   "outputs": [],
   "source": [
    "# Plotting electricity consumption breakdown\n",
    "interval = range(sim_period[0], sim_period[1])\n",
    "plt.figure(figsize=(16,5))\n",
    "plt.plot(env.net_electric_consumption_no_pv_no_storage[interval])\n",
    "plt.plot(env.net_electric_consumption_no_storage[interval])\n",
    "plt.plot(env.net_electric_consumption[interval], '--')\n",
    "plt.xlabel('time (hours)')\n",
    "plt.ylabel('kW')\n",
    "plt.legend(['Electricity demand without storage or generation (kW)', 'Electricity demand with PV generation and without storage(kW)', 'Electricity demand with PV generation and using RBC for storage(kW)'])"
   ],
   "metadata": {
    "collapsed": false,
    "pycharm": {
     "name": "#%%\n"
    }
   }
  },
  {
   "cell_type": "code",
   "execution_count": null,
   "outputs": [],
   "source": [
    "# Plotting 5 days of winter operation of year 1\n",
    "plt.figure(figsize=(16,5))\n",
    "interval = range(0,24*5)\n",
    "plt.plot(env.net_electric_consumption_no_pv_no_storage[interval])\n",
    "plt.plot(env.net_electric_consumption_no_storage[interval])\n",
    "plt.plot(env.net_electric_consumption[interval], '--')\n",
    "plt.xlabel('time (hours)')\n",
    "plt.ylabel('kW')\n",
    "plt.legend(['Electricity demand without storage or generation (kW)', 'Electricity demand with PV generation and without storage(kW)', 'Electricity demand with PV generation and using RBC for storage(kW)'])"
   ],
   "metadata": {
    "collapsed": false,
    "pycharm": {
     "name": "#%%\n"
    }
   }
  },
  {
   "cell_type": "code",
   "execution_count": null,
   "outputs": [],
   "source": [
    "# Plotting summer operation of year 1\n",
    "plt.figure(figsize=(16,5))\n",
    "interval = range(24*30*7,24*30*7 + 24)\n",
    "plt.plot(env.net_electric_consumption_no_pv_no_storage[interval])\n",
    "plt.plot(env.net_electric_consumption_no_storage[interval])\n",
    "plt.plot(env.net_electric_consumption[interval], '--')\n",
    "plt.xlabel('time (hours)')\n",
    "plt.ylabel('kW')\n",
    "plt.legend(['Electricity demand without storage or generation (kW)', 'Electricity demand with PV generation and without storage(kW)', 'Electricity demand with PV generation and using RBC for storage(kW)'])"
   ],
   "metadata": {
    "collapsed": false,
    "pycharm": {
     "name": "#%%\n"
    }
   }
  },
  {
   "cell_type": "code",
   "execution_count": null,
   "outputs": [],
   "source": [
    "# Plotting summer operation\n",
    "interval = range(5000,5000 + 24*10)\n",
    "plt.figure(figsize=(16,5))\n",
    "plt.plot(env.net_electric_consumption_no_pv_no_storage[interval])\n",
    "plt.plot(env.net_electric_consumption_no_storage[interval])\n",
    "plt.plot(env.net_electric_consumption[interval], '--')\n",
    "plt.xlabel('time (hours)')\n",
    "plt.ylabel('kW')\n",
    "plt.legend(['Electricity demand without storage or generation (kW)', 'Electricity demand with PV generation and without storage(kW)', 'Electricity demand with PV generation and using RBC for storage(kW)'])"
   ],
   "metadata": {
    "collapsed": false,
    "pycharm": {
     "name": "#%%\n"
    }
   }
  },
  {
   "cell_type": "code",
   "execution_count": null,
   "outputs": [],
   "source": [
    "# Plot for one building of the total cooling supply, the state of charge, and the actions of the controller during winter\n",
    "building_number = 'Building_5'\n",
    "plt.figure(figsize=(12,8))\n",
    "plt.plot(env.buildings[building_number].cooling_demand_building[3500:3500+24*5])\n",
    "plt.plot(env.buildings[building_number].cooling_storage_soc[3500:3500+24*5])\n",
    "plt.plot(env.buildings[building_number].hvac_device_to_building[3500:3500+24*5] + env.buildings[building_number].hvac_device_to_cooling_storage[3500:3500+24*5])\n",
    "plt.xlabel('time (hours)')\n",
    "plt.ylabel('kW')\n",
    "plt.legend(['Building Cooling Demand (kWh)','Energy Storage State of Charge - SOC (kWh)', 'Heat Pump Total Cooling Supply (kW)'])"
   ],
   "metadata": {
    "collapsed": false,
    "pycharm": {
     "name": "#%%\n"
    }
   }
  },
  {
   "cell_type": "code",
   "execution_count": null,
   "outputs": [],
   "source": [
    "building_number = 'Building_1'\n",
    "interval = range(0,24*4)\n",
    "plt.figure(figsize=(12,8))\n",
    "plt.plot(env.buildings[building_number].cooling_demand_building[interval])\n",
    "plt.plot(env.buildings[building_number].cooling_storage_to_building[interval] - env.buildings[building_number].hvac_device_to_cooling_storage[interval])\n",
    "plt.plot(env.buildings[building_number].hvac_device.cooling_supply[interval])\n",
    "plt.plot(env.electric_consumption_cooling[interval])\n",
    "plt.plot(env.buildings[building_number].hvac_device.cop_cooling[interval],'--')\n",
    "plt.xlabel('time (hours)')\n",
    "plt.ylabel('kW')\n",
    "plt.legend(['Cooling Demand (kWh)','Energy Balance of Chilled Water Tank (kWh)', 'Heat Pump Total Cooling Supply (kWh)', 'Heat Pump Electricity Consumption (kWh)','Heat Pump COP'])\n"
   ],
   "metadata": {
    "collapsed": false,
    "pycharm": {
     "name": "#%%\n"
    }
   }
  }
 ],
 "metadata": {
  "kernelspec": {
   "display_name": "Python 3",
   "language": "python",
   "name": "python3"
  },
  "language_info": {
   "codemirror_mode": {
    "name": "ipython",
    "version": 2
   },
   "file_extension": ".py",
   "mimetype": "text/x-python",
   "name": "python",
   "nbconvert_exporter": "python",
   "pygments_lexer": "ipython2",
   "version": "2.7.6"
  }
 },
 "nbformat": 4,
 "nbformat_minor": 0
}