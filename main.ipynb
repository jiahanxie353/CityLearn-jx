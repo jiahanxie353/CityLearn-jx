{
 "cells": [
  {
   "cell_type": "code",
   "execution_count": 1,
   "metadata": {
    "pycharm": {
     "name": "#%%\n"
    }
   },
   "outputs": [],
   "source": [
    "# Run this again after editing submodules so Colab uses the updated versions\n",
    "from citylearn import  CityLearn\n",
    "from pathlib import Path\n",
    "from agent import Agent\n",
    "import numpy as np                                                                                                                                                                                      \n",
    "import torch"
   ]
  },
  {
   "cell_type": "code",
   "execution_count": 25,
   "metadata": {
    "pycharm": {
     "name": "#%%\n"
    }
   },
   "outputs": [],
   "source": [
    "# Load environment\n",
    "climate_zone = 5\n",
    "params = {'data_path':Path(\"data/Climate_Zone_\"+str(climate_zone)), \n",
    "        'building_attributes':'building_attributes.json', \n",
    "        'weather_file':'weather_data.csv', \n",
    "        'solar_profile':'solar_generation_1kW.csv', \n",
    "        'carbon_intensity':'carbon_intensity.csv',\n",
    "        'building_ids':[\"Building_\"+str(i) for i in [1,2,3,4,5,6,7,8,9]],\n",
    "        'buildings_states_actions':'buildings_state_action_space.json', \n",
    "        'simulation_period': (0, 8760*4-1), \n",
    "        'cost_function': ['ramping','1-load_factor','average_daily_peak','peak_demand','net_electricity_consumption','carbon_emissions'], \n",
    "        'central_agent': False,\n",
    "        'save_memory': False }\n",
    "\n",
    "# Contain the lower and upper bounds of the states and actions, to be provided to the agent to normalize the variables between 0 and 1.\n",
    "env = CityLearn(**params)\n",
    "observations_spaces, actions_spaces = env.get_state_action_spaces()\n",
    "\n",
    "# Provides information on Building type, Climate Zone, Annual DHW demand, Annual Cooling Demand, Annual Electricity Demand, Solar Capacity, and correllations among buildings\n",
    "building_info = env.get_building_information()"
   ]
  },
  {
   "cell_type": "code",
   "execution_count": null,
   "outputs": [],
   "source": [
    "len(actions_spaces)"
   ],
   "metadata": {
    "collapsed": false,
    "pycharm": {
     "name": "#%%\n"
    }
   }
  },
  {
   "cell_type": "code",
   "execution_count": null,
   "outputs": [],
   "source": [
    "params_agent = {'building_ids':[\"Building_\"+str(i) for i in [1,2,3,4,5,6,7,8,9]],\n",
    "                 'buildings_states_actions':'buildings_state_action_space.json', \n",
    "                 'building_info':building_info,\n",
    "                 'observation_spaces':observations_spaces, \n",
    "                 'action_spaces':actions_spaces}\n",
    "\n",
    "# Instantiating the control agent(s)\n",
    "agents = Agent(**params_agent)\n",
    "\n",
    "state = env.reset()\n",
    "done = False\n",
    "\n",
    "action, coordination_vars = agents.select_action(state)    \n",
    "while not done:\n",
    "    next_state, reward, done, _ = env.step(action)\n",
    "    action_next, coordination_vars_next = agents.select_action(next_state)\n",
    "    agents.add_to_buffer(state, action, reward, next_state, done, coordination_vars, coordination_vars_next)\n",
    "    coordination_vars = coordination_vars_next\n",
    "    state = next_state\n",
    "    action = action_next\n",
    "\n",
    "env.cost()"
   ],
   "metadata": {
    "collapsed": false,
    "pycharm": {
     "name": "#%%\n"
    }
   }
  },
  {
   "cell_type": "code",
   "execution_count": null,
   "outputs": [],
   "source": [
    "def make(x,y):\n",
    "    print(f\"making {x} envs; \\n\"\n",
    "          f\" and {y} threads\")\n",
    "make(42,3)"
   ],
   "metadata": {
    "collapsed": false,
    "pycharm": {
     "name": "#%%\n"
    }
   }
  },
  {
   "cell_type": "code",
   "execution_count": null,
   "outputs": [],
   "source": [
    "for obs_space, act_space in zip(observations_spaces, actions_spaces):\n",
    "    print(act_space.shape[0])"
   ],
   "metadata": {
    "collapsed": false,
    "pycharm": {
     "name": "#%%\n"
    }
   }
  },
  {
   "cell_type": "code",
   "execution_count": null,
   "outputs": [],
   "source": [
    "obs = env.reset()\n",
    "observations_spaces = env.observation_spaces\n",
    "actions_spaces = env.action_spaces"
   ],
   "metadata": {
    "collapsed": false,
    "pycharm": {
     "name": "#%%\n"
    }
   }
  },
  {
   "cell_type": "code",
   "execution_count": null,
   "outputs": [],
   "source": [
    "print(observations_spaces)"
   ],
   "metadata": {
    "collapsed": false,
    "pycharm": {
     "name": "#%%\n"
    }
   }
  },
  {
   "cell_type": "code",
   "execution_count": null,
   "outputs": [],
   "source": [
    "obs = env.reset()\n",
    "ob = obs[2]\n",
    "print(len(ob))"
   ],
   "metadata": {
    "collapsed": false,
    "pycharm": {
     "name": "#%%\n"
    }
   }
  },
  {
   "cell_type": "code",
   "execution_count": null,
   "outputs": [],
   "source": [
    "[obsp.shape[0] for obsp in observations_spaces]"
   ],
   "metadata": {
    "collapsed": false,
    "pycharm": {
     "name": "#%%\n"
    }
   }
  },
  {
   "cell_type": "code",
   "execution_count": null,
   "outputs": [],
   "source": [],
   "metadata": {
    "collapsed": false,
    "pycharm": {
     "name": "#%%\n"
    }
   }
  },
  {
   "cell_type": "code",
   "execution_count": 13,
   "metadata": {
    "pycharm": {
     "name": "#%%\n"
    }
   },
   "outputs": [
    {
     "name": "stdout",
     "output_type": "stream",
     "text": [
      "Device:cuda\n"
     ]
    },
    {
     "data": {
      "text/plain": [
       "({'ramping': 1.6146312,\n",
       "  '1-load_factor': 1.1158112003254197,\n",
       "  'average_daily_peak': 1.1334853,\n",
       "  'peak_demand': 1.1599934,\n",
       "  'net_electricity_consumption': 1.0157715,\n",
       "  'carbon_emissions': 1.0229925,\n",
       "  'total': 1.177114183933326,\n",
       "  'coordination_score': 1.2559802759152476},\n",
       " {'ramping_last_yr': 1.1639097,\n",
       "  '1-load_factor_last_yr': 1.0558413421324109,\n",
       "  'average_daily_peak_last_yr': 1.0668069,\n",
       "  'peak_demand_last_yr': 1.1332848,\n",
       "  'net_electricity_consumption_last_yr': 1.0071987,\n",
       "  'carbon_emissions_last_yr': 1.0151038,\n",
       "  'coordination_score_last_yr': 1.1049606838626467,\n",
       "  'total_last_yr': 1.0781579896667743})"
      ]
     },
     "execution_count": 13,
     "metadata": {},
     "output_type": "execute_result"
    }
   ],
   "source": [
    "params_agent = {'building_ids':[\"Building_\"+str(i) for i in [1,2,3,4,5,6,7,8,9]],\n",
    "                 'buildings_states_actions':'buildings_state_action_space.json', \n",
    "                 'building_info':building_info,\n",
    "                 'observation_spaces':observations_spaces, \n",
    "                 'action_spaces':actions_spaces}\n",
    "\n",
    "# Instantiating the control agent(s)\n",
    "agents = Agent(**params_agent)\n",
    "\n",
    "state = env.reset()\n",
    "done = False\n",
    "\n",
    "action, coordination_vars = agents.select_action(state)    \n",
    "while not done:\n",
    "    next_state, reward, done, _ = env.step(action)\n",
    "    action_next, coordination_vars_next = agents.select_action(next_state)\n",
    "    agents.add_to_buffer(state, action, reward, next_state, done, coordination_vars, coordination_vars_next)\n",
    "    coordination_vars = coordination_vars_next\n",
    "    state = next_state\n",
    "    action = action_next\n",
    "\n",
    "env.cost()"
   ]
  },
  {
   "cell_type": "code",
   "execution_count": 7,
   "outputs": [
    {
     "name": "stdout",
     "output_type": "stream",
     "text": [
      "making 42 envs; \n",
      " and {y} threads\n"
     ]
    }
   ],
   "source": [
    "def make(x,y):\n",
    "    print(f\"making {x} envs; \\n\"\n",
    "          f\" and {y} threads\")\n",
    "make(42,3)"
   ],
   "metadata": {
    "collapsed": false,
    "pycharm": {
     "name": "#%%\n"
    }
   }
  },
  {
   "cell_type": "code",
   "execution_count": 14,
   "outputs": [
    {
     "name": "stdout",
     "output_type": "stream",
     "text": [
      "3\n",
      "3\n",
      "2\n",
      "2\n",
      "3\n",
      "3\n",
      "3\n",
      "3\n",
      "3\n"
     ]
    }
   ],
   "source": [
    "for obs_space, act_space in zip(observations_spaces, actions_spaces):\n",
    "    print(act_space.shape[0])"
   ],
   "metadata": {
    "collapsed": false,
    "pycharm": {
     "name": "#%%\n"
    }
   }
  },
  {
   "cell_type": "code",
   "execution_count": 19,
   "outputs": [],
   "source": [
    "obs = env.reset()\n",
    "observations_spaces = env.observation_spaces\n",
    "actions_spaces = env.action_spaces"
   ],
   "metadata": {
    "collapsed": false,
    "pycharm": {
     "name": "#%%\n"
    }
   }
  },
  {
   "cell_type": "code",
   "execution_count": 20,
   "outputs": [
    {
     "name": "stdout",
     "output_type": "stream",
     "text": [
      "[Box([ 1.    1.    1.   -4.15 -4.41 -4.72 -5.34 14.38 14.33 14.29 14.19  0.\n",
      " -0.    0.    0.    0.   -0.    0.    0.   16.8  11.17  7.42  0.    0.\n",
      "  0.    0.    0.    0.  ], [1.2000000e+01 8.0000000e+00 2.4000000e+01 3.6700001e+01 3.6970001e+01\n",
      " 3.7279999e+01 3.7910000e+01 1.0000000e+02 1.0250000e+02 1.0500000e+02\n",
      " 1.0999000e+02 4.9162000e+02 5.0142001e+02 5.1122000e+02 5.3081000e+02\n",
      " 1.2126200e+03 1.2308300e+03 1.2532200e+03 1.2979900e+03 2.6379999e+01\n",
      " 9.2389999e+01 7.0910004e+01 9.9999962e+01 1.0000000e+00 1.0000000e+00\n",
      " 1.0000000e+00 3.3668436e+02 6.8709970e-01], (28,), float32), Box([ 1.    1.    1.   -4.15 -4.41 -4.72 -5.34 14.38 14.33 14.29 14.19  0.\n",
      " -0.    0.    0.    0.   -0.    0.    0.   18.91  7.01  1.92  0.    0.\n",
      "  0.    0.    0.    0.  ], [1.200000e+01 8.000000e+00 2.400000e+01 3.670000e+01 3.697000e+01\n",
      " 3.728000e+01 3.791000e+01 1.000000e+02 1.025000e+02 1.050000e+02\n",
      " 1.099900e+02 4.916200e+02 5.014200e+02 5.112200e+02 5.308100e+02\n",
      " 1.212620e+03 1.230830e+03 1.253220e+03 1.297990e+03 2.883000e+01\n",
      " 7.161000e+01 1.407000e+01 0.000000e+00 1.000000e+00 1.000000e+00\n",
      " 1.000000e+00 1.079425e+02 6.870997e-01], (28,), float32), Box([ 1.    1.    1.   -4.15 -4.41 -4.72 -5.34 14.38 14.33 14.29 14.19  0.\n",
      " -0.    0.    0.    0.   -0.    0.    0.   17.36 13.69  1.77  0.    0.\n",
      "  0.    0.    0.  ], [1.200000e+01 8.000000e+00 2.400000e+01 3.670000e+01 3.697000e+01\n",
      " 3.728000e+01 3.791000e+01 1.000000e+02 1.025000e+02 1.050000e+02\n",
      " 1.099900e+02 4.916200e+02 5.014200e+02 5.112200e+02 5.308100e+02\n",
      " 1.212620e+03 1.230830e+03 1.253220e+03 1.297990e+03 2.529000e+01\n",
      " 9.018000e+01 1.074000e+01 0.000000e+00 1.000000e+00 1.000000e+00\n",
      " 2.190800e+02 6.870997e-01], (27,), float32), Box([ 1.    1.    1.   -4.15 -4.41 -4.72 -5.34 14.38 14.33 14.29 14.19  0.\n",
      " -0.    0.    0.    0.   -0.    0.    0.   16.83  9.27  0.44  0.    0.\n",
      "  0.    0.    0.    0.  ], [1.2000000e+01 8.0000000e+00 2.4000000e+01 3.6700001e+01 3.6970001e+01\n",
      " 3.7279999e+01 3.7910000e+01 1.0000000e+02 1.0250000e+02 1.0500000e+02\n",
      " 1.0999000e+02 4.9162000e+02 5.0142001e+02 5.1122000e+02 5.3081000e+02\n",
      " 1.2126200e+03 1.2308300e+03 1.2532200e+03 1.2979900e+03 2.7400000e+01\n",
      " 9.6739998e+01 8.0600004e+00 3.3333321e+01 1.0000000e+00 1.0000000e+00\n",
      " 1.0000000e+00 2.4136928e+02 6.8709970e-01], (28,), float32), Box([ 1.    1.    1.   -4.15 -4.41 -4.72 -5.34 14.38 14.33 14.29 14.19  0.\n",
      " -0.    0.    0.    0.   -0.    0.    0.   21.48 10.18  3.3   0.    0.\n",
      "  0.    0.    0.    0.  ], [1.2000000e+01 8.0000000e+00 2.4000000e+01 3.6700001e+01 3.6970001e+01\n",
      " 3.7279999e+01 3.7910000e+01 1.0000000e+02 1.0250000e+02 1.0500000e+02\n",
      " 1.0999000e+02 4.9162000e+02 5.0142001e+02 5.1122000e+02 5.3081000e+02\n",
      " 1.2126200e+03 1.2308300e+03 1.2532200e+03 1.2979900e+03 2.4709999e+01\n",
      " 8.0269997e+01 3.1700001e+01 2.0833324e+01 1.0000000e+00 1.0000000e+00\n",
      " 1.0000000e+00 9.8859276e+01 6.8709970e-01], (28,), float32), Box([ 1.    1.    1.   -4.15 -4.41 -4.72 -5.34 14.38 14.33 14.29 14.19  0.\n",
      " -0.    0.    0.    0.   -0.    0.    0.   22.   11.73  3.2   0.    0.\n",
      "  0.    0.    0.    0.  ], [1.200000e+01 8.000000e+00 2.400000e+01 3.670000e+01 3.697000e+01\n",
      " 3.728000e+01 3.791000e+01 1.000000e+02 1.025000e+02 1.050000e+02\n",
      " 1.099900e+02 4.916200e+02 5.014200e+02 5.112200e+02 5.308100e+02\n",
      " 1.212620e+03 1.230830e+03 1.253220e+03 1.297990e+03 2.450000e+01\n",
      " 7.492000e+01 3.060000e+01 1.666666e+01 1.000000e+00 1.000000e+00\n",
      " 1.000000e+00 9.252524e+01 6.870997e-01], (28,), float32), Box([ 1.    1.    1.   -4.15 -4.41 -4.72 -5.34 14.38 14.33 14.29 14.19  0.\n",
      " -0.    0.    0.    0.   -0.    0.    0.   21.47 10.57  3.7   0.    0.\n",
      "  0.    0.    0.    0.  ], [1.200000e+01 8.000000e+00 2.400000e+01 3.670000e+01 3.697000e+01\n",
      " 3.728000e+01 3.791000e+01 1.000000e+02 1.025000e+02 1.050000e+02\n",
      " 1.099900e+02 4.916200e+02 5.014200e+02 5.112200e+02 5.308100e+02\n",
      " 1.212620e+03 1.230830e+03 1.253220e+03 1.297990e+03 2.380000e+01\n",
      " 7.349000e+01 2.930000e+01 0.000000e+00 1.000000e+00 1.000000e+00\n",
      " 1.000000e+00 1.161600e+02 6.870997e-01], (28,), float32), Box([ 1.    1.    1.   -4.15 -4.41 -4.72 -5.34 14.38 14.33 14.29 14.19  0.\n",
      " -0.    0.    0.    0.   -0.    0.    0.   22.41 10.17  2.6   0.    0.\n",
      "  0.    0.    0.    0.  ], [1.200000e+01 8.000000e+00 2.400000e+01 3.670000e+01 3.697000e+01\n",
      " 3.728000e+01 3.791000e+01 1.000000e+02 1.025000e+02 1.050000e+02\n",
      " 1.099900e+02 4.916200e+02 5.014200e+02 5.112200e+02 5.308100e+02\n",
      " 1.212620e+03 1.230830e+03 1.253220e+03 1.297990e+03 2.499000e+01\n",
      " 8.118000e+01 3.020000e+01 0.000000e+00 1.000000e+00 1.000000e+00\n",
      " 1.000000e+00 9.870000e+01 6.870997e-01], (28,), float32), Box([ 1.    1.    1.   -4.15 -4.41 -4.72 -5.34 14.38 14.33 14.29 14.19  0.\n",
      " -0.    0.    0.    0.   -0.    0.    0.   22.29 10.16  4.6   0.    0.\n",
      "  0.    0.    0.    0.  ], [1.200000e+01 8.000000e+00 2.400000e+01 3.670000e+01 3.697000e+01\n",
      " 3.728000e+01 3.791000e+01 1.000000e+02 1.025000e+02 1.050000e+02\n",
      " 1.099900e+02 4.916200e+02 5.014200e+02 5.112200e+02 5.308100e+02\n",
      " 1.212620e+03 1.230830e+03 1.253220e+03 1.297990e+03 2.515000e+01\n",
      " 7.717000e+01 3.160000e+01 0.000000e+00 1.000000e+00 1.000000e+00\n",
      " 1.000000e+00 9.425000e+01 6.870997e-01], (28,), float32)]\n"
     ]
    }
   ],
   "source": [
    "print(observations_spaces)"
   ],
   "metadata": {
    "collapsed": false,
    "pycharm": {
     "name": "#%%\n"
    }
   }
  },
  {
   "cell_type": "code",
   "execution_count": 24,
   "outputs": [
    {
     "name": "stdout",
     "output_type": "stream",
     "text": [
      "27\n"
     ]
    }
   ],
   "source": [
    "obs = env.reset()\n",
    "ob = obs[2]\n",
    "print(len(ob))"
   ],
   "metadata": {
    "collapsed": false,
    "pycharm": {
     "name": "#%%\n"
    }
   }
  },
  {
   "cell_type": "code",
   "execution_count": 22,
   "outputs": [
    {
     "data": {
      "text/plain": "[28, 28, 27, 28, 28, 28, 28, 28, 28]"
     },
     "execution_count": 22,
     "metadata": {},
     "output_type": "execute_result"
    }
   ],
   "source": [
    "[obsp.shape[0] for obsp in observations_spaces]"
   ],
   "metadata": {
    "collapsed": false,
    "pycharm": {
     "name": "#%%\n"
    }
   }
  },
  {
   "cell_type": "code",
   "execution_count": null,
   "outputs": [],
   "source": [],
   "metadata": {
    "collapsed": false,
    "pycharm": {
     "name": "#%%\n"
    }
   }
  }
 ],
 "metadata": {
  "kernelspec": {
   "display_name": "Python 3",
   "language": "python",
   "name": "python3"
  },
  "language_info": {
   "codemirror_mode": {
    "name": "ipython",
    "version": 3
   },
   "file_extension": ".py",
   "mimetype": "text/x-python",
   "name": "python",
   "nbconvert_exporter": "python",
   "pygments_lexer": "ipython3",
   "version": "3.8.5"
  }
 },
 "nbformat": 4,
 "nbformat_minor": 4
}