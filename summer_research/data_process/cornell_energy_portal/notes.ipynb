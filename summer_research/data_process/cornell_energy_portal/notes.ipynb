{
 "cells": [
  {
   "cell_type": "markdown",
   "source": [
    "### Questions\n",
    "#### Data Processing\n",
    "- Should we use hourly data or daily data? What's the ideal time range?\n",
    "- Some significant changes occurred during the first half of year 2020 due to the pandemic?\n",
    "- How to deal with the missing data? What functionality can we utilize in the pandas package?\n",
    "- What about the extreme outliers? e.g. Carpenter Chilled Water\n",
    "- How to combine Rhodes 2 Electric meters data? And what does CIT stand for?\n",
    "#### RL Implementations\n",
    "- How to debug and test the RL algorithms implementations?"
   ],
   "metadata": {
    "collapsed": false,
    "pycharm": {
     "name": "#%% md\n"
    }
   }
  },
  {
   "cell_type": "code",
   "execution_count": null,
   "outputs": [],
   "source": [],
   "metadata": {
    "collapsed": false,
    "pycharm": {
     "name": "#%%\n"
    }
   }
  }
 ],
 "metadata": {
  "kernelspec": {
   "display_name": "Python 3",
   "language": "python",
   "name": "python3"
  },
  "language_info": {
   "codemirror_mode": {
    "name": "ipython",
    "version": 2
   },
   "file_extension": ".py",
   "mimetype": "text/x-python",
   "name": "python",
   "nbconvert_exporter": "python",
   "pygments_lexer": "ipython2",
   "version": "2.7.6"
  }
 },
 "nbformat": 4,
 "nbformat_minor": 0
}